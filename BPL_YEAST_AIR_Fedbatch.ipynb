{
 "cells": [
  {
   "cell_type": "markdown",
   "id": "e8f3a528",
   "metadata": {},
   "source": [
    "# BPL_YEAST_AIR_Fedbatch - demo"
   ]
  },
  {
   "cell_type": "markdown",
   "id": "064cbebb",
   "metadata": {},
   "source": [
    "Author: Jan Peter Axelsson\n",
    "\n",
    "This notebook demonstrate yeast fedbatch cultivation. We look at impact of changes in the glucose feeding. We also take a look at tuning of the DO-control system. Both liquid- and gasphase are included in the model. The culture growth and metabolism are formulated in relation to to the cells respiratory capacity [1] as well as oxygen limitation in the reactor. The model is exapanded to describe also the gas phase as well as the culture heat production [2]. The model was derived mainly from continuous culture data but proved to capture dynamic aspects well of ethanol production and consumption [3]. Several cultivations where donw with ethnol control that facilatated high cell density cultivations [4]. \n",
    "\n",
    "Interaction with the compiled model as FMU is mainly through the simplified commands: par(), init(), newplot(), simu() etc. The last simulation is always available in the workspace and called 'sim_res'. The command describe() brings mainly up description infomration from the actual Modelica code from the FMU but is complemented with information given in the dedicated Python setup-file.\n",
    "\n",
    "The idea is to demonstrate how simulations and varyiing conditions can provide some process insight that can support the experimetnal work. I hope that at the end of this session you are ready to formulate your own questions you want to address with simulations - and you can just go on in this notebook! Just press the field \"+Code\" in the upper left part of notebook interface and you get a new \"cell\" where you write your own code. You can copy and paste from cells above using ctrol-c and ctrl-p as usual and edit the cell. When your are ready to execute the cell just press the \"play button\" to the left in the cell or press shift-enter as in \"ordinary\" Jupyter notebooks.\n",
    "\n",
    "After a session you may want to save your own notebook. That you can do on your Google Drive account and I refer to Colab instructions for how to do this. It is easy. \n",
    "\n",
    "Enjoy!"
   ]
  },
  {
   "cell_type": "code",
   "execution_count": 1,
   "id": "4ffa658d",
   "metadata": {},
   "outputs": [
    {
     "ename": "ModuleNotFoundError",
     "evalue": "No module named 'pyfmi'",
     "output_type": "error",
     "traceback": [
      "\u001b[1;31m---------------------------------------------------------------------------\u001b[0m",
      "\u001b[1;31mModuleNotFoundError\u001b[0m                       Traceback (most recent call last)",
      "File \u001b[1;32m\\\\VBoxSvr\\Modelica\\GitHub\\Colab\\BPL_YEAST_AIR_Fedbatch\\BPL_YEAST_AIR_Fedbatch_DOcontrol_explore.py:88\u001b[0m\n\u001b[0;32m     85\u001b[0m \u001b[38;5;28;01mimport\u001b[39;00m\u001b[38;5;250m \u001b[39m\u001b[38;5;21;01mmatplotlib\u001b[39;00m\u001b[38;5;21;01m.\u001b[39;00m\u001b[38;5;21;01mimage\u001b[39;00m\u001b[38;5;250m \u001b[39m\u001b[38;5;28;01mas\u001b[39;00m\u001b[38;5;250m \u001b[39m\u001b[38;5;21;01mimg\u001b[39;00m\n\u001b[0;32m     86\u001b[0m \u001b[38;5;28;01mimport\u001b[39;00m\u001b[38;5;250m \u001b[39m\u001b[38;5;21;01mzipfile\u001b[39;00m \n\u001b[1;32m---> 88\u001b[0m \u001b[38;5;28;01mfrom\u001b[39;00m\u001b[38;5;250m \u001b[39m\u001b[38;5;21;01mpyfmi\u001b[39;00m\u001b[38;5;250m \u001b[39m\u001b[38;5;28;01mimport\u001b[39;00m load_fmu\n\u001b[0;32m     89\u001b[0m \u001b[38;5;28;01mfrom\u001b[39;00m\u001b[38;5;250m \u001b[39m\u001b[38;5;21;01mpyfmi\u001b[39;00m\u001b[38;5;21;01m.\u001b[39;00m\u001b[38;5;21;01mfmi\u001b[39;00m\u001b[38;5;250m \u001b[39m\u001b[38;5;28;01mimport\u001b[39;00m FMUException\n\u001b[0;32m     91\u001b[0m \u001b[38;5;28;01mfrom\u001b[39;00m\u001b[38;5;250m \u001b[39m\u001b[38;5;21;01mitertools\u001b[39;00m\u001b[38;5;250m \u001b[39m\u001b[38;5;28;01mimport\u001b[39;00m cycle\n",
      "\u001b[1;31mModuleNotFoundError\u001b[0m: No module named 'pyfmi'"
     ]
    }
   ],
   "source": [
    "run -i BPL_YEAST_AIR_Fedbatch_DOcontrol_explore.py"
   ]
  },
  {
   "cell_type": "code",
   "execution_count": 2,
   "id": "2ac8d42a",
   "metadata": {},
   "outputs": [],
   "source": [
    "plt.rcParams['figure.figsize'] = [36/2.54, 30/2.54]"
   ]
  },
  {
   "cell_type": "markdown",
   "id": "732039de",
   "metadata": {},
   "source": [
    "## About the process model\n",
    "\n",
    "We can get information about the process, liquid- and gas-phase by the command describe(). This command can also be used to bring up information about a specific variable or parameter. However, you should use describe() after a simulation to get the valued used during the simulation."
   ]
  },
  {
   "cell_type": "code",
   "execution_count": 3,
   "id": "acc0d5bb",
   "metadata": {},
   "outputs": [
    {
     "ename": "NameError",
     "evalue": "name 'describe' is not defined",
     "output_type": "error",
     "traceback": [
      "\u001b[1;31m---------------------------------------------------------------------------\u001b[0m",
      "\u001b[1;31mNameError\u001b[0m                                 Traceback (most recent call last)",
      "Cell \u001b[1;32mIn[3], line 1\u001b[0m\n\u001b[1;32m----> 1\u001b[0m \u001b[43mdescribe\u001b[49m(\u001b[38;5;124m'\u001b[39m\u001b[38;5;124mculture\u001b[39m\u001b[38;5;124m'\u001b[39m); \u001b[38;5;66;03m#print(); describe('liquidphase'); print(); describe('gasphase')\u001b[39;00m\n",
      "\u001b[1;31mNameError\u001b[0m: name 'describe' is not defined"
     ]
    }
   ],
   "source": [
    "describe('culture'); #print(); describe('liquidphase'); print(); describe('gasphase')"
   ]
  },
  {
   "cell_type": "markdown",
   "id": "e0e3f1dc",
   "metadata": {},
   "source": [
    "The model of the process has parameters both for culture, gas_liquid_transfer, as well as feeding procedure. The paramters that are available for changes you find by the command disp() and you get a long list and you change by them by command par(). The model has even more parameters in the background but not made available for interaction. "
   ]
  },
  {
   "cell_type": "code",
   "execution_count": null,
   "id": "ab36e2fa-cce5-475e-86c9-f537904d9313",
   "metadata": {},
   "outputs": [],
   "source": [
    "process_diagram()"
   ]
  },
  {
   "cell_type": "markdown",
   "id": "256337ca",
   "metadata": {},
   "source": [
    "## First simulations - adjusting start of substrate feeding"
   ]
  },
  {
   "cell_type": "code",
   "execution_count": null,
   "id": "b42c69e1",
   "metadata": {
    "scrolled": true
   },
   "outputs": [],
   "source": [
    "# Culture parameters and others at default values\n",
    "par(qO2max=0.0069) \n",
    "\n",
    "# Process initial conditions\n",
    "init(V_start=4.5, VG_start=4.5*30, VX_start=4.5*2, VE_start=4.5*0) \n",
    "\n",
    "# Feed profile\n",
    "par(t_startExp=9, F_startExp=0.044, mu_feed=0.20, F_max=0.18)  \n",
    "\n",
    "# DO-control parameters\n",
    "#par(samplePeriod=1/60, K=10, Ti=0.5, I_0=500)   \n",
    "par(K=10, Ti=0.5, I_start=0)   \n",
    "\n",
    "# Simulate and plot\n",
    "newplot(title='Yeast fedbatch cultivation', plotType='Overview')\n",
    "simu(20)"
   ]
  },
  {
   "cell_type": "markdown",
   "id": "5d99c20b",
   "metadata": {},
   "source": [
    "Now we can get value of broth volume as well as the headspace and values are the last ones in the simulation"
   ]
  },
  {
   "cell_type": "code",
   "execution_count": null,
   "id": "8b803ffe",
   "metadata": {},
   "outputs": [],
   "source": [
    "describe('bioreactor.V')"
   ]
  },
  {
   "cell_type": "code",
   "execution_count": null,
   "id": "42db6343",
   "metadata": {},
   "outputs": [],
   "source": [
    "describe('bioreactor.V_gasphase')"
   ]
  },
  {
   "cell_type": "code",
   "execution_count": null,
   "id": "f40e0912",
   "metadata": {},
   "outputs": [],
   "source": [
    "# Take a look at the parameters available to adjust the dosage scheme\n",
    "disp('dosage', decimals=4)"
   ]
  },
  {
   "cell_type": "code",
   "execution_count": null,
   "id": "b9312bd4",
   "metadata": {},
   "outputs": [],
   "source": [
    "# Let us start the feeding just after the batch phase has ended and keep other parameters the same\n",
    "par(t_startExp=8.1)\n",
    "\n",
    "# Simulate and plot\n",
    "newplot(title='Yeast fedbatch cultivation', plotType='Overview')\n",
    "simu(20)"
   ]
  },
  {
   "cell_type": "markdown",
   "id": "a7daaaa8",
   "metadata": {},
   "source": [
    "The increase of DO to about 50 % at end of batch phase should be possible to detect easily. This simulation is more realistic and we use these settings from now on."
   ]
  },
  {
   "cell_type": "markdown",
   "id": "569beaed",
   "metadata": {},
   "source": [
    "## DO-control  - tuning of PI-regulator parameters\n",
    "\n",
    "Let us focus on the DO-control system and choose a more limited plotType. We study the impact of PI control parameters and see if we can decrease the control error without looing stability."
   ]
  },
  {
   "cell_type": "code",
   "execution_count": null,
   "id": "73040758",
   "metadata": {},
   "outputs": [],
   "source": [
    "# Let us take a closer look at the DO-control system and try to make control error smaller by increaseing K\n",
    "newplot(title='Yeast fedbatch cultivation - DO-control - increase K', plotType='Focus DO-control')\n",
    "for value in [10, 20, 40]: par(K=value); simu(20)\n",
    "\n",
    "# Reset K to the original value\n",
    "par(K=10)"
   ]
  },
  {
   "cell_type": "markdown",
   "id": "ca51b365",
   "metadata": {},
   "source": [
    "We see that by a higher control gain K the DO-control error get smaller and the stability of the control system is maintained."
   ]
  },
  {
   "cell_type": "markdown",
   "id": "399c1aa1",
   "metadata": {},
   "source": [
    "**Exercise** I leave for you to study the impact variation of the Ti-parameter. Just make a new cell below. Then copy and paste the cell above and change parameter to Ti."
   ]
  },
  {
   "cell_type": "markdown",
   "id": "d883a64b",
   "metadata": {},
   "source": [
    "## Sensitivity to changes in feed-profile\n",
    "\n",
    "Now, let us focus on investigating impact of changes in the feed-profile. The goal is to increase the produced cell mass without accumulation of by-product ethanol. Simulation can bring some insight into how behaviour of the differen variables change when by-product is formed. This insight can help to interpret experimental results."
   ]
  },
  {
   "cell_type": "code",
   "execution_count": null,
   "id": "d46509ca",
   "metadata": {},
   "outputs": [],
   "source": [
    "# Let us check the sensitivity to changes in the feed profile design\n",
    "newplot(title='Yeast fedbatch cultivation', plotType='Overview')\n",
    "for value in [0.044, 0.038, 0.050]: par(F_startExp=value); simu(20)"
   ]
  },
  {
   "cell_type": "markdown",
   "id": "3cbba88f",
   "metadata": {},
   "source": [
    "The variation in F_start has an impact and we see that the actual growth rate during fedbatch phase do converge to the set growth rate of the feed, but i takes more than 5 hours."
   ]
  },
  {
   "cell_type": "code",
   "execution_count": null,
   "id": "45ed9d80",
   "metadata": {},
   "outputs": [],
   "source": [
    "# Let us investigate a feedprofile that is closer to the maximal capacity\n",
    "newplot(title='Yeast fedbatch cultivation', plotType='Overview')\n",
    "par(F_startExp=0.044, mu_feed=0.20); simu(20)\n",
    "par(F_startExp=0.050, mu_feed=0.22); simu(20)\n",
    "par(F_startExp=0.057, mu_feed=0.26); simu(20)"
   ]
  },
  {
   "cell_type": "code",
   "execution_count": null,
   "id": "38d879b6",
   "metadata": {},
   "outputs": [],
   "source": [
    "# And let us see what happens if the feedprofile exceed the culture capacity\n",
    "newplot(title='Yeast fedbatch cultivation', plotType='Overview')\n",
    "par(F_startExp=0.057, mu_feed=0.26); simu(20)\n",
    "par(F_startExp=0.063, mu_feed=0.28); simu(20)\n",
    "par(F_startExp=0.044, mu_feed=0.20)"
   ]
  },
  {
   "cell_type": "markdown",
   "id": "1af6e527",
   "metadata": {},
   "source": [
    "Note that with the feedprofile that exceed culture respiratory capacity, ethanol is accumulated during time 8-12.5 hours. When the feedprofile then is constant from time 12.5 hours and on, then the accumulated ethanol is consumed over about an hour. This leads to a higher oxygen demand and heat production during this time. The specific cell growth rate is also slightly higher during this period."
   ]
  },
  {
   "cell_type": "markdown",
   "id": "d1a0c114",
   "metadata": {},
   "source": [
    "**Exercise** You can investiate the impact of changing the maximal feedrate F_max. Make sure that the DO level do not get too low."
   ]
  },
  {
   "cell_type": "markdown",
   "id": "54c874a9-3c21-47b8-9ac5-bc31774e7221",
   "metadata": {},
   "source": [
    "## Sensitivity to low dissolved oxygen levels\n",
    "The detailed understanding of process dynamics at very low dissolved oxygen levels is not that well studied, to the authors knowledge. Here is a section on \"Growth under oxygen limiation\" in the original paper [1]. This model we use here. The idea is that the oxygen uptake is essentially described with a Monod-function with a parameter here denoted KsO2. At higher dissolved oxygen levels the uptake is saturated by the respiratory capacity and in our model denoted qO2max. Thus, at lower dissolved oxygen levels the respiration capacity is lowered and denoted here qO2lim and at sufficiently high dissolved oygen levels the qO2lim corresponds to qO2max. The value of qO2lim controls metabolism and growth. \n",
    "\n",
    "$$\n",
    "qO2_{lim} = qO2^{max} {c[O2] \\over KsO2 + c[O2]}\n",
    "$$\n",
    "\n",
    "The process dyanmics for variation of glucose feed rate around the respiratory capacity under well-aerated condtions are well described in [3]. It would be interesting to make similar studies at low dissolved oxygens levels. Also interesting to describe the impact of variation in the aeration during condition of a constant glucose supply to see the impact of ethanol production and consumption this way. \n",
    "\n",
    "During the time 1980-90 there was an interest to study the impact variation in dissolved oxygen in two-reactor setups [5]. In the smaller reactor dissolved oxygen level was low while higher in the larger reactor and the culture was circulated in the system at a rate related to typical mixing times in a large reactor. This experimental setup has been simulated with Bioprocess Library with focus on substrate gradients rather than oxygen gradients [6]. "
   ]
  },
  {
   "cell_type": "code",
   "execution_count": null,
   "id": "bfbd0d6a-3df9-49eb-a27a-25bec52c2cfc",
   "metadata": {},
   "outputs": [],
   "source": [
    "# Let us instead see what happens when the aeration read a limit in terms of stirrer speed.\n",
    "newplot(title='Yeast fedbatch cultivation', plotType='Overview'); ax22.set_ylim([-0.005,0.005])\n",
    "par(KsO2=1e-5)\n",
    "par(F_startExp=0.057, mu_feed=0.26); simu(20)\n",
    "par(F_startExp=0.057, mu_feed=0.26, N_high=900); simu(20)\n",
    "par(F_startExp=0.044, mu_feed=0.20, N_high=2000)"
   ]
  },
  {
   "cell_type": "markdown",
   "id": "55ad1914-56c0-4714-948f-86dd7eddaf8a",
   "metadata": {},
   "source": [
    "We see that after 10 hours the maximal stirrer speed is reached and that limits oxygen transfer and dissolved oxygen goes down. At about 12.5 hours the dissolved oxygen has come down to low levels that limits the specfic oxygen uptake rate and lower than the specific respiraotry capacity and we get ethanol production. "
   ]
  },
  {
   "cell_type": "markdown",
   "id": "89bd94e2",
   "metadata": {},
   "source": [
    "## Summary\n",
    "* We have first seen an overview diagram of a typical yeast fedbatch cultivation where the feed started about an hour after the batch phase was finished. A new simulation was made where the feed started directly after detection of lack of substrate.\n",
    "* We also took a look at the DO-control system and saw that we could decrease the control error by increasing the PI-controller gain. Stability of the control system remained.\n",
    "* Then we tested variations in the feed dosage scheme and investigated the possibilities to increae the production.\n",
    "* We saw what happens if the feed dosage exceed the culture respiratory capacity and what to look for during the experimental work.\n",
    "* We also saw what happens if the aeration is limiting and the tendency of the culture to produce ethanol. "
   ]
  },
  {
   "cell_type": "markdown",
   "id": "8193cd9f",
   "metadata": {},
   "source": [
    "## References\n",
    "\n",
    "[1] Sonnleitner, B. and O. Käppeli \"Growth of *Sacharomyces cerevisiae* is controlled by its limited respiratory capacity: formulationa and verification of a hypothesis\", Biotech. Bioeng., 1986.\n",
    "\n",
    "[2] von Stockar, U., Gustafsson, L., Larsson, C., Marison, I., Tissot, P. and Gnaiger E. \"Thermodynamic considerations in constructing energy balances for cellular growth\", Biochimica et Biophysics Acta, vol 1183, p 221-240, 1993. \n",
    "\n",
    "[3] Axelsson, J. P. \"Experimental techniques and data analysis to determine baker's yeast ethanol dynamics\", Anal. Chim. Acta, vol 213, p 151-163, 1988.\n",
    "\n",
    "[4] Axelsson, J. P., C. F. Mandenius, O. Holst, P. Hagander and B. Mattiasson \"Experience in using an ethanol sensor to control molsses feed-rates in Baker's yeast production\", Bioprocess Engineering, vol 3, p 1-9, 1988.\n",
    "\n",
    "[5] Sweere, A. P. J., Matla, Y. A., Zandvliet, J., Luyben, K. C. A. M., Kossen, N. W. F., ”Experimental simulation of glucose fluctuation”, Appl. Microbial. Biotechnol., Vol 28, pg 109-‑115, 1988.\n",
    "\n",
    "[6] Axelsson, J.P., “Investigation of effects of a hot-spot in bioprocess control”, oral presentation, Nordic Process Control Workshop, Sigtuna, Sweden, August 24-26, 2016.\n"
   ]
  },
  {
   "cell_type": "markdown",
   "id": "e15285fd",
   "metadata": {},
   "source": [
    "## Appendix"
   ]
  },
  {
   "cell_type": "code",
   "execution_count": null,
   "id": "84b7bc41-b339-43be-bcee-13b7a6341f5a",
   "metadata": {},
   "outputs": [],
   "source": [
    "disp('culture', decimals=5, mode='long')"
   ]
  },
  {
   "cell_type": "code",
   "execution_count": null,
   "id": "cb97aaf8-2023-41f7-805b-bbc6f7896ab9",
   "metadata": {},
   "outputs": [],
   "source": [
    "describe('qO2lim', decimals=5)"
   ]
  },
  {
   "cell_type": "code",
   "execution_count": null,
   "id": "64e233f0-bf35-48f9-bd0d-e3339f072a17",
   "metadata": {},
   "outputs": [],
   "source": [
    "# Specific growth rate at the end of the last cultivation\n",
    "describe('mu')"
   ]
  },
  {
   "cell_type": "code",
   "execution_count": null,
   "id": "3bb43695",
   "metadata": {},
   "outputs": [],
   "source": [
    "# List of components in the process setup and also a couple of other things like liquidphase and gasphase etc\n",
    "describe('parts')"
   ]
  },
  {
   "cell_type": "code",
   "execution_count": null,
   "id": "97440bea",
   "metadata": {},
   "outputs": [],
   "source": [
    "describe('MSL')"
   ]
  },
  {
   "cell_type": "code",
   "execution_count": null,
   "id": "59822bcc",
   "metadata": {},
   "outputs": [],
   "source": [
    "system_info()"
   ]
  },
  {
   "cell_type": "code",
   "execution_count": null,
   "id": "2375a470-cd5b-4dc8-8b1c-e9d9dd4ff9dc",
   "metadata": {},
   "outputs": [],
   "source": [
    "model.get('PIreg.Ti')"
   ]
  },
  {
   "cell_type": "code",
   "execution_count": null,
   "id": "95094ff3-5e72-4dcf-9acd-4c28713a0920",
   "metadata": {},
   "outputs": [],
   "source": [
    "model.get('PIreg.Td')"
   ]
  },
  {
   "cell_type": "code",
   "execution_count": null,
   "id": "f7a5f05c-2a95-490d-aaab-919c1d4640d3",
   "metadata": {},
   "outputs": [],
   "source": [
    "model.get('PIreg.D_start')"
   ]
  },
  {
   "cell_type": "code",
   "execution_count": null,
   "id": "57f1cb66-4d9a-4037-98ae-a77cf2c586f5",
   "metadata": {},
   "outputs": [],
   "source": [
    "model.get('PIreg.limPID.controllerType')"
   ]
  },
  {
   "cell_type": "code",
   "execution_count": null,
   "id": "642fa551-62f6-457e-8b07-73f60ebb1ffd",
   "metadata": {},
   "outputs": [],
   "source": []
  }
 ],
 "metadata": {
  "kernelspec": {
   "display_name": "Python 3 (ipykernel)",
   "language": "python",
   "name": "python3"
  },
  "language_info": {
   "codemirror_mode": {
    "name": "ipython",
    "version": 3
   },
   "file_extension": ".py",
   "mimetype": "text/x-python",
   "name": "python",
   "nbconvert_exporter": "python",
   "pygments_lexer": "ipython3",
   "version": "3.12.8"
  }
 },
 "nbformat": 4,
 "nbformat_minor": 5
}
