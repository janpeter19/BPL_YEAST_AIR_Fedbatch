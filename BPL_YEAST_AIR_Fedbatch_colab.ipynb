{
 "cells": [
  {
   "cell_type": "markdown",
   "metadata": {
    "colab_type": "text",
    "id": "view-in-github"
   },
   "source": [
    "<a href=\"https://colab.research.google.com/github/janpeter19/BPL_YEAST_AIR_Fedbatch/blob/main/BPL_YEAST_AIR_Fedbatch_colab.ipynb\" target=\"_parent\"><img src=\"https://colab.research.google.com/assets/colab-badge.svg\" alt=\"Open In Colab\"/></a>"
   ]
  },
  {
   "cell_type": "markdown",
   "metadata": {
    "id": "UFcMzs4Y3HwH"
   },
   "source": [
    "# BPL_YEAST_AIR_Fedbatch script with PyFMI ver 2.7.4\n",
    "\n",
    "The key library PyFMI v2.7.4 is installed and downgrading is done Numpy v1.19.1. To simplify this we first install conda.\n",
    "\n",
    "After the installation a small application BPL_YEAST_AIR_Fedbatch is loaded and run. You can continue with this example if you like."
   ]
  },
  {
   "cell_type": "code",
   "execution_count": 1,
   "metadata": {
    "colab": {
     "base_uri": "https://localhost:8080/"
    },
    "id": "ID68dwep2zus",
    "outputId": "704adaa4-cee7-406f-e4dc-f5d8d1ffc7da"
   },
   "outputs": [
    {
     "name": "stdout",
     "output_type": "stream",
     "text": [
      "No LSB modules are available.\r\n",
      "Distributor ID:\tUbuntu\r\n",
      "Description:\tUbuntu 20.04.5 LTS\r\n",
      "Release:\t20.04\r\n",
      "Codename:\tfocal\r\n"
     ]
    }
   ],
   "source": [
    "!lsb_release -a # Actual VM Ubuntu version used by Google"
   ]
  },
  {
   "cell_type": "code",
   "execution_count": 2,
   "metadata": {
    "colab": {
     "base_uri": "https://localhost:8080/"
    },
    "id": "pVDcSg-j3SSV",
    "outputId": "35a7e256-9d7a-42d6-c55e-29487e55ac67"
   },
   "outputs": [
    {
     "name": "stdout",
     "output_type": "stream",
     "text": [
      "env: PYTHONPATH=\n"
     ]
    }
   ],
   "source": [
    "%env PYTHONPATH="
   ]
  },
  {
   "cell_type": "code",
   "execution_count": 3,
   "metadata": {
    "colab": {
     "base_uri": "https://localhost:8080/"
    },
    "id": "04VeBmLU3UFx",
    "outputId": "bfb06da1-3ae4-4f7f-eba2-0683a1eed6d6"
   },
   "outputs": [
    {
     "name": "stdout",
     "output_type": "stream",
     "text": [
      "--2023-02-20 17:03:34--  https://repo.anaconda.com/miniconda/Miniconda3-py37_4.12.0-Linux-x86_64.sh\n",
      "Resolving repo.anaconda.com (repo.anaconda.com)... 104.16.131.3, 104.16.130.3, 2606:4700::6810:8303, ...\n",
      "Connecting to repo.anaconda.com (repo.anaconda.com)|104.16.131.3|:443... connected.\n",
      "HTTP request sent, awaiting response... 200 OK\n",
      "Length: 104996770 (100M) [application/x-sh]\n",
      "Saving to: ‘Miniconda3-py37_4.12.0-Linux-x86_64.sh’\n",
      "\n",
      "Miniconda3-py37_4.1 100%[===================>] 100,13M  10,8MB/s    in 8,9s    \n",
      "\n",
      "2023-02-20 17:03:43 (11,2 MB/s) - ‘Miniconda3-py37_4.12.0-Linux-x86_64.sh’ saved [104996770/104996770]\n",
      "\n",
      "PREFIX=/usr/local\n",
      "./Miniconda3-py37_4.12.0-Linux-x86_64.sh: line 400: /usr/local/conda.exe: Permission denied\n",
      "chmod: cannot access '/usr/local/conda.exe': No such file or directory\n",
      "Unpacking payload ...\n",
      "./Miniconda3-py37_4.12.0-Linux-x86_64.sh: line 412: /usr/local/conda.exe: No such file or directory\n",
      "./Miniconda3-py37_4.12.0-Linux-x86_64.sh: line 414: /usr/local/conda.exe: No such file or directory\n"
     ]
    }
   ],
   "source": [
    "!wget https://repo.anaconda.com/miniconda/Miniconda3-py37_4.12.0-Linux-x86_64.sh \n",
    "!chmod +x Miniconda3-py37_4.12.0-Linux-x86_64.sh\n",
    "!bash ./Miniconda3-py37_4.12.0-Linux-x86_64.sh -b -f -p /usr/local \n",
    "import sys \n",
    "sys.path.append('/usr/local/lib/python3.7/site-packages/')"
   ]
  },
  {
   "cell_type": "code",
   "execution_count": null,
   "metadata": {
    "colab": {
     "base_uri": "https://localhost:8080/"
    },
    "id": "5iuP4_vl3WFA",
    "outputId": "e4652fca-5abb-4439-9437-f04d417d6549"
   },
   "outputs": [
    {
     "name": "stdout",
     "output_type": "stream",
     "text": [
      "Retrieving notices: ...working... done\n",
      "Collecting package metadata (current_repodata.json): \\ "
     ]
    }
   ],
   "source": [
    "!conda update -n base -c defaults conda --yes"
   ]
  },
  {
   "cell_type": "code",
   "execution_count": null,
   "metadata": {
    "colab": {
     "base_uri": "https://localhost:8080/"
    },
    "id": "uoBMBSS63Z58",
    "outputId": "786b615c-a91d-4351-b010-8c4f4d20cd22"
   },
   "outputs": [],
   "source": [
    "!conda --version\n",
    "!python --version"
   ]
  },
  {
   "cell_type": "code",
   "execution_count": null,
   "metadata": {
    "colab": {
     "base_uri": "https://localhost:8080/"
    },
    "id": "RMuJRdfH3dDq",
    "outputId": "cf09812b-79b1-466d-f805-ec42da425e8e"
   },
   "outputs": [],
   "source": [
    "!conda install -c conda-forge pyfmi==2.7.4 --yes # Install the key package"
   ]
  },
  {
   "cell_type": "code",
   "execution_count": null,
   "metadata": {
    "colab": {
     "base_uri": "https://localhost:8080/"
    },
    "id": "I2MfWWF53fu5",
    "outputId": "b775a30c-9f16-4dd3-eafe-a9db224bb434"
   },
   "outputs": [],
   "source": [
    "!conda install numpy=1.19.1 --yes # Need to downgrade numpy"
   ]
  },
  {
   "cell_type": "markdown",
   "metadata": {
    "id": "UTETJm3l6heL"
   },
   "source": [
    "# Notes of BPL_YEAST_AIR_Fedbatch\n"
   ]
  },
  {
   "cell_type": "markdown",
   "metadata": {
    "id": "mxILgQ103nZ6"
   },
   "source": [
    "Now specific installation and the run simulations. Start with connecting to Github. Then upload the two files:\n",
    "\n",
    "* FMU - BPL_YEAST_AIR_Fedbatch_linux_jm_cs.fmu\n",
    "* Setup-file - BPL_YEAST_AIR_Fedbatch_explore"
   ]
  },
  {
   "cell_type": "code",
   "execution_count": null,
   "metadata": {
    "id": "RrYshFe13jmO"
   },
   "outputs": [],
   "source": [
    "# Filter out DepracationWarnings for 'np.float as alias' is needed - wish I could make filter more narrow \n",
    "import warnings\n",
    "warnings.filterwarnings(\"ignore\")"
   ]
  },
  {
   "cell_type": "code",
   "execution_count": null,
   "metadata": {
    "colab": {
     "base_uri": "https://localhost:8080/"
    },
    "id": "RfWPh1B63yBF",
    "outputId": "7dea2836-7d43-43dc-bd5f-fdc7d809465d"
   },
   "outputs": [],
   "source": [
    "%%bash \n",
    "git clone https://github.com/janpeter19/BPL_YEAST_AIR_Fedbatch"
   ]
  },
  {
   "cell_type": "code",
   "execution_count": null,
   "metadata": {
    "colab": {
     "base_uri": "https://localhost:8080/"
    },
    "id": "i6uOVB44300a",
    "outputId": "617c61fb-2a3c-49fd-d2d3-f5fadc9c67d9"
   },
   "outputs": [],
   "source": [
    "%cd BPL_YEAST_AIR_Fedbatch"
   ]
  },
  {
   "cell_type": "markdown",
   "metadata": {
    "id": "ui9OGhbKTgnC"
   },
   "source": [
    "# BPL_YEAST_AIR_Fedbatch - demo\n",
    "\n",
    "This notebook demonstrate yeast fedbatch cultivation. We look at impact of changes in the glucose feeding. We also take a look at tuning of the DO-control system. Both liquid- and gasphase are included in the model. The culture growth and metabolism are formulated in relation to to the respiratory capacity [1] and the model is exapanded to describe also the gas phase as well as the culture heat production [2]. The model was derived mainly from continuous culture data but proved to capture dynamic aspects well of ethanol production and consumption [3].\n",
    "\n",
    "Interaction with the compiled model as FMU is mainly through the simplified commands: par(), init(), newplot(), simu() etc. The last simulation is always available in the workspace and called 'sim_res'. The command describe() brings mainly up description infomration from the actual Modelica code from the FMU but is complemented with information given in the dedicated Python setup-file.\n",
    "\n",
    "The idea is to demonstrate how simulations and varyiing conditions can provide some process insight that can support the experimetnal work. I hope that at the end of this session you are ready to formulate your own questions you want to address with simulations - and you can just go on in this notebook! Just press the field \"+Code\" in the upper left part of notebook interface and you get a new \"cell\" where you write your own code. You can copy and paste from cells above using ctrol-c and ctrl-p as usual and edit the cell. When your are ready to execute the cell just press the \"play button\" to the left in the cell or press shift-enter as in \"ordinary\" Jupyter notebooks.\n",
    "\n",
    "After a session you may want to save your own notebook. That you can do on your Google Drive account and I refer to Colab instructions for how to do this. It is easy. \n",
    "\n",
    "Enjoy!"
   ]
  },
  {
   "cell_type": "code",
   "execution_count": null,
   "metadata": {
    "colab": {
     "base_uri": "https://localhost:8080/"
    },
    "id": "b-y82jZY33cO",
    "outputId": "24991897-36a1-4299-8550-b29aef41f8d3"
   },
   "outputs": [],
   "source": [
    "run -i BPL_YEAST_AIR_Fedbatch_DOcontrol_explore.py"
   ]
  },
  {
   "cell_type": "code",
   "execution_count": null,
   "metadata": {
    "id": "HUFhuE-H4RCw"
   },
   "outputs": [],
   "source": [
    "%matplotlib inline\n",
    "plt.rcParams['figure.figsize'] = [36/2.54, 30/2.54]"
   ]
  },
  {
   "cell_type": "markdown",
   "metadata": {
    "id": "DVeYFkxSTvk1"
   },
   "source": [
    "## About the process model\n",
    "\n",
    "We can get information about the process, liquid- and gas-phase by the command describe(). This command can also be used to bring up information about a specific variable or parameter. However, you should use describe() after a simulation to get the valued used during the simulation."
   ]
  },
  {
   "cell_type": "code",
   "execution_count": null,
   "metadata": {
    "colab": {
     "base_uri": "https://localhost:8080/"
    },
    "id": "-Y3NHWIj4TZ6",
    "outputId": "54176509-cf0a-4d3e-d261-b55edb323c52"
   },
   "outputs": [],
   "source": [
    "describe('culture'); print(); #describe('liquidphase'); print(); describe('gasphase')                                     # Pump schedule parameter \n"
   ]
  },
  {
   "cell_type": "markdown",
   "metadata": {
    "id": "_h15qSsST2Pv"
   },
   "source": [
    "The model of the process has parameters both for culture, gas_liquid_transfer, as well as feeding procedure. The paramters that are available for changes you find by the command disp() and you get a long list and you change by them by command par(). The model has even more parameters in the background but not made available for interaction. "
   ]
  },
  {
   "cell_type": "markdown",
   "metadata": {
    "id": "jTK3qj-zT7RR"
   },
   "source": [
    "## First simulations - adjusting start of substrate feeding"
   ]
  },
  {
   "cell_type": "code",
   "execution_count": null,
   "metadata": {
    "colab": {
     "base_uri": "https://localhost:8080/",
     "height": 720
    },
    "id": "3BkbO1cprB44",
    "outputId": "4478fb6e-6adf-46cd-e243-0bbd6db139da"
   },
   "outputs": [],
   "source": [
    "# Culture parameters and others at default values\n",
    "par(qO2lim=0.0069) \n",
    "\n",
    "# Process initial conditions\n",
    "init(V_0=4.5, VG_0=4.5*30, VX_0=4.5*2, VE_0=4.5*0) \n",
    "\n",
    "# Feed profile\n",
    "par(t_start=9, F_start=0.044, mu_feed=0.20, F_max=0.18)  \n",
    "\n",
    "# DO-control parameters\n",
    "par(K=10, Ti=0.5, N_0=500)   \n",
    "\n",
    "# Simulate and plot\n",
    "newplot(title='Yeast fedbatch cultivation', plotType='Overview')\n",
    "simu(20)"
   ]
  },
  {
   "cell_type": "markdown",
   "metadata": {
    "id": "CUidWilMUGMG"
   },
   "source": [
    "Now we can get value of broth volume as well as the headspace and values are the last ones in the simulation"
   ]
  },
  {
   "cell_type": "code",
   "execution_count": null,
   "metadata": {
    "colab": {
     "base_uri": "https://localhost:8080/"
    },
    "id": "CLFOfnj3UK3T",
    "outputId": "8f6fdb91-4250-47b0-e060-3520ac346d6b"
   },
   "outputs": [],
   "source": [
    "describe('bioreactor.V')"
   ]
  },
  {
   "cell_type": "code",
   "execution_count": null,
   "metadata": {
    "colab": {
     "base_uri": "https://localhost:8080/"
    },
    "id": "GJaFdgYLUReU",
    "outputId": "d1803e1b-2cd9-41e4-a1c6-4552a8d23c26"
   },
   "outputs": [],
   "source": [
    "describe('bioreactor.V_gasphase')"
   ]
  },
  {
   "cell_type": "code",
   "execution_count": null,
   "metadata": {
    "colab": {
     "base_uri": "https://localhost:8080/"
    },
    "id": "Pr1jXNzSrJdZ",
    "outputId": "b6044034-a57b-48a2-97ea-f08d915c14bc"
   },
   "outputs": [],
   "source": [
    "# Take a look at the parameters available to adjust the dosage scheme\n",
    "disp('dosage', decimals=4)"
   ]
  },
  {
   "cell_type": "code",
   "execution_count": null,
   "metadata": {
    "colab": {
     "base_uri": "https://localhost:8080/",
     "height": 720
    },
    "id": "l4iaw0cDrL5f",
    "outputId": "78942892-e86c-4dd3-d61a-81e2cc81e1f9"
   },
   "outputs": [],
   "source": [
    "# Let us start the feeding just after the batch phase has ended and keep other parameters the same\n",
    "par(t_start=8.1)\n",
    "\n",
    "# Simulate and plot\n",
    "newplot(title='Yeast fedbatch cultivation', plotType='Overview')\n",
    "simu(20)"
   ]
  },
  {
   "cell_type": "markdown",
   "metadata": {
    "id": "q_DRiO7hrVpb"
   },
   "source": [
    "The increase of DO to about 50 % at end of batch phase should be possible to detect easily. This simulation is more realistic and we use these settings from now on."
   ]
  },
  {
   "cell_type": "markdown",
   "metadata": {
    "id": "tsbQ0dSGUiUx"
   },
   "source": [
    "## DO-control  - tuning of PI-regulator parameters\n",
    "\n",
    "Let us focus on the DO-control system and choose a more limited plotType. We study the impact of PI control parameters and see if we can decrease the control error without looing stability."
   ]
  },
  {
   "cell_type": "code",
   "execution_count": null,
   "metadata": {
    "colab": {
     "base_uri": "https://localhost:8080/",
     "height": 587
    },
    "id": "vQVM55WirXxN",
    "outputId": "585af835-f5f0-4159-8e72-0986690d7d0c"
   },
   "outputs": [],
   "source": [
    "# Let us take a closer look at the DO-control system and try to make control error smaller by increaseing K\n",
    "newplot(title='Yeast fedbatch cultivation - DO-control - increase K', plotType='Focus DO-control')\n",
    "for value in [10, 20, 40]: par(K=value); simu(20)\n",
    "\n",
    "# Reset K to the original value\n",
    "par(K=10)"
   ]
  },
  {
   "cell_type": "markdown",
   "metadata": {
    "id": "L_7RkwpbrvaK"
   },
   "source": [
    "We see that by a higher control gain K the DO-control error get smaller and the stability of the control system is maintained."
   ]
  },
  {
   "cell_type": "markdown",
   "metadata": {
    "id": "1XSG-6NCUzYR"
   },
   "source": [
    "**Exercise** I leave for you to study the impact variation of the Ti-parameter. Just make a new cell below. Then copy and paste the cell above and change parameter to Ti."
   ]
  },
  {
   "cell_type": "markdown",
   "metadata": {
    "id": "p_m7YOxiU5QG"
   },
   "source": [
    "## Sensitivity to changes in feed-profile\n",
    "\n",
    "Now, let us focus on investigating impact of changes in the feed-profile. The goal is to increase the produced cell mass without accumulation of by-product ethanol. Simulation can bring some insight into how behaviour of the differen variables change when by-product is formed. This insight can help to interpret experimental results."
   ]
  },
  {
   "cell_type": "code",
   "execution_count": null,
   "metadata": {
    "colab": {
     "base_uri": "https://localhost:8080/",
     "height": 720
    },
    "id": "rDztpngaryKm",
    "outputId": "25de13f4-33c7-4563-8eef-44c46e0f6742"
   },
   "outputs": [],
   "source": [
    "# Let us check the sensitivity to changes in the feed profile design\n",
    "newplot(title='Yeast fedbatch cultivation', plotType='Overview')\n",
    "for value in [0.044, 0.038, 0.050]: par(F_start=value); simu(20)"
   ]
  },
  {
   "cell_type": "markdown",
   "metadata": {
    "id": "ky0CelGor7pE"
   },
   "source": [
    "The variation in F_start has an impact and we see that the actual growth rate during fedbatch phase do converge to the set growth rate of the feed, but i takes more than 5 hours."
   ]
  },
  {
   "cell_type": "code",
   "execution_count": null,
   "metadata": {
    "colab": {
     "base_uri": "https://localhost:8080/",
     "height": 720
    },
    "id": "EmXoRcXNsAJV",
    "outputId": "080ebbcf-16a6-460c-de85-bb20d3d05bf0"
   },
   "outputs": [],
   "source": [
    "# Let us investigate a feedprofile that is closer to the maximal capacity\n",
    "newplot(title='Yeast fedbatch cultivation', plotType='Overview')\n",
    "par(F_start=0.044, mu_feed=0.20); simu(20)\n",
    "par(F_start=0.050, mu_feed=0.22); simu(20)\n",
    "par(F_start=0.057, mu_feed=0.26); simu(20)"
   ]
  },
  {
   "cell_type": "code",
   "execution_count": null,
   "metadata": {
    "colab": {
     "base_uri": "https://localhost:8080/",
     "height": 720
    },
    "id": "RchMl7-qsIDe",
    "outputId": "b4a019a0-bd61-4249-e843-337d6cf829ca"
   },
   "outputs": [],
   "source": [
    "# And let us see what happens if the feedprofile exceed the culture capacity\n",
    "newplot(title='Yeast fedbatch cultivation', plotType='Overview')\n",
    "par(F_start=0.057, mu_feed=0.26); simu(20)\n",
    "par(F_start=0.063, mu_feed=0.28); simu(20)\n",
    "par(F_start=0.044, mu_feed=0.20)"
   ]
  },
  {
   "cell_type": "markdown",
   "metadata": {
    "id": "sd61TcBtsQEr"
   },
   "source": [
    "Note that with the feedprofile that exceed culture respiratory capacity, ethanol is accumulated during time 8-12.5 hours. When the feedprofile then is constant from time 12.5 hours and on, then the accumulated ethanol is consumed over about an hour. This leads to a higher oxygen demand and heat production during this time. The specific cell growth rate is also slightly higher during this period."
   ]
  },
  {
   "cell_type": "markdown",
   "metadata": {
    "id": "k9nLGA4xVC_y"
   },
   "source": [
    "**Exercise** You can investiate the impact of changing the maximal feedrate F_max. Make sure that the DO level do not get too low."
   ]
  },
  {
   "cell_type": "markdown",
   "metadata": {
    "id": "iIHC4llbVIzL"
   },
   "source": [
    "## Make your own diagrams \n",
    "\n",
    "There are a couple of pre-defined plotType for the application that you make by the command newplot(). The command result in a list \"diagrams\" that desccrige the commands that make the plot when you call simu() or you just want to look at the last simulation again with a changed plotType using show().\n",
    "\n",
    "You can also in Jupyter notebook directly define the list \"diagrams\" and then that will be used for subsequent calls of simu() or show(). When you have made a diagram that you want to reuse many times you can bring it into the python-setup file and edit the newplot() commmand and add a new plotType. \n",
    "\n",
    "Below a few simple examples that show how to do a diagram directly i the notebook"
   ]
  },
  {
   "cell_type": "code",
   "execution_count": null,
   "metadata": {
    "id": "na2ITT5KVNxe"
   },
   "outputs": [],
   "source": [
    "# First decrease the diagram size\n",
    "plt.rcParams['figure.figsize'] = [24/2.54, 20/2.54]"
   ]
  },
  {
   "cell_type": "code",
   "execution_count": null,
   "metadata": {
    "colab": {
     "base_uri": "https://localhost:8080/",
     "height": 490
    },
    "id": "KHXixPMmVYKA",
    "outputId": "9e34a9e7-baa2-4746-baaa-76a3e5ac5084"
   },
   "outputs": [],
   "source": [
    "# Improvise and make your own diagram - cell concentration in a logaritmic plot\n",
    "plt.figure()\n",
    "ax1 = plt.subplot(1,1,1)\n",
    "ax1.set_ylabel('X [g/L]')\n",
    "ax1.set_xlabel('Time [h]')\n",
    "ax1.grid()\n",
    "\n",
    "setLines()\n",
    "diagrams.clear()\n",
    "diagrams.append(\"ax1.semilogy(sim_res['time'], sim_res['bioreactor.c[1]'], color='b', linestyle=linetype)\")\n",
    "show()"
   ]
  },
  {
   "cell_type": "code",
   "execution_count": null,
   "metadata": {
    "colab": {
     "base_uri": "https://localhost:8080/",
     "height": 490
    },
    "id": "tvyiLlSDVilv",
    "outputId": "a0321414-a1ee-4aef-d302-116b68e36f52"
   },
   "outputs": [],
   "source": [
    "# - study the variation of Kla together with DO and N during cultivation\n",
    "plt.figure()\n",
    "ax1 = plt.subplot(3,1,1); ax2 = plt.subplot(3,1,2); ax3 = plt.subplot(3,1,3)\n",
    "ax1.set_ylabel('DO [%]'); ax1.grid()\n",
    "ax2.set_ylabel('Kla [1/h]'); ax2.grid()\n",
    "ax3.set_ylabel('N [rpm]'); ax3.grid()\n",
    "ax3.set_xlabel('Time [h]')\n",
    "\n",
    "setLines()\n",
    "diagrams.clear()\n",
    "diagrams.append(\"ax1.plot(sim_res['time'], sim_res['DOsensor.out'], color='b', linestyle=linetype)\")\n",
    "diagrams.append(\"ax2.plot(sim_res['time'], sim_res['bioreactor.gas_liquid_transfer.Kla_O2'], color='b', linestyle=linetype)\")\n",
    "diagrams.append(\"ax3.plot(sim_res['time'], sim_res['bioreactor.N'], color='c', linestyle=linetype)\")\n",
    "show()"
   ]
  },
  {
   "cell_type": "markdown",
   "metadata": {
    "id": "6FjZz4OhVojT"
   },
   "source": [
    "The relation is Kla = alpha_O2*N and we see the value of the parameter should be around 1.0, and we check below"
   ]
  },
  {
   "cell_type": "code",
   "execution_count": null,
   "metadata": {
    "colab": {
     "base_uri": "https://localhost:8080/"
    },
    "id": "EA17rOwLVxB6",
    "outputId": "51897200-dc30-4a58-fb54-1cf57c88bf79"
   },
   "outputs": [],
   "source": [
    "disp('bioreactor.gas_liquid_transfer.alpha_O2')"
   ]
  },
  {
   "cell_type": "code",
   "execution_count": null,
   "metadata": {
    "colab": {
     "base_uri": "https://localhost:8080/",
     "height": 490
    },
    "id": "KNKltRjPV2ep",
    "outputId": "88c56bf0-a1c9-4af9-fa75-c9c37732ad99"
   },
   "outputs": [],
   "source": [
    "# - study the relation qO2 vs qG(G) \n",
    "plt.figure()\n",
    "ax1 = plt.subplot(1,1,1)\n",
    "ax1.set_ylabel('qO2 []')\n",
    "ax1.set_xlabel('qG []')\n",
    "ax1.grid()\n",
    "\n",
    "setLines()\n",
    "diagrams.clear()\n",
    "diagrams.append(\"ax1.plot(sim_res['bioreactor.culture.qGm'], sim_res['bioreactor.culture.qO2'], 'b*')\")\n",
    "par(F_start=0.057, mu_feed=0.26)\n",
    "simu(20)"
   ]
  },
  {
   "cell_type": "markdown",
   "metadata": {
    "id": "ihEX8uz4WAAQ"
   },
   "source": [
    "During the cultivation we have a number of data points for qG and qO2 at the same time, during different conditions. What we see in the diagram is that qO2 increase with qG until qG reach a level of just above 0.0025 and then qO2 saturats for highter qG. This what expect to see.\n",
    "\n",
    "We also see that for lower qG we have also qO2 values at saturation level. This points correspond to a situation where ethanol is consumed with the remaining respiratory capacity. Glucose is consumed by priority."
   ]
  },
  {
   "cell_type": "markdown",
   "metadata": {
    "id": "H9EH8AJzsqeE"
   },
   "source": [
    "## Summary\n",
    "* We have first seen an overview diagram of a typical yeast fedbatch cultivation where the feed started about an hour after the batch phase was finished. A new simulation was made where the feed started directly after detection of lack of substrate.\n",
    "* We also took a look at the DO-control system and saw that we could decrease the control error by increasing the PI-controller gain. Stability of the control system remained.\n",
    "* Then we tested variations in the feed dosage scheme and investigated the possibilities to increae the production.\n",
    "* We also saw what happens if the feed dosage exceed the culture respiratory capacity and what to look for during the experimental work.\n",
    "* Finally we saw some examples of how to improvise new diagrams."
   ]
  },
  {
   "cell_type": "markdown",
   "metadata": {
    "id": "G3WXq7LYWOoa"
   },
   "source": [
    "## References\n",
    "\n",
    "[1] Sonnleitner, B and O. Käppeli \"Growth of *Sacharomyces cerevisiae* is controlled by its limited respiratory capacity: formulationa and verification of a hypothesis\", Biotech. Bioeng., 1986.\n",
    "\n",
    "[2] von Stockar, U., Gustafsson, L., Larsson, C., Marison, I., Tissot, P. and Gnaiger E. \"Thermodynamic considerations in constructing energy balances for cellular growth\", Biochimica et Biophysics Acta, vol 1183, p 221-240, 1993. \n",
    " \n",
    "[3] Axelsson, J. P. \"Experimental techniques and data analysis to dtermine baker's yeast ethanol dynamics\", Anal. Chim. Acta, vol 213, p 151-163, 1988."
   ]
  },
  {
   "cell_type": "markdown",
   "metadata": {
    "id": "e0-nZNhzWVk0"
   },
   "source": [
    "## Appendix"
   ]
  },
  {
   "cell_type": "code",
   "execution_count": null,
   "metadata": {
    "colab": {
     "base_uri": "https://localhost:8080/"
    },
    "id": "RzuTVpRhsj0c",
    "outputId": "518bc9ae-e8ef-43f7-8e47-24982d61d776"
   },
   "outputs": [],
   "source": [
    "# List of components in the process setup and also a couple of other things like liquidphase and gasphase etc\n",
    "describe('parts')"
   ]
  },
  {
   "cell_type": "code",
   "execution_count": null,
   "metadata": {
    "colab": {
     "base_uri": "https://localhost:8080/"
    },
    "id": "yvY-SHrVnkHX",
    "outputId": "97ea96d9-80d2-42a2-842a-9fe023523013"
   },
   "outputs": [],
   "source": [
    "describe('MSL')"
   ]
  },
  {
   "cell_type": "code",
   "execution_count": null,
   "metadata": {
    "colab": {
     "base_uri": "https://localhost:8080/"
    },
    "id": "fr8YZScu7nNy",
    "outputId": "900b2a39-79a5-48d9-a8e8-eb6e3ef0cff5"
   },
   "outputs": [],
   "source": [
    "system_info()"
   ]
  },
  {
   "cell_type": "code",
   "execution_count": null,
   "metadata": {
    "id": "FHx0NsS47ppj"
   },
   "outputs": [],
   "source": []
  }
 ],
 "metadata": {
  "colab": {
   "authorship_tag": "ABX9TyMns9ZotWWHRYrLsyBj8J8h",
   "collapsed_sections": [],
   "include_colab_link": true,
   "provenance": []
  },
  "kernelspec": {
   "display_name": "Python 3 (ipykernel)",
   "language": "python",
   "name": "python3"
  },
  "language_info": {
   "codemirror_mode": {
    "name": "ipython",
    "version": 3
   },
   "file_extension": ".py",
   "mimetype": "text/x-python",
   "name": "python",
   "nbconvert_exporter": "python",
   "pygments_lexer": "ipython3",
   "version": "3.8.16"
  }
 },
 "nbformat": 4,
 "nbformat_minor": 1
}
