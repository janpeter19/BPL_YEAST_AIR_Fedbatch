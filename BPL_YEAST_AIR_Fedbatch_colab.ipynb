{
  "nbformat": 4,
  "nbformat_minor": 0,
  "metadata": {
    "colab": {
      "provenance": [],
      "collapsed_sections": [],
      "authorship_tag": "ABX9TyM1aEumGlbdelvD+XrF2lMQ",
      "include_colab_link": true
    },
    "kernelspec": {
      "name": "python3",
      "display_name": "Python 3"
    },
    "language_info": {
      "name": "python"
    }
  },
  "cells": [
    {
      "cell_type": "markdown",
      "metadata": {
        "id": "view-in-github",
        "colab_type": "text"
      },
      "source": [
        "<a href=\"https://colab.research.google.com/github/janpeter19/BPL_YEAST_AIR_Fedbatch/blob/main/BPL_YEAST_AIR_Fedbatch_colab.ipynb\" target=\"_parent\"><img src=\"https://colab.research.google.com/assets/colab-badge.svg\" alt=\"Open In Colab\"/></a>"
      ]
    },
    {
      "cell_type": "markdown",
      "source": [
        "# BPL_YEAST_AIR_Fedbatch script with PyFMI ver 2.7.4\n",
        "\n",
        "The key library PyFMI v2.7.4 is installed and downgrading is done Numpy v1.19.1. To simplify this we first install conda.\n",
        "\n",
        "After the installation a small application BPL_YEAST_AIR_Fedbatch is loaded and run. You can continue with this example if you like."
      ],
      "metadata": {
        "id": "UFcMzs4Y3HwH"
      }
    },
    {
      "cell_type": "code",
      "execution_count": 1,
      "metadata": {
        "colab": {
          "base_uri": "https://localhost:8080/"
        },
        "id": "ID68dwep2zus",
        "outputId": "40d6f174-4374-495c-af33-c10dbe5e461a"
      },
      "outputs": [
        {
          "output_type": "stream",
          "name": "stdout",
          "text": [
            "No LSB modules are available.\n",
            "Distributor ID:\tUbuntu\n",
            "Description:\tUbuntu 18.04.6 LTS\n",
            "Release:\t18.04\n",
            "Codename:\tbionic\n"
          ]
        }
      ],
      "source": [
        "!lsb_release -a # Actual VM Ubuntu version used by Google"
      ]
    },
    {
      "cell_type": "code",
      "source": [
        "%env PYTHONPATH="
      ],
      "metadata": {
        "colab": {
          "base_uri": "https://localhost:8080/"
        },
        "id": "pVDcSg-j3SSV",
        "outputId": "9b8d11a5-0f37-494d-9767-ac295fcde6d5"
      },
      "execution_count": 2,
      "outputs": [
        {
          "output_type": "stream",
          "name": "stdout",
          "text": [
            "env: PYTHONPATH=\n"
          ]
        }
      ]
    },
    {
      "cell_type": "code",
      "source": [
        "!wget https://repo.anaconda.com/miniconda/Miniconda3-py37_4.12.0-Linux-x86_64.sh \n",
        "!chmod +x Miniconda3-py37_4.12.0-Linux-x86_64.sh\n",
        "!bash ./Miniconda3-py37_4.12.0-Linux-x86_64.sh -b -f -p /usr/local \n",
        "import sys \n",
        "sys.path.append('/usr/local/lib/python3.7/site-packages/')"
      ],
      "metadata": {
        "colab": {
          "base_uri": "https://localhost:8080/"
        },
        "id": "04VeBmLU3UFx",
        "outputId": "1862baaa-ea98-4352-89fd-8d12dea974e0"
      },
      "execution_count": 3,
      "outputs": [
        {
          "output_type": "stream",
          "name": "stdout",
          "text": [
            "--2022-09-01 14:09:08--  https://repo.anaconda.com/miniconda/Miniconda3-py37_4.12.0-Linux-x86_64.sh\n",
            "Resolving repo.anaconda.com (repo.anaconda.com)... 104.16.131.3, 104.16.130.3, 2606:4700::6810:8303, ...\n",
            "Connecting to repo.anaconda.com (repo.anaconda.com)|104.16.131.3|:443... connected.\n",
            "HTTP request sent, awaiting response... 200 OK\n",
            "Length: 104996770 (100M) [application/x-sh]\n",
            "Saving to: ‘Miniconda3-py37_4.12.0-Linux-x86_64.sh.2’\n",
            "\n",
            "Miniconda3-py37_4.1 100%[===================>] 100.13M   160MB/s    in 0.6s    \n",
            "\n",
            "2022-09-01 14:09:08 (160 MB/s) - ‘Miniconda3-py37_4.12.0-Linux-x86_64.sh.2’ saved [104996770/104996770]\n",
            "\n",
            "PREFIX=/usr/local\n",
            "Unpacking payload ...\n",
            "Collecting package metadata (current_repodata.json): - \b\b\\ \b\bdone\n",
            "Solving environment: / \b\b- \b\b\\ \b\b| \b\b/ \b\b- \b\b\\ \b\b| \b\b/ \b\bfailed with initial frozen solve. Retrying with flexible solve.\n",
            "Solving environment: \\ \b\b| \b\b/ \b\b- \b\b\\ \b\b| \b\b/ \b\bfailed with repodata from current_repodata.json, will retry with next repodata source.\n",
            "Collecting package metadata (repodata.json): \\ \b\bdone\n",
            "Solving environment: / \b\b- \b\b\\ \b\b| \b\b/ \b\b- \b\b\\ \b\b| \b\b/ \b\bfailed with initial frozen solve. Retrying with flexible solve.\n",
            "Solving environment: \\ \b\b| \b\b/ \b\b- \b\b\\ \b\b| \b\b/ \b\b- \n",
            "Found conflicts! Looking for incompatible packages.\n",
            "This can take several minutes.  Press CTRL-C to abort.\n",
            "\b\b/ \b\bfailed\n",
            "\n",
            "UnsatisfiableError: The following specifications were found to be incompatible with each other:\n",
            "\n",
            "Output in format: Requested package -> Available versions\n",
            "\n",
            "Package libxslt conflicts for:\n",
            "libxslt\n",
            "pyfmi -> lxml -> libxslt[version='>=1.1.33,<2.0a0']\n",
            "lxml -> libxslt[version='>=1.1.33,<2.0a0']\n",
            "\n",
            "Package libgcc-ng conflicts for:\n",
            "zlib==1.2.12=h7f8727e_1 -> libgcc-ng[version='>=7.5.0']\n",
            "ncurses==6.3=h7f8727e_2 -> libgcc-ng[version='>=7.5.0']\n",
            "libopenblas -> libgcc-ng[version='>=10.3.0|>=12']\n",
            "sundials -> libgcc-ng[version='>=9.4.0']\n",
            "cytoolz -> python[version='>=3.7,<3.8.0a0'] -> libgcc-ng[version='>=7.5.0']\n",
            "lxml -> libgcc-ng[version='>=10.3.0']\n",
            "numpy -> libgcc-ng[version='>=10.3.0|>=7.3.0']\n",
            "brotlipy==0.7.0=py37h27cfd23_1003 -> cffi[version='>=1.0.0'] -> libgcc-ng[version='>=11.2.0|>=7.5.0']\n",
            "charset-normalizer==2.0.4=pyhd3eb1b0_0 -> python[version='>=3.5'] -> libgcc-ng[version='>=7.5.0']\n",
            "python==3.7.13=h12debd9_0 -> libffi[version='>=3.3,<3.4.0a0'] -> libgcc-ng[version='>=10.3.0|>=11.2.0|>=7.3.0|>=12']\n",
            "numpy -> blas=[build=openblas] -> libgcc-ng[version='>=12|>=7.5.0']\n",
            "scipy -> numpy[version='>=1.18.5,<2.0a0'] -> libgcc-ng[version='>=10.3.0|>=7.3.0|>=7.5.0']\n",
            "cryptography==36.0.0=py37h9ce1e76_0 -> cffi[version='>=1.12'] -> libgcc-ng[version='>=10.3.0|>=11.2.0|>=7.5.0|>=12']\n",
            "pyfmi -> libgcc-ng[version='>=7.5.0']\n",
            "python==3.7.13=h12debd9_0 -> libgcc-ng[version='>=7.5.0']\n",
            "assimulo -> libgcc-ng[version='>=9.4.0']\n",
            "fmilib -> libgcc-ng[version='>=7.5.0']\n",
            "colorama==0.4.4=pyhd3eb1b0_0 -> python -> libgcc-ng[version='>=7.5.0']\n",
            "pyfmi -> assimulo[version='>=3.0'] -> libgcc-ng[version='>=10.3.0|>=9.4.0|>=7.3.0']\n",
            "libzlib -> libgcc-ng[version='>=12']\n",
            "requests==2.27.1=pyhd3eb1b0_0 -> python[version='>=3.6'] -> libgcc-ng[version='>=7.5.0']\n",
            "sqlite==3.38.2=hc218d9a_0 -> libgcc-ng[version='>=7.5.0']\n",
            "pysocks==1.7.1=py37_1 -> python[version='>=3.7,<3.8.0a0'] -> libgcc-ng[version='>=7.5.0']\n",
            "pycparser==2.21=pyhd3eb1b0_0 -> python[version='>=3.6'] -> libgcc-ng[version='>=7.5.0']\n",
            "conda-package-handling==1.8.1=py37h7f8727e_0 -> libgcc-ng[version='>=7.5.0']\n",
            "libxslt -> libgcc-ng[version='>=9.3.0']\n",
            "wheel==0.37.1=pyhd3eb1b0_0 -> python -> libgcc-ng[version='>=7.5.0']\n",
            "libblas -> libopenblas[version='>=0.3.21,<0.3.22.0a0'] -> libgcc-ng[version='>=10.3.0|>=12']\n",
            "libxml2 -> icu[version='>=68.1,<69.0a0'] -> libgcc-ng[version='>=7.3.0|>=7.5.0|>=9.4.0']\n",
            "metis -> libgcc-ng[version='>=7.5.0']\n",
            "blas -> libgcc-ng[version='>=12']\n",
            "conda-content-trust==0.1.1=pyhd3eb1b0_0 -> cryptography -> libgcc-ng[version='>=7.5.0']\n",
            "cffi==1.15.0=py37hd667e15_1 -> libgcc-ng[version='>=7.5.0']\n",
            "pip==21.2.2=py37h06a4308_0 -> python[version='>=3.7,<3.8.0a0'] -> libgcc-ng[version='>=7.5.0']\n",
            "suitesparse -> metis[version='>=5.1.0,<5.2.0a0'] -> libgcc-ng[version='>=10.3.0|>=7.5.0']\n",
            "tqdm==4.63.0=pyhd3eb1b0_0 -> python[version='>=2.7'] -> libgcc-ng[version='>=7.5.0']\n",
            "pycosat==0.6.3=py37h27cfd23_0 -> libgcc-ng[version='>=7.3.0']\n",
            "cffi==1.15.0=py37hd667e15_1 -> libffi[version='>=3.3'] -> libgcc-ng[version='>=7.3.0']\n",
            "idna==3.3=pyhd3eb1b0_0 -> python[version='>=3.5'] -> libgcc-ng[version='>=7.5.0']\n",
            "pycosat==0.6.3=py37h27cfd23_0 -> python[version='>=3.7,<3.8.0a0'] -> libgcc-ng[version='>=7.5.0']\n",
            "llvm-openmp -> libzlib[version='>=1.2.11,<1.3.0a0'] -> libgcc-ng[version='>=12']\n",
            "assimulo -> numpy[version='>=1.18.5,<2.0a0'] -> libgcc-ng[version='>=10.3.0|>=7.3.0|>=7.5.0']\n",
            "libxml2 -> libgcc-ng[version='>=9.3.0']\n",
            "cryptography==36.0.0=py37h9ce1e76_0 -> libgcc-ng\n",
            "brotlipy==0.7.0=py37h27cfd23_1003 -> libgcc-ng[version='>=7.3.0']\n",
            "toolz -> python[version='>=3.5'] -> libgcc-ng[version='>=7.5.0']\n",
            "ruamel_yaml==0.15.100=py37h27cfd23_0 -> libgcc-ng[version='>=7.3.0']\n",
            "libffi==3.3=he6710b0_2 -> libgcc-ng[version='>=7.3.0']\n",
            "openssl==1.1.1n=h7f8727e_0 -> libgcc-ng[version='>=7.5.0']\n",
            "libxslt -> icu[version='>=68.1,<69.0a0'] -> libgcc-ng[version='>=9.4.0']\n",
            "openblas -> libgcc-ng[version='>=12']\n",
            "ruamel_yaml==0.15.100=py37h27cfd23_0 -> python[version='>=3.7,<3.8.0a0'] -> libgcc-ng[version='>=7.5.0']\n",
            "icu -> libgcc-ng[version='>=9.4.0']\n",
            "scipy -> libgcc-ng[version='>=9.4.0']\n",
            "xz==5.2.5=h7b6447c_0 -> libgcc-ng[version='>=7.3.0']\n",
            "yaml==0.2.5=h7b6447c_0 -> libgcc-ng[version='>=7.3.0']\n",
            "conda==4.12.0=py37h06a4308_0 -> conda-package-handling[version='>=1.3.0'] -> libgcc-ng[version='>=7.3.0|>=7.5.0']\n",
            "certifi==2021.10.8=py37h06a4308_2 -> python[version='>=3.7,<3.8.0a0'] -> libgcc-ng[version='>=7.5.0']\n",
            "suitesparse -> libgcc-ng[version='>=9.4.0']\n",
            "libgcc-ng==9.3.0=h5101ec6_17\n",
            "setuptools==61.2.0=py37h06a4308_0 -> python[version='>=3.7,<3.8.0a0'] -> libgcc-ng[version='>=7.5.0']\n",
            "lxml -> libxml2[version='>=2.9.10,<2.10.0a0'] -> libgcc-ng[version='>=7.5.0|>=9.3.0']\n",
            "tbb -> libgcc-ng[version='>=10.3.0']\n",
            "pyopenssl==22.0.0=pyhd3eb1b0_0 -> cryptography[version='>=35.0'] -> libgcc-ng[version='>=7.5.0']\n",
            "libiconv -> libgcc-ng[version='>=7.5.0']\n",
            "cytoolz -> libgcc-ng[version='>=7.3.0']\n",
            "python_abi -> python=3.7 -> libgcc-ng[version='>=7.5.0']\n",
            "blas-devel -> openblas=0.3.21 -> libgcc-ng[version='>=12']\n",
            "gmp -> libgcc-ng[version='>=7.5.0']\n",
            "numpy-base -> blas=[build=openblas] -> libgcc-ng[version='>=10.3.0|>=12|>=7.5.0']\n",
            "mpfr -> libgcc-ng[version='>=7.5.0']\n",
            "numpy-base -> libgcc-ng[version='>=7.3.0']\n",
            "six==1.16.0=pyhd3eb1b0_1 -> python -> libgcc-ng[version='>=7.5.0']\n",
            "tk==8.6.11=h1ccaba5_0 -> libgcc-ng[version='>=7.5.0']\n",
            "urllib3==1.26.8=pyhd3eb1b0_0 -> brotlipy[version='>=0.6.0'] -> libgcc-ng[version='>=7.3.0|>=7.5.0']\n",
            "\n",
            "Package llvm-openmp conflicts for:\n",
            "libgcc-ng==9.3.0=h5101ec6_17 -> _openmp_mutex[version='>=4.5'] -> llvm-openmp[version='>=9.0.1']\n",
            "llvm-openmp\n",
            "numpy-base -> blas=[build=openblas] -> llvm-openmp[version='>=14.0.4']\n",
            "blas -> llvm-openmp[version='>=14.0.4']\n",
            "numpy -> blas=[build=openblas] -> llvm-openmp[version='>=14.0.4']\n",
            "blas -> _openmp_mutex=[build=*_llvm] -> llvm-openmp[version='>=9.0.1']\n",
            "\n",
            "Package readline conflicts for:\n",
            "cffi==1.15.0=py37hd667e15_1 -> python[version='>=3.7,<3.8.0a0'] -> readline[version='>=8.0,<9.0a0']\n",
            "readline==8.1.2=h7f8727e_1\n",
            "conda-package-handling==1.8.1=py37h7f8727e_0 -> python[version='>=3.7,<3.8.0a0'] -> readline[version='>=8.0,<9.0a0']\n",
            "certifi==2021.10.8=py37h06a4308_2 -> python[version='>=3.7,<3.8.0a0'] -> readline[version='>=8.0,<9.0a0']\n",
            "pyfmi -> python[version='>=3.7,<3.8.0a0'] -> readline[version='>=8.0,<9.0a0']\n",
            "urllib3==1.26.8=pyhd3eb1b0_0 -> python[version='<4.0'] -> readline[version='>=8.0,<9.0a0']\n",
            "setuptools==61.2.0=py37h06a4308_0 -> python[version='>=3.7,<3.8.0a0'] -> readline[version='>=8.0,<9.0a0']\n",
            "requests==2.27.1=pyhd3eb1b0_0 -> python[version='>=3.6'] -> readline[version='>=8.0,<9.0a0']\n",
            "idna==3.3=pyhd3eb1b0_0 -> python[version='>=3.5'] -> readline[version='>=8.0,<9.0a0']\n",
            "tqdm==4.63.0=pyhd3eb1b0_0 -> python[version='>=2.7'] -> readline[version='>=8.0,<9.0a0']\n",
            "brotlipy==0.7.0=py37h27cfd23_1003 -> python[version='>=3.7,<3.8.0a0'] -> readline[version='>=8.0,<9.0a0']\n",
            "toolz -> python[version='>=3.5'] -> readline[version='>=8.0,<9.0a0']\n",
            "pip==21.2.2=py37h06a4308_0 -> python[version='>=3.7,<3.8.0a0'] -> readline[version='>=8.0,<9.0a0']\n",
            "pycosat==0.6.3=py37h27cfd23_0 -> python[version='>=3.7,<3.8.0a0'] -> readline[version='>=8.0,<9.0a0']\n",
            "cryptography==36.0.0=py37h9ce1e76_0 -> python[version='>=3.7,<3.8.0a0'] -> readline[version='>=8.0,<9.0a0']\n",
            "numpy -> python[version='>=3.7,<3.8.0a0'] -> readline[version='>=8.0,<9.0a0']\n",
            "lxml -> python[version='>=3.7,<3.8.0a0'] -> readline[version='>=8.0,<9.0a0']\n",
            "ruamel_yaml==0.15.100=py37h27cfd23_0 -> python[version='>=3.7,<3.8.0a0'] -> readline[version='>=8.0,<9.0a0']\n",
            "sqlite==3.38.2=hc218d9a_0 -> readline[version='>=8.0,<9.0a0']\n",
            "pycparser==2.21=pyhd3eb1b0_0 -> python[version='>=3.6'] -> readline[version='>=8.0,<9.0a0']\n",
            "pysocks==1.7.1=py37_1 -> python[version='>=3.7,<3.8.0a0'] -> readline[version='>=8.0,<9.0a0']\n",
            "numpy-base -> python[version='>=3.7,<3.8.0a0'] -> readline[version='>=8.0,<9.0a0']\n",
            "conda==4.12.0=py37h06a4308_0 -> python[version='>=3.7,<3.8.0a0'] -> readline[version='>=8.0,<9.0a0']\n",
            "cytoolz -> python[version='>=3.7,<3.8.0a0'] -> readline[version='>=8.0,<9.0a0']\n",
            "wheel==0.37.1=pyhd3eb1b0_0 -> python -> readline[version='>=8.0,<9.0a0']\n",
            "python_abi -> python=3.7 -> readline[version='>=8.0,<9.0a0']\n",
            "pyopenssl==22.0.0=pyhd3eb1b0_0 -> python[version='>=3.6'] -> readline[version='>=8.0,<9.0a0']\n",
            "python==3.7.13=h12debd9_0 -> readline[version='>=8.0,<9.0a0']\n",
            "charset-normalizer==2.0.4=pyhd3eb1b0_0 -> python[version='>=3.5'] -> readline[version='>=8.0,<9.0a0']\n",
            "colorama==0.4.4=pyhd3eb1b0_0 -> python -> readline[version='>=8.0,<9.0a0']\n",
            "conda-content-trust==0.1.1=pyhd3eb1b0_0 -> python -> readline[version='>=8.0,<9.0a0']\n",
            "assimulo -> python[version='>=3.7,<3.8.0a0'] -> readline[version='>=8.0,<9.0a0']\n",
            "scipy -> python[version='>=3.7,<3.8.0a0'] -> readline[version='>=8.0,<9.0a0']\n",
            "six==1.16.0=pyhd3eb1b0_1 -> python -> readline[version='>=8.0,<9.0a0']\n",
            "\n",
            "Package xz conflicts for:\n",
            "urllib3==1.26.8=pyhd3eb1b0_0 -> python[version='<4.0'] -> xz[version='>=5.2.5,<6.0a0']\n",
            "ruamel_yaml==0.15.100=py37h27cfd23_0 -> python[version='>=3.7,<3.8.0a0'] -> xz[version='>=5.2.5,<6.0a0']\n",
            "pyopenssl==22.0.0=pyhd3eb1b0_0 -> python[version='>=3.6'] -> xz[version='>=5.2.5,<6.0a0']\n",
            "numpy-base -> python[version='>=3.7,<3.8.0a0'] -> xz[version='>=5.2.5,<6.0a0']\n",
            "pycparser==2.21=pyhd3eb1b0_0 -> python[version='>=3.6'] -> xz[version='>=5.2.5,<6.0a0']\n",
            "xz==5.2.5=h7b6447c_0\n",
            "cytoolz -> python[version='>=3.7,<3.8.0a0'] -> xz[version='>=5.2.5,<6.0a0']\n",
            "conda==4.12.0=py37h06a4308_0 -> python[version='>=3.7,<3.8.0a0'] -> xz[version='>=5.2.5,<6.0a0']\n",
            "six==1.16.0=pyhd3eb1b0_1 -> python -> xz[version='>=5.2.5,<6.0a0']\n",
            "wheel==0.37.1=pyhd3eb1b0_0 -> python -> xz[version='>=5.2.5,<6.0a0']\n",
            "conda-content-trust==0.1.1=pyhd3eb1b0_0 -> python -> xz[version='>=5.2.5,<6.0a0']\n",
            "python_abi -> python=3.7 -> xz[version='>=5.2.5,<6.0a0']\n",
            "pyfmi -> python[version='>=3.7,<3.8.0a0'] -> xz[version='>=5.2.5,<6.0a0']\n",
            "charset-normalizer==2.0.4=pyhd3eb1b0_0 -> python[version='>=3.5'] -> xz[version='>=5.2.5,<6.0a0']\n",
            "scipy -> python[version='>=3.7,<3.8.0a0'] -> xz[version='>=5.2.5,<6.0a0']\n",
            "libxslt -> libxml2[version='>=2.9.10,<2.10.0a0'] -> xz[version='>=5.2.5,<5.3.0a0']\n",
            "pysocks==1.7.1=py37_1 -> python[version='>=3.7,<3.8.0a0'] -> xz[version='>=5.2.5,<6.0a0']\n",
            "lxml -> libxml2[version='>=2.9.10,<2.10.0a0'] -> xz[version='>=5.2.5,<5.3.0a0|>=5.2.5,<6.0a0']\n",
            "assimulo -> python[version='>=3.7,<3.8.0a0'] -> xz[version='>=5.2.5,<6.0a0']\n",
            "cffi==1.15.0=py37hd667e15_1 -> python[version='>=3.7,<3.8.0a0'] -> xz[version='>=5.2.5,<6.0a0']\n",
            "libxml2 -> xz[version='>=5.2.5,<5.3.0a0']\n",
            "brotlipy==0.7.0=py37h27cfd23_1003 -> python[version='>=3.7,<3.8.0a0'] -> xz[version='>=5.2.5,<6.0a0']\n",
            "certifi==2021.10.8=py37h06a4308_2 -> python[version='>=3.7,<3.8.0a0'] -> xz[version='>=5.2.5,<6.0a0']\n",
            "python==3.7.13=h12debd9_0 -> xz[version='>=5.2.5,<6.0a0']\n",
            "colorama==0.4.4=pyhd3eb1b0_0 -> python -> xz[version='>=5.2.5,<6.0a0']\n",
            "setuptools==61.2.0=py37h06a4308_0 -> python[version='>=3.7,<3.8.0a0'] -> xz[version='>=5.2.5,<6.0a0']\n",
            "idna==3.3=pyhd3eb1b0_0 -> python[version='>=3.5'] -> xz[version='>=5.2.5,<6.0a0']\n",
            "pycosat==0.6.3=py37h27cfd23_0 -> python[version='>=3.7,<3.8.0a0'] -> xz[version='>=5.2.5,<6.0a0']\n",
            "tqdm==4.63.0=pyhd3eb1b0_0 -> python[version='>=2.7'] -> xz[version='>=5.2.5,<6.0a0']\n",
            "requests==2.27.1=pyhd3eb1b0_0 -> python[version='>=3.6'] -> xz[version='>=5.2.5,<6.0a0']\n",
            "pip==21.2.2=py37h06a4308_0 -> python[version='>=3.7,<3.8.0a0'] -> xz[version='>=5.2.5,<6.0a0']\n",
            "cryptography==36.0.0=py37h9ce1e76_0 -> python[version='>=3.7,<3.8.0a0'] -> xz[version='>=5.2.5,<6.0a0']\n",
            "conda-package-handling==1.8.1=py37h7f8727e_0 -> python[version='>=3.7,<3.8.0a0'] -> xz[version='>=5.2.5,<6.0a0']\n",
            "numpy -> python[version='>=3.7,<3.8.0a0'] -> xz[version='>=5.2.5,<6.0a0']\n",
            "toolz -> python[version='>=3.5'] -> xz[version='>=5.2.5,<6.0a0']\n",
            "\n",
            "Package ncurses conflicts for:\n",
            "sqlite==3.38.2=hc218d9a_0 -> readline[version='>=8.0,<9.0a0'] -> ncurses[version='>=6.3,<7.0a0']\n",
            "python==3.7.13=h12debd9_0 -> ncurses[version='>=6.3,<7.0a0']\n",
            "colorama==0.4.4=pyhd3eb1b0_0 -> python -> ncurses[version='>=6.3,<7.0a0']\n",
            "tqdm==4.63.0=pyhd3eb1b0_0 -> python[version='>=2.7'] -> ncurses[version='>=6.3,<7.0a0']\n",
            "requests==2.27.1=pyhd3eb1b0_0 -> python[version='>=3.6'] -> ncurses[version='>=6.3,<7.0a0']\n",
            "pyopenssl==22.0.0=pyhd3eb1b0_0 -> python[version='>=3.6'] -> ncurses[version='>=6.3,<7.0a0']\n",
            "wheel==0.37.1=pyhd3eb1b0_0 -> python -> ncurses[version='>=6.3,<7.0a0']\n",
            "brotlipy==0.7.0=py37h27cfd23_1003 -> python[version='>=3.7,<3.8.0a0'] -> ncurses[version='>=6.3,<7.0a0']\n",
            "pip==21.2.2=py37h06a4308_0 -> python[version='>=3.7,<3.8.0a0'] -> ncurses[version='>=6.3,<7.0a0']\n",
            "pyfmi -> python[version='>=3.7,<3.8.0a0'] -> ncurses[version='>=6.3,<7.0a0']\n",
            "certifi==2021.10.8=py37h06a4308_2 -> python[version='>=3.7,<3.8.0a0'] -> ncurses[version='>=6.3,<7.0a0']\n",
            "pycosat==0.6.3=py37h27cfd23_0 -> python[version='>=3.7,<3.8.0a0'] -> ncurses[version='>=6.3,<7.0a0']\n",
            "cryptography==36.0.0=py37h9ce1e76_0 -> python[version='>=3.7,<3.8.0a0'] -> ncurses[version='>=6.3,<7.0a0']\n",
            "conda-package-handling==1.8.1=py37h7f8727e_0 -> python[version='>=3.7,<3.8.0a0'] -> ncurses[version='>=6.3,<7.0a0']\n",
            "idna==3.3=pyhd3eb1b0_0 -> python[version='>=3.5'] -> ncurses[version='>=6.3,<7.0a0']\n",
            "toolz -> python[version='>=3.5'] -> ncurses[version='>=6.3,<7.0a0']\n",
            "urllib3==1.26.8=pyhd3eb1b0_0 -> python[version='<4.0'] -> ncurses[version='>=6.3,<7.0a0']\n",
            "ruamel_yaml==0.15.100=py37h27cfd23_0 -> python[version='>=3.7,<3.8.0a0'] -> ncurses[version='>=6.3,<7.0a0']\n",
            "numpy-base -> python[version='>=3.7,<3.8.0a0'] -> ncurses[version='>=6.3,<7.0a0']\n",
            "conda==4.12.0=py37h06a4308_0 -> python[version='>=3.7,<3.8.0a0'] -> ncurses[version='>=6.3,<7.0a0']\n",
            "ncurses==6.3=h7f8727e_2\n",
            "numpy -> python[version='>=3.7,<3.8.0a0'] -> ncurses[version='>=6.3,<7.0a0']\n",
            "setuptools==61.2.0=py37h06a4308_0 -> python[version='>=3.7,<3.8.0a0'] -> ncurses[version='>=6.3,<7.0a0']\n",
            "conda-content-trust==0.1.1=pyhd3eb1b0_0 -> python -> ncurses[version='>=6.3,<7.0a0']\n",
            "python_abi -> python=3.7 -> ncurses[version='>=6.3,<7.0a0']\n",
            "lxml -> python[version='>=3.7,<3.8.0a0'] -> ncurses[version='>=6.3,<7.0a0']\n",
            "scipy -> python[version='>=3.7,<3.8.0a0'] -> ncurses[version='>=6.3,<7.0a0']\n",
            "six==1.16.0=pyhd3eb1b0_1 -> python -> ncurses[version='>=6.3,<7.0a0']\n",
            "pysocks==1.7.1=py37_1 -> python[version='>=3.7,<3.8.0a0'] -> ncurses[version='>=6.3,<7.0a0']\n",
            "pycparser==2.21=pyhd3eb1b0_0 -> python[version='>=3.6'] -> ncurses[version='>=6.3,<7.0a0']\n",
            "assimulo -> python[version='>=3.7,<3.8.0a0'] -> ncurses[version='>=6.3,<7.0a0']\n",
            "cffi==1.15.0=py37hd667e15_1 -> python[version='>=3.7,<3.8.0a0'] -> ncurses[version='>=6.3,<7.0a0']\n",
            "charset-normalizer==2.0.4=pyhd3eb1b0_0 -> python[version='>=3.5'] -> ncurses[version='>=6.3,<7.0a0']\n",
            "cytoolz -> python[version='>=3.7,<3.8.0a0'] -> ncurses[version='>=6.3,<7.0a0']\n",
            "\n",
            "Package sqlite conflicts for:\n",
            "scipy -> python[version='>=3.7,<3.8.0a0'] -> sqlite[version='>=3.38.0,<4.0a0']\n",
            "pyopenssl==22.0.0=pyhd3eb1b0_0 -> python[version='>=3.6'] -> sqlite[version='>=3.38.0,<4.0a0']\n",
            "charset-normalizer==2.0.4=pyhd3eb1b0_0 -> python[version='>=3.5'] -> sqlite[version='>=3.38.0,<4.0a0']\n",
            "colorama==0.4.4=pyhd3eb1b0_0 -> python -> sqlite[version='>=3.38.0,<4.0a0']\n",
            "pycparser==2.21=pyhd3eb1b0_0 -> python[version='>=3.6'] -> sqlite[version='>=3.38.0,<4.0a0']\n",
            "pysocks==1.7.1=py37_1 -> python[version='>=3.7,<3.8.0a0'] -> sqlite[version='>=3.38.0,<4.0a0']\n",
            "brotlipy==0.7.0=py37h27cfd23_1003 -> python[version='>=3.7,<3.8.0a0'] -> sqlite[version='>=3.38.0,<4.0a0']\n",
            "wheel==0.37.1=pyhd3eb1b0_0 -> python -> sqlite[version='>=3.38.0,<4.0a0']\n",
            "pyfmi -> python[version='>=3.7,<3.8.0a0'] -> sqlite[version='>=3.38.0,<4.0a0']\n",
            "tqdm==4.63.0=pyhd3eb1b0_0 -> python[version='>=2.7'] -> sqlite[version='>=3.38.0,<4.0a0']\n",
            "python==3.7.13=h12debd9_0 -> sqlite[version='>=3.38.0,<4.0a0']\n",
            "idna==3.3=pyhd3eb1b0_0 -> python[version='>=3.5'] -> sqlite[version='>=3.38.0,<4.0a0']\n",
            "pycosat==0.6.3=py37h27cfd23_0 -> python[version='>=3.7,<3.8.0a0'] -> sqlite[version='>=3.38.0,<4.0a0']\n",
            "urllib3==1.26.8=pyhd3eb1b0_0 -> python[version='<4.0'] -> sqlite[version='>=3.38.0,<4.0a0']\n",
            "requests==2.27.1=pyhd3eb1b0_0 -> python[version='>=3.6'] -> sqlite[version='>=3.38.0,<4.0a0']\n",
            "cffi==1.15.0=py37hd667e15_1 -> python[version='>=3.7,<3.8.0a0'] -> sqlite[version='>=3.38.0,<4.0a0']\n",
            "sqlite==3.38.2=hc218d9a_0\n",
            "numpy-base -> python[version='>=3.7,<3.8.0a0'] -> sqlite[version='>=3.38.0,<4.0a0']\n",
            "ruamel_yaml==0.15.100=py37h27cfd23_0 -> python[version='>=3.7,<3.8.0a0'] -> sqlite[version='>=3.38.0,<4.0a0']\n",
            "pip==21.2.2=py37h06a4308_0 -> python[version='>=3.7,<3.8.0a0'] -> sqlite[version='>=3.38.0,<4.0a0']\n",
            "toolz -> python[version='>=3.5'] -> sqlite[version='>=3.38.0,<4.0a0']\n",
            "conda-package-handling==1.8.1=py37h7f8727e_0 -> python[version='>=3.7,<3.8.0a0'] -> sqlite[version='>=3.38.0,<4.0a0']\n",
            "certifi==2021.10.8=py37h06a4308_2 -> python[version='>=3.7,<3.8.0a0'] -> sqlite[version='>=3.38.0,<4.0a0']\n",
            "cryptography==36.0.0=py37h9ce1e76_0 -> python[version='>=3.7,<3.8.0a0'] -> sqlite[version='>=3.38.0,<4.0a0']\n",
            "setuptools==61.2.0=py37h06a4308_0 -> python[version='>=3.7,<3.8.0a0'] -> sqlite[version='>=3.38.0,<4.0a0']\n",
            "numpy -> python[version='>=3.7,<3.8.0a0'] -> sqlite[version='>=3.38.0,<4.0a0']\n",
            "python_abi -> python=3.7 -> sqlite[version='>=3.38.0,<4.0a0']\n",
            "conda-content-trust==0.1.1=pyhd3eb1b0_0 -> python -> sqlite[version='>=3.38.0,<4.0a0']\n",
            "lxml -> python[version='>=3.7,<3.8.0a0'] -> sqlite[version='>=3.38.0,<4.0a0']\n",
            "assimulo -> python[version='>=3.7,<3.8.0a0'] -> sqlite[version='>=3.38.0,<4.0a0']\n",
            "conda==4.12.0=py37h06a4308_0 -> python[version='>=3.7,<3.8.0a0'] -> sqlite[version='>=3.38.0,<4.0a0']\n",
            "six==1.16.0=pyhd3eb1b0_1 -> python -> sqlite[version='>=3.38.0,<4.0a0']\n",
            "cytoolz -> python[version='>=3.7,<3.8.0a0'] -> sqlite[version='>=3.38.0,<4.0a0']\n",
            "\n",
            "Package libgfortran-ng conflicts for:\n",
            "libgfortran-ng\n",
            "assimulo -> libgfortran-ng\n",
            "blas -> libgfortran-ng\n",
            "openblas -> libgfortran-ng\n",
            "numpy -> blas=[build=openblas] -> libgfortran-ng\n",
            "scipy -> libgfortran-ng\n",
            "blas-devel -> openblas=0.3.21 -> libgfortran-ng\n",
            "libblas -> libopenblas[version='>=0.3.21,<0.3.22.0a0'] -> libgfortran-ng\n",
            "pyfmi -> assimulo[version='>=3.0'] -> libgfortran-ng\n",
            "numpy-base -> blas=[build=openblas] -> libgfortran-ng\n",
            "libopenblas -> libgfortran-ng\n",
            "\n",
            "Package zlib conflicts for:\n",
            "libxslt -> libxml2[version='>=2.9.10,<2.10.0a0'] -> zlib[version='>=1.2.11,<1.3.0a0']\n",
            "brotlipy==0.7.0=py37h27cfd23_1003 -> python[version='>=3.7,<3.8.0a0'] -> zlib[version='>=1.2.11,<1.3.0a0']\n",
            "tk==8.6.11=h1ccaba5_0 -> zlib[version='>=1.2.11,<1.3.0a0']\n",
            "conda-package-handling==1.8.1=py37h7f8727e_0 -> python[version='>=3.7,<3.8.0a0'] -> zlib[version='>=1.2.11,<1.3.0a0']\n",
            "pip==21.2.2=py37h06a4308_0 -> python[version='>=3.7,<3.8.0a0'] -> zlib[version='>=1.2.11,<1.3.0a0']\n",
            "pycosat==0.6.3=py37h27cfd23_0 -> python[version='>=3.7,<3.8.0a0'] -> zlib[version='>=1.2.11,<1.3.0a0']\n",
            "pyfmi -> python[version='>=3.7,<3.8.0a0'] -> zlib[version='>=1.2.11,<1.3.0a0']\n",
            "urllib3==1.26.8=pyhd3eb1b0_0 -> python[version='<4.0'] -> zlib[version='>=1.2.11,<1.3.0a0']\n",
            "cryptography==36.0.0=py37h9ce1e76_0 -> python[version='>=3.7,<3.8.0a0'] -> zlib[version='>=1.2.11,<1.3.0a0']\n",
            "toolz -> python[version='>=3.5'] -> zlib[version='>=1.2.11,<1.3.0a0']\n",
            "numpy-base -> python[version='>=3.7,<3.8.0a0'] -> zlib[version='>=1.2.11,<1.3.0a0']\n",
            "ruamel_yaml==0.15.100=py37h27cfd23_0 -> python[version='>=3.7,<3.8.0a0'] -> zlib[version='>=1.2.11,<1.3.0a0']\n",
            "pycparser==2.21=pyhd3eb1b0_0 -> python[version='>=3.6'] -> zlib[version='>=1.2.11,<1.3.0a0']\n",
            "conda==4.12.0=py37h06a4308_0 -> python[version='>=3.7,<3.8.0a0'] -> zlib[version='>=1.2.11,<1.3.0a0']\n",
            "numpy -> python[version='>=3.7,<3.8.0a0'] -> zlib[version='>=1.2.11,<1.3.0a0']\n",
            "python_abi -> python=3.7 -> zlib[version='>=1.2.11,<1.3.0a0']\n",
            "python==3.7.13=h12debd9_0 -> sqlite[version='>=3.38.0,<4.0a0'] -> zlib[version='>=1.2.12,<1.3.0a0']\n",
            "cytoolz -> python[version='>=3.7,<3.8.0a0'] -> zlib[version='>=1.2.11,<1.3.0a0']\n",
            "scipy -> python[version='>=3.7,<3.8.0a0'] -> zlib[version='>=1.2.11,<1.3.0a0']\n",
            "pyopenssl==22.0.0=pyhd3eb1b0_0 -> python[version='>=3.6'] -> zlib[version='>=1.2.11,<1.3.0a0']\n",
            "conda-content-trust==0.1.1=pyhd3eb1b0_0 -> python -> zlib[version='>=1.2.11,<1.3.0a0']\n",
            "six==1.16.0=pyhd3eb1b0_1 -> python -> zlib[version='>=1.2.11,<1.3.0a0']\n",
            "pysocks==1.7.1=py37_1 -> python[version='>=3.7,<3.8.0a0'] -> zlib[version='>=1.2.11,<1.3.0a0']\n",
            "assimulo -> python[version='>=3.7,<3.8.0a0'] -> zlib[version='>=1.2.11,<1.3.0a0']\n",
            "cffi==1.15.0=py37hd667e15_1 -> python[version='>=3.7,<3.8.0a0'] -> zlib[version='>=1.2.11,<1.3.0a0']\n",
            "wheel==0.37.1=pyhd3eb1b0_0 -> python -> zlib[version='>=1.2.11,<1.3.0a0']\n",
            "lxml -> libxml2[version='>=2.9.10,<2.10.0a0'] -> zlib[version='>=1.2.11,<1.3.0a0']\n",
            "libxml2 -> zlib[version='>=1.2.11,<1.3.0a0']\n",
            "charset-normalizer==2.0.4=pyhd3eb1b0_0 -> python[version='>=3.5'] -> zlib[version='>=1.2.11,<1.3.0a0']\n",
            "certifi==2021.10.8=py37h06a4308_2 -> python[version='>=3.7,<3.8.0a0'] -> zlib[version='>=1.2.11,<1.3.0a0']\n",
            "tqdm==4.63.0=pyhd3eb1b0_0 -> python[version='>=2.7'] -> zlib[version='>=1.2.11,<1.3.0a0']\n",
            "python==3.7.13=h12debd9_0 -> zlib[version='>=1.2.11,<1.3.0a0']\n",
            "colorama==0.4.4=pyhd3eb1b0_0 -> python -> zlib[version='>=1.2.11,<1.3.0a0']\n",
            "setuptools==61.2.0=py37h06a4308_0 -> python[version='>=3.7,<3.8.0a0'] -> zlib[version='>=1.2.11,<1.3.0a0']\n",
            "idna==3.3=pyhd3eb1b0_0 -> python[version='>=3.5'] -> zlib[version='>=1.2.11,<1.3.0a0']\n",
            "requests==2.27.1=pyhd3eb1b0_0 -> python[version='>=3.6'] -> zlib[version='>=1.2.11,<1.3.0a0']\n",
            "sqlite==3.38.2=hc218d9a_0 -> zlib[version='>=1.2.11,<1.3.0a0']\n",
            "zlib==1.2.12=h7f8727e_1\n",
            "\n",
            "Package libopenblas conflicts for:\n",
            "liblapacke -> libblas==3.9.0=16_linux64_openblas -> libopenblas[version='>=0.3.21,<0.3.22.0a0|>=0.3.21,<1.0a0']\n",
            "suitesparse -> libblas[version='>=3.8.0,<4.0a0'] -> libopenblas[version='>=0.3.20,<0.3.21.0a0|>=0.3.21,<0.3.22.0a0|>=0.3.21,<1.0a0|>=0.3.20,<1.0a0']\n",
            "libblas -> libopenblas[version='>=0.3.20,<0.3.21.0a0|>=0.3.21,<0.3.22.0a0|>=0.3.21,<1.0a0|>=0.3.20,<1.0a0']\n",
            "liblapack -> libblas==3.9.0=16_linux64_openblas -> libopenblas[version='>=0.3.20,<0.3.21.0a0|>=0.3.21,<0.3.22.0a0|>=0.3.21,<1.0a0|>=0.3.20,<1.0a0']\n",
            "numpy -> libblas[version='>=3.8.0,<4.0a0'] -> libopenblas[version='>=0.3.20,<0.3.21.0a0|>=0.3.21,<0.3.22.0a0|>=0.3.21,<1.0a0|>=0.3.20,<1.0a0']\n",
            "scipy -> libblas[version='>=3.8.0,<4.0a0'] -> libopenblas[version='>=0.3.20,<0.3.21.0a0|>=0.3.21,<0.3.22.0a0|>=0.3.21,<1.0a0|>=0.3.20,<1.0a0|>=0.3.3,<1.0a0']\n",
            "libcblas -> libblas==3.9.0=16_linux64_openblas -> libopenblas[version='>=0.3.20,<0.3.21.0a0|>=0.3.21,<0.3.22.0a0|>=0.3.21,<1.0a0|>=0.3.20,<1.0a0']\n",
            "pyfmi -> numpy[version='>=1.16.5,<2.0a0'] -> libopenblas[version='>=0.3.3,<1.0a0']\n",
            "blas -> libblas==3.9.0=16_linux64_openblas -> libopenblas[version='>=0.3.21,<0.3.22.0a0|>=0.3.21,<1.0a0']\n",
            "blas-devel -> libblas==3.9.0=16_linux64_openblas -> libopenblas[version='0.3.21|>=0.3.21,<0.3.22.0a0|>=0.3.21,<1.0a0',build=pthreads_h78a6416_2]\n",
            "openblas -> libopenblas==0.3.21=pthreads_h78a6416_2\n",
            "numpy -> libopenblas[version='>=0.3.3,<1.0a0']\n",
            "numpy-base -> libopenblas[version='>=0.3.3,<1.0a0']\n",
            "libopenblas\n",
            "assimulo -> libblas[version='>=3.8.0,<4.0a0'] -> libopenblas[version='>=0.3.20,<0.3.21.0a0|>=0.3.21,<0.3.22.0a0|>=0.3.21,<1.0a0|>=0.3.20,<1.0a0|>=0.3.3,<1.0a0']\n",
            "\n",
            "Package cffi conflicts for:\n",
            "pyopenssl==22.0.0=pyhd3eb1b0_0 -> cryptography[version='>=35.0'] -> cffi[version='>=1.12']\n",
            "cryptography==36.0.0=py37h9ce1e76_0 -> cffi[version='>=1.12']\n",
            "brotlipy==0.7.0=py37h27cfd23_1003 -> cffi[version='>=1.0.0']\n",
            "urllib3==1.26.8=pyhd3eb1b0_0 -> brotlipy[version='>=0.6.0'] -> cffi[version='>=1.0.0|>=1.12']\n",
            "cffi==1.15.0=py37hd667e15_1\n",
            "conda-content-trust==0.1.1=pyhd3eb1b0_0 -> cryptography -> cffi[version='>=1.12']\n",
            "\n",
            "Package _libgcc_mutex conflicts for:\n",
            "assimulo -> libgcc-ng[version='>=9.4.0'] -> _libgcc_mutex[version='*|0.1|0.1',build='conda_forge|main']\n",
            "scipy -> libgcc-ng[version='>=9.4.0'] -> _libgcc_mutex[version='*|0.1|0.1',build='conda_forge|main']\n",
            "pyfmi -> libgcc-ng[version='>=7.5.0'] -> _libgcc_mutex[version='*|0.1|0.1',build='conda_forge|main']\n",
            "ncurses==6.3=h7f8727e_2 -> libgcc-ng[version='>=7.5.0'] -> _libgcc_mutex[version='*|0.1|0.1',build='conda_forge|main']\n",
            "libxslt -> libgcc-ng[version='>=9.3.0'] -> _libgcc_mutex[version='*|0.1|0.1',build='conda_forge|main']\n",
            "suitesparse -> libgcc-ng[version='>=9.4.0'] -> _libgcc_mutex[version='*|0.1|0.1',build='conda_forge|main']\n",
            "numpy-base -> libgcc-ng[version='>=7.3.0'] -> _libgcc_mutex[version='*|0.1|0.1',build='conda_forge|main']\n",
            "lxml -> libgcc-ng[version='>=10.3.0'] -> _libgcc_mutex[version='*|0.1|0.1',build='conda_forge|main']\n",
            "_libgcc_mutex==0.1=main\n",
            "tbb -> libgcc-ng[version='>=10.3.0'] -> _libgcc_mutex[version='*|0.1|0.1',build='conda_forge|main']\n",
            "openblas -> libgcc-ng[version='>=12'] -> _libgcc_mutex==0.1=conda_forge\n",
            "gmp -> libgcc-ng[version='>=7.5.0'] -> _libgcc_mutex[version='*|0.1|0.1',build='conda_forge|main']\n",
            "cffi==1.15.0=py37hd667e15_1 -> libgcc-ng[version='>=7.5.0'] -> _libgcc_mutex[version='*|0.1|0.1',build='conda_forge|main']\n",
            "libxml2 -> libgcc-ng[version='>=9.3.0'] -> _libgcc_mutex[version='*|0.1|0.1',build='conda_forge|main']\n",
            "libgcc-ng==9.3.0=h5101ec6_17 -> _openmp_mutex[version='>=4.5'] -> _libgcc_mutex==0.1=conda_forge\n",
            "sqlite==3.38.2=hc218d9a_0 -> libgcc-ng[version='>=7.5.0'] -> _libgcc_mutex[version='*|0.1|0.1',build='conda_forge|main']\n",
            "openssl==1.1.1n=h7f8727e_0 -> libgcc-ng[version='>=7.5.0'] -> _libgcc_mutex[version='*|0.1|0.1',build='conda_forge|main']\n",
            "ruamel_yaml==0.15.100=py37h27cfd23_0 -> libgcc-ng[version='>=7.3.0'] -> _libgcc_mutex[version='*|0.1|0.1',build='conda_forge|main']\n",
            "libgcc-ng==9.3.0=h5101ec6_17 -> _libgcc_mutex[version='*|0.1',build=main]\n",
            "libffi==3.3=he6710b0_2 -> libgcc-ng[version='>=7.3.0'] -> _libgcc_mutex[version='*|0.1|0.1',build='conda_forge|main']\n",
            "brotlipy==0.7.0=py37h27cfd23_1003 -> libgcc-ng[version='>=7.3.0'] -> _libgcc_mutex[version='*|0.1|0.1',build='conda_forge|main']\n",
            "conda-package-handling==1.8.1=py37h7f8727e_0 -> libgcc-ng[version='>=7.5.0'] -> _libgcc_mutex[version='*|0.1|0.1',build='conda_forge|main']\n",
            "pycosat==0.6.3=py37h27cfd23_0 -> libgcc-ng[version='>=7.3.0'] -> _libgcc_mutex[version='*|0.1|0.1',build='conda_forge|main']\n",
            "fmilib -> libgcc-ng[version='>=7.5.0'] -> _libgcc_mutex[version='*|0.1|0.1',build='conda_forge|main']\n",
            "cryptography==36.0.0=py37h9ce1e76_0 -> libgcc-ng -> _libgcc_mutex[version='*|0.1|0.1',build='conda_forge|main']\n",
            "libopenblas -> libgcc-ng[version='>=12'] -> _libgcc_mutex[version='*|0.1',build='conda_forge|main|main']\n",
            "python==3.7.13=h12debd9_0 -> libgcc-ng[version='>=7.5.0'] -> _libgcc_mutex[version='*|0.1|0.1',build='conda_forge|main']\n",
            "libzlib -> libgcc-ng[version='>=12'] -> _libgcc_mutex==0.1=conda_forge\n",
            "_openmp_mutex==4.5=1_gnu -> libgomp[version='>=7.5.0'] -> _libgcc_mutex==0.1=conda_forge\n",
            "icu -> libgcc-ng[version='>=9.4.0'] -> _libgcc_mutex[version='*|0.1|0.1',build='conda_forge|main']\n",
            "blas -> _openmp_mutex=[build=*_llvm] -> _libgcc_mutex==0.1[build='conda_forge|main']\n",
            "metis -> libgcc-ng[version='>=7.5.0'] -> _libgcc_mutex[version='*|0.1|0.1',build='conda_forge|main']\n",
            "zlib==1.2.12=h7f8727e_1 -> libgcc-ng[version='>=7.5.0'] -> _libgcc_mutex[version='*|0.1|0.1',build='conda_forge|main']\n",
            "cytoolz -> libgcc-ng[version='>=7.3.0'] -> _libgcc_mutex[version='*|0.1|0.1',build='conda_forge|main']\n",
            "xz==5.2.5=h7b6447c_0 -> libgcc-ng[version='>=7.3.0'] -> _libgcc_mutex[version='*|0.1|0.1',build='conda_forge|main']\n",
            "tk==8.6.11=h1ccaba5_0 -> libgcc-ng[version='>=7.5.0'] -> _libgcc_mutex[version='*|0.1|0.1',build='conda_forge|main']\n",
            "_openmp_mutex==4.5=1_gnu -> _libgcc_mutex==0.1=main\n",
            "yaml==0.2.5=h7b6447c_0 -> libgcc-ng[version='>=7.3.0'] -> _libgcc_mutex[version='*|0.1|0.1',build='conda_forge|main']\n",
            "sundials -> libgcc-ng[version='>=9.4.0'] -> _libgcc_mutex[version='*|0.1|0.1',build='conda_forge|main']\n",
            "numpy -> libgcc-ng[version='>=7.3.0'] -> _libgcc_mutex[version='*|0.1|0.1',build='conda_forge|main']\n",
            "mpfr -> libgcc-ng[version='>=7.5.0'] -> _libgcc_mutex[version='*|0.1|0.1',build='conda_forge|main']\n",
            "libgomp==9.3.0=h5101ec6_17 -> _libgcc_mutex==0.1=main\n",
            "libiconv -> libgcc-ng[version='>=7.5.0'] -> _libgcc_mutex[version='*|0.1|0.1',build='conda_forge|main']\n",
            "\n",
            "Package libstdcxx-ng conflicts for:\n",
            "tbb -> libstdcxx-ng[version='>=10.3.0']\n",
            "fmilib -> libstdcxx-ng[version='>=7.5.0']\n",
            "scipy -> libstdcxx-ng[version='>=9.4.0']\n",
            "assimulo -> numpy[version='>=1.18.5,<2.0a0'] -> libstdcxx-ng[version='>=10.3.0|>=9.4.0']\n",
            "libffi==3.3=he6710b0_2 -> libstdcxx-ng[version='>=7.3.0']\n",
            "pyfmi -> fmilib[version='>=2.2,<2.3.0a0'] -> libstdcxx-ng[version='>=10.3.0|>=7.5.0|>=9.4.0']\n",
            "cffi==1.15.0=py37hd667e15_1 -> libffi[version='>=3.3'] -> libstdcxx-ng[version='>=7.3.0']\n",
            "libxslt -> icu[version='>=68.1,<69.0a0'] -> libstdcxx-ng[version='>=9.4.0']\n",
            "gmp -> libstdcxx-ng[version='>=7.5.0']\n",
            "icu -> libstdcxx-ng[version='>=9.4.0']\n",
            "suitesparse -> libstdcxx-ng[version='>=9.4.0']\n",
            "libstdcxx-ng==9.3.0=hd4cf53a_17\n",
            "suitesparse -> tbb[version='>=2021.3.0'] -> libstdcxx-ng[version='>=10.3.0']\n",
            "scipy -> numpy[version='>=1.18.5,<2.0a0'] -> libstdcxx-ng[version='>=10.3.0']\n",
            "numpy -> libstdcxx-ng[version='>=10.3.0']\n",
            "mpfr -> gmp[version='>=6.2.1,<7.0a0'] -> libstdcxx-ng[version='>=7.5.0']\n",
            "python==3.7.13=h12debd9_0 -> libffi[version='>=3.3,<3.4.0a0'] -> libstdcxx-ng[version='>=7.3.0']\n",
            "libxml2 -> icu[version='>=68.1,<69.0a0'] -> libstdcxx-ng[version='>=9.4.0']\n",
            "sundials -> libstdcxx-ng[version='>=9.4.0']\n",
            "\n",
            "Package libcblas conflicts for:\n",
            "numpy-base -> blas=[build=openblas] -> libcblas==3.9.0=16_linux64_openblas\n",
            "scipy -> libcblas[version='>=3.8.0,<4.0a0']\n",
            "blas -> libcblas==3.9.0=16_linux64_openblas\n",
            "numpy -> blas=[build=openblas] -> libcblas==3.9.0=16_linux64_openblas\n",
            "sundials -> suitesparse[version='>=5.10.1,<6.0a0'] -> libcblas[version='>=3.8.0,<4.0a0']\n",
            "suitesparse -> libcblas[version='>=3.8.0,<4.0a0']\n",
            "blas-devel -> libcblas==3.9.0=16_linux64_openblas\n",
            "numpy -> libcblas[version='>=3.8.0,<4.0a0']\n",
            "pyfmi -> numpy[version='>=1.16.5,<2.0a0'] -> libcblas[version='>=3.8.0,<4.0a0']\n",
            "liblapacke -> libcblas==3.9.0=16_linux64_openblas\n",
            "libcblas\n",
            "assimulo -> numpy[version='>=1.18.5,<2.0a0'] -> libcblas[version='>=3.8.0,<4.0a0']\n",
            "\n",
            "Package python_abi conflicts for:\n",
            "python_abi\n",
            "assimulo -> python_abi=3.7[build=*_cp37m]\n",
            "scipy -> python_abi=3.7[build=*_cp37m]\n",
            "lxml -> python_abi=3.7[build=*_cp37m]\n",
            "numpy -> python_abi=3.7[build=*_cp37m]\n",
            "pyfmi -> python_abi=3.7[build=*_cp37m]\n",
            "\n",
            "Package cryptography conflicts for:\n",
            "pyopenssl==22.0.0=pyhd3eb1b0_0 -> cryptography[version='>=35.0']\n",
            "cryptography==36.0.0=py37h9ce1e76_0\n",
            "conda-content-trust==0.1.1=pyhd3eb1b0_0 -> cryptography\n",
            "urllib3==1.26.8=pyhd3eb1b0_0 -> pyopenssl[version='>=0.14'] -> cryptography[version='>=35.0']\n",
            "urllib3==1.26.8=pyhd3eb1b0_0 -> cryptography[version='>=1.3.4']\n",
            "requests==2.27.1=pyhd3eb1b0_0 -> urllib3[version='>=1.21.1,<1.27'] -> cryptography[version='>=1.3.4']\n",
            "conda==4.12.0=py37h06a4308_0 -> pyopenssl[version='>=16.2.0'] -> cryptography[version='>=35.0']\n",
            "\n",
            "Package gmp conflicts for:\n",
            "suitesparse -> mpfr[version='>=4.1.0,<5.0a0'] -> gmp[version='>=6.2.1,<7.0a0']\n",
            "gmp\n",
            "mpfr -> gmp[version='>=6.2.1,<7.0a0']\n",
            "\n",
            "Package charset-normalizer conflicts for:\n",
            "conda==4.12.0=py37h06a4308_0 -> requests[version='>=2.18.4,<3'] -> charset-normalizer[version='>=2.0.0,<2.1.0|>=2.0.0,<3']\n",
            "charset-normalizer==2.0.4=pyhd3eb1b0_0\n",
            "requests==2.27.1=pyhd3eb1b0_0 -> charset-normalizer[version='>=2.0.0,<2.1.0']\n",
            "\n",
            "Package python conflicts for:\n",
            "setuptools==61.2.0=py37h06a4308_0 -> certifi[version='>=2016.9.26'] -> python[version='>=3.7']\n",
            "lxml -> python[version='>=3.7,<3.8.0a0']\n",
            "scipy -> python_abi=3.7[build=*_cp37m] -> python=3.7\n",
            "wheel==0.37.1=pyhd3eb1b0_0 -> python\n",
            "lxml -> python_abi=3.7[build=*_cp37m] -> python=3.7\n",
            "six==1.16.0=pyhd3eb1b0_1 -> python\n",
            "charset-normalizer==2.0.4=pyhd3eb1b0_0 -> python[version='>=3.5']\n",
            "cryptography==36.0.0=py37h9ce1e76_0 -> python[version='>=3.7,<3.8.0a0']\n",
            "assimulo -> python_abi=3.7[build=*_cp37m] -> python=3.7\n",
            "python_abi -> python=3.7\n",
            "scipy -> python[version='>=3.7,<3.8.0a0']\n",
            "idna==3.3=pyhd3eb1b0_0 -> python[version='>=3.5']\n",
            "pysocks==1.7.1=py37_1 -> python[version='>=3.7,<3.8.0a0']\n",
            "pip==21.2.2=py37h06a4308_0 -> wheel -> python\n",
            "cffi==1.15.0=py37hd667e15_1 -> pycparser -> python[version='>=3.6']\n",
            "pyopenssl==22.0.0=pyhd3eb1b0_0 -> python[version='>=3.6']\n",
            "numpy -> python[version='>=3.7,<3.8.0a0']\n",
            "pyopenssl==22.0.0=pyhd3eb1b0_0 -> cryptography[version='>=35.0'] -> python[version='>=3.7,<3.8.0a0']\n",
            "conda-package-handling==1.8.1=py37h7f8727e_0 -> tqdm -> python[version='>=2.7']\n",
            "pyfmi -> python[version='>=3.7,<3.8.0a0']\n",
            "pycparser==2.21=pyhd3eb1b0_0 -> python[version='>=3.6']\n",
            "requests==2.27.1=pyhd3eb1b0_0 -> certifi[version='>=2017.4.17'] -> python[version='<4.0|>=3.5|>=3.7|>=3.7,<3.8.0a0']\n",
            "cytoolz -> toolz[version='>=0.10.0'] -> python[version='>=3.5']\n",
            "tqdm==4.63.0=pyhd3eb1b0_0 -> python[version='>=2.7']\n",
            "urllib3==1.26.8=pyhd3eb1b0_0 -> brotlipy[version='>=0.6.0'] -> python[version='>=3.5|>=3.7|>=3.7,<3.8.0a0|>=3.6']\n",
            "tqdm==4.63.0=pyhd3eb1b0_0 -> colorama -> python\n",
            "conda-content-trust==0.1.1=pyhd3eb1b0_0 -> python\n",
            "conda==4.12.0=py37h06a4308_0 -> pyopenssl[version='>=16.2.0'] -> python[version='>=3.6']\n",
            "assimulo -> python[version='>=3.7,<3.8.0a0']\n",
            "brotlipy==0.7.0=py37h27cfd23_1003 -> python[version='>=3.7,<3.8.0a0']\n",
            "pip==21.2.2=py37h06a4308_0 -> python[version='>=3.7,<3.8.0a0']\n",
            "cffi==1.15.0=py37hd667e15_1 -> python[version='>=3.7,<3.8.0a0']\n",
            "ruamel_yaml==0.15.100=py37h27cfd23_0 -> python[version='>=3.7,<3.8.0a0']\n",
            "requests==2.27.1=pyhd3eb1b0_0 -> python[version='>=3.6']\n",
            "conda==4.12.0=py37h06a4308_0 -> python[version='>=3.7,<3.8.0a0']\n",
            "colorama==0.4.4=pyhd3eb1b0_0 -> python\n",
            "conda-package-handling==1.8.1=py37h7f8727e_0 -> python[version='>=3.7,<3.8.0a0']\n",
            "python==3.7.13=h12debd9_0\n",
            "cytoolz -> python[version='>=3.7,<3.8.0a0']\n",
            "pyfmi -> python_abi=3.7[build=*_cp37m] -> python=3.7\n",
            "conda-content-trust==0.1.1=pyhd3eb1b0_0 -> cryptography -> python[version='>=3.7,<3.8.0a0']\n",
            "toolz -> python[version='>=3.5']\n",
            "pycosat==0.6.3=py37h27cfd23_0 -> python[version='>=3.7,<3.8.0a0']\n",
            "urllib3==1.26.8=pyhd3eb1b0_0 -> python[version='<4.0']\n",
            "numpy -> python_abi=3.7[build=*_cp37m] -> python=3.7\n",
            "certifi==2021.10.8=py37h06a4308_2 -> python[version='>=3.7,<3.8.0a0']\n",
            "numpy-base -> python[version='>=3.7,<3.8.0a0']\n",
            "setuptools==61.2.0=py37h06a4308_0 -> python[version='>=3.7,<3.8.0a0']\n",
            "\n",
            "Package liblapack conflicts for:\n",
            "liblapack\n",
            "blas -> liblapack==3.9.0=16_linux64_openblas\n",
            "numpy-base -> blas=[build=openblas] -> liblapack==3.9.0=16_linux64_openblas\n",
            "scipy -> liblapack[version='>=3.8.0,<4.0a0']\n",
            "numpy -> blas=[build=openblas] -> liblapack==3.9.0=16_linux64_openblas\n",
            "suitesparse -> liblapack[version='>=3.8.0,<4.0a0']\n",
            "blas-devel -> liblapack==3.9.0=16_linux64_openblas\n",
            "liblapacke -> liblapack==3.9.0=16_linux64_openblas\n",
            "pyfmi -> assimulo[version='>=3.0'] -> liblapack[version='>=3.8.0,<4.0a0']\n",
            "assimulo -> liblapack[version='>=3.8.0,<4.0a0']\n",
            "numpy -> liblapack[version='>=3.8.0,<4.0a0']\n",
            "sundials -> liblapack[version='>=3.8.0,<4.0a0']\n",
            "\n",
            "Package brotlipy conflicts for:\n",
            "brotlipy==0.7.0=py37h27cfd23_1003\n",
            "urllib3==1.26.8=pyhd3eb1b0_0 -> brotlipy[version='>=0.6.0']\n",
            "requests==2.27.1=pyhd3eb1b0_0 -> urllib3[version='>=1.21.1,<1.27'] -> brotlipy[version='>=0.6.0']\n",
            "\n",
            "Package certifi conflicts for:\n",
            "requests==2.27.1=pyhd3eb1b0_0 -> certifi[version='>=2017.4.17']\n",
            "setuptools==61.2.0=py37h06a4308_0 -> certifi[version='>=2016.9.26']\n",
            "requests==2.27.1=pyhd3eb1b0_0 -> urllib3[version='>=1.21.1,<1.27'] -> certifi\n",
            "pip==21.2.2=py37h06a4308_0 -> setuptools -> certifi[version='>=2016.9.26']\n",
            "certifi==2021.10.8=py37h06a4308_2\n",
            "urllib3==1.26.8=pyhd3eb1b0_0 -> certifi\n",
            "conda==4.12.0=py37h06a4308_0 -> requests[version='>=2.18.4,<3'] -> certifi[version='>=2016.9.26|>=2017.4.17']\n",
            "\n",
            "Package libblas conflicts for:\n",
            "assimulo -> libblas[version='>=3.8.0,<4.0a0']\n",
            "scipy -> libblas[version='>=3.8.0,<4.0a0']\n",
            "liblapacke -> libblas==3.9.0=16_linux64_openblas\n",
            "numpy -> blas=[build=openblas] -> libblas==3.9.0[build='16_linux64_openblas|15_linux64_openblas']\n",
            "suitesparse -> libcblas[version='>=3.8.0,<4.0a0'] -> libblas==3.9.0[build='16_linux64_openblas|15_linux64_openblas']\n",
            "libcblas -> libblas==3.9.0[build='16_linux64_openblas|15_linux64_openblas']\n",
            "blas -> libblas==3.9.0=16_linux64_openblas\n",
            "libblas\n",
            "suitesparse -> libblas[version='>=3.8.0,<4.0a0']\n",
            "sundials -> liblapack[version='>=3.8.0,<4.0a0'] -> libblas[version='3.9.0|>=3.8.0,<4.0a0',build='16_linux64_openblas|15_linux64_openblas']\n",
            "assimulo -> liblapack[version='>=3.8.0,<4.0a0'] -> libblas==3.9.0[build='16_linux64_openblas|15_linux64_openblas']\n",
            "numpy -> libblas[version='>=3.8.0,<4.0a0']\n",
            "numpy-base -> blas=[build=openblas] -> libblas==3.9.0=16_linux64_openblas\n",
            "pyfmi -> assimulo[version='>=3.0'] -> libblas[version='>=3.8.0,<4.0a0']\n",
            "liblapack -> libblas==3.9.0[build='16_linux64_openblas|15_linux64_openblas']\n",
            "blas-devel -> libblas==3.9.0=16_linux64_openblas\n",
            "scipy -> libcblas[version='>=3.8.0,<4.0a0'] -> libblas==3.9.0[build='16_linux64_openblas|15_linux64_openblas']\n",
            "\n",
            "Package libffi conflicts for:\n",
            "idna==3.3=pyhd3eb1b0_0 -> python[version='>=3.5'] -> libffi[version='>=3.3,<3.4.0a0']\n",
            "brotlipy==0.7.0=py37h27cfd23_1003 -> cffi[version='>=1.0.0'] -> libffi[version='>=3.3|>=3.3,<3.4.0a0']\n",
            "pip==21.2.2=py37h06a4308_0 -> python[version='>=3.7,<3.8.0a0'] -> libffi[version='>=3.3,<3.4.0a0']\n",
            "six==1.16.0=pyhd3eb1b0_1 -> python -> libffi[version='>=3.3,<3.4.0a0']\n",
            "pycosat==0.6.3=py37h27cfd23_0 -> python[version='>=3.7,<3.8.0a0'] -> libffi[version='>=3.3,<3.4.0a0']\n",
            "numpy -> python[version='>=3.7,<3.8.0a0'] -> libffi[version='>=3.3,<3.4.0a0']\n",
            "conda-package-handling==1.8.1=py37h7f8727e_0 -> python[version='>=3.7,<3.8.0a0'] -> libffi[version='>=3.3,<3.4.0a0']\n",
            "urllib3==1.26.8=pyhd3eb1b0_0 -> python[version='<4.0'] -> libffi[version='>=3.3,<3.4.0a0']\n",
            "pyopenssl==22.0.0=pyhd3eb1b0_0 -> python[version='>=3.6'] -> libffi[version='>=3.3,<3.4.0a0']\n",
            "ruamel_yaml==0.15.100=py37h27cfd23_0 -> python[version='>=3.7,<3.8.0a0'] -> libffi[version='>=3.3,<3.4.0a0']\n",
            "toolz -> python[version='>=3.5'] -> libffi[version='>=3.3,<3.4.0a0']\n",
            "pycparser==2.21=pyhd3eb1b0_0 -> python[version='>=3.6'] -> libffi[version='>=3.3,<3.4.0a0']\n",
            "numpy-base -> python[version='>=3.7,<3.8.0a0'] -> libffi[version='>=3.3,<3.4.0a0']\n",
            "cryptography==36.0.0=py37h9ce1e76_0 -> cffi[version='>=1.12'] -> libffi[version='>=3.3|>=3.3,<3.4.0a0']\n",
            "conda==4.12.0=py37h06a4308_0 -> python[version='>=3.7,<3.8.0a0'] -> libffi[version='>=3.3,<3.4.0a0']\n",
            "cytoolz -> python[version='>=3.7,<3.8.0a0'] -> libffi[version='>=3.3,<3.4.0a0']\n",
            "wheel==0.37.1=pyhd3eb1b0_0 -> python -> libffi[version='>=3.3,<3.4.0a0']\n",
            "libffi==3.3=he6710b0_2\n",
            "python_abi -> python=3.7 -> libffi[version='>=3.3,<3.4.0a0']\n",
            "charset-normalizer==2.0.4=pyhd3eb1b0_0 -> python[version='>=3.5'] -> libffi[version='>=3.3,<3.4.0a0']\n",
            "python==3.7.13=h12debd9_0 -> libffi[version='>=3.3,<3.4.0a0']\n",
            "conda-content-trust==0.1.1=pyhd3eb1b0_0 -> python -> libffi[version='>=3.3,<3.4.0a0']\n",
            "lxml -> python[version='>=3.7,<3.8.0a0'] -> libffi[version='>=3.3,<3.4.0a0']\n",
            "cffi==1.15.0=py37hd667e15_1 -> libffi[version='>=3.3']\n",
            "assimulo -> python[version='>=3.7,<3.8.0a0'] -> libffi[version='>=3.3,<3.4.0a0']\n",
            "scipy -> python[version='>=3.7,<3.8.0a0'] -> libffi[version='>=3.3,<3.4.0a0']\n",
            "pysocks==1.7.1=py37_1 -> python[version='>=3.7,<3.8.0a0'] -> libffi[version='>=3.3,<3.4.0a0']\n",
            "cffi==1.15.0=py37hd667e15_1 -> python[version='>=3.7,<3.8.0a0'] -> libffi[version='>=3.3,<3.4.0a0']\n",
            "pyfmi -> python[version='>=3.7,<3.8.0a0'] -> libffi[version='>=3.3,<3.4.0a0']\n",
            "certifi==2021.10.8=py37h06a4308_2 -> python[version='>=3.7,<3.8.0a0'] -> libffi[version='>=3.3,<3.4.0a0']\n",
            "setuptools==61.2.0=py37h06a4308_0 -> python[version='>=3.7,<3.8.0a0'] -> libffi[version='>=3.3,<3.4.0a0']\n",
            "colorama==0.4.4=pyhd3eb1b0_0 -> python -> libffi[version='>=3.3,<3.4.0a0']\n",
            "requests==2.27.1=pyhd3eb1b0_0 -> python[version='>=3.6'] -> libffi[version='>=3.3,<3.4.0a0']\n",
            "tqdm==4.63.0=pyhd3eb1b0_0 -> python[version='>=2.7'] -> libffi[version='>=3.3,<3.4.0a0']\n",
            "\n",
            "Package _openmp_mutex conflicts for:\n",
            "metis -> libgcc-ng[version='>=7.5.0'] -> _openmp_mutex[version='>=4.5']\n",
            "cytoolz -> libgcc-ng[version='>=7.3.0'] -> _openmp_mutex[version='>=4.5']\n",
            "tbb -> libgcc-ng[version='>=10.3.0'] -> _openmp_mutex[version='>=4.5']\n",
            "mpfr -> libgcc-ng[version='>=7.5.0'] -> _openmp_mutex[version='>=4.5']\n",
            "zlib==1.2.12=h7f8727e_1 -> libgcc-ng[version='>=7.5.0'] -> _openmp_mutex[version='>=4.5']\n",
            "scipy -> libgcc-ng[version='>=9.4.0'] -> _openmp_mutex[version='>=4.5']\n",
            "lxml -> libgcc-ng[version='>=10.3.0'] -> _openmp_mutex[version='>=4.5']\n",
            "blas -> _openmp_mutex[version='*|>=4.5',build=*_llvm]\n",
            "openblas -> libgcc-ng[version='>=12'] -> _openmp_mutex[version='>=4.5']\n",
            "libopenblas -> libgcc-ng[version='>=12'] -> _openmp_mutex[version='>=4.5']\n",
            "tk==8.6.11=h1ccaba5_0 -> libgcc-ng[version='>=7.5.0'] -> _openmp_mutex[version='>=4.5']\n",
            "libiconv -> libgcc-ng[version='>=7.5.0'] -> _openmp_mutex[version='>=4.5']\n",
            "yaml==0.2.5=h7b6447c_0 -> libgcc-ng[version='>=7.3.0'] -> _openmp_mutex[version='>=4.5']\n",
            "sundials -> libgcc-ng[version='>=9.4.0'] -> _openmp_mutex[version='>=4.5']\n",
            "numpy-base -> blas=[build=openblas] -> _openmp_mutex[version='*|>=4.5',build=*_llvm]\n",
            "numpy -> blas=[build=openblas] -> _openmp_mutex[version='*|>=4.5',build=*_llvm]\n",
            "ncurses==6.3=h7f8727e_2 -> libgcc-ng[version='>=7.5.0'] -> _openmp_mutex[version='>=4.5']\n",
            "libxslt -> libgcc-ng[version='>=9.3.0'] -> _openmp_mutex[version='>=4.5']\n",
            "xz==5.2.5=h7b6447c_0 -> libgcc-ng[version='>=7.3.0'] -> _openmp_mutex[version='>=4.5']\n",
            "cffi==1.15.0=py37hd667e15_1 -> libgcc-ng[version='>=7.5.0'] -> _openmp_mutex[version='>=4.5']\n",
            "assimulo -> libgcc-ng[version='>=9.4.0'] -> _openmp_mutex[version='>=4.5']\n",
            "icu -> libgcc-ng[version='>=9.4.0'] -> _openmp_mutex[version='>=4.5']\n",
            "pyfmi -> libgcc-ng[version='>=7.5.0'] -> _openmp_mutex[version='>=4.5']\n",
            "openssl==1.1.1n=h7f8727e_0 -> libgcc-ng[version='>=7.5.0'] -> _openmp_mutex[version='>=4.5']\n",
            "brotlipy==0.7.0=py37h27cfd23_1003 -> libgcc-ng[version='>=7.3.0'] -> _openmp_mutex[version='>=4.5']\n",
            "conda-package-handling==1.8.1=py37h7f8727e_0 -> libgcc-ng[version='>=7.5.0'] -> _openmp_mutex[version='>=4.5']\n",
            "fmilib -> libgcc-ng[version='>=7.5.0'] -> _openmp_mutex[version='>=4.5']\n",
            "libgcc-ng==9.3.0=h5101ec6_17 -> _openmp_mutex[version='>=4.5']\n",
            "suitesparse -> libgcc-ng[version='>=9.4.0'] -> _openmp_mutex[version='>=4.5']\n",
            "cryptography==36.0.0=py37h9ce1e76_0 -> libgcc-ng -> _openmp_mutex[version='>=4.5']\n",
            "libzlib -> libgcc-ng[version='>=12'] -> _openmp_mutex[version='>=4.5']\n",
            "libxml2 -> libgcc-ng[version='>=9.3.0'] -> _openmp_mutex[version='>=4.5']\n",
            "sqlite==3.38.2=hc218d9a_0 -> libgcc-ng[version='>=7.5.0'] -> _openmp_mutex[version='>=4.5']\n",
            "python==3.7.13=h12debd9_0 -> libgcc-ng[version='>=7.5.0'] -> _openmp_mutex[version='>=4.5']\n",
            "gmp -> libgcc-ng[version='>=7.5.0'] -> _openmp_mutex[version='>=4.5']\n",
            "_openmp_mutex==4.5=1_gnu\n",
            "ruamel_yaml==0.15.100=py37h27cfd23_0 -> libgcc-ng[version='>=7.3.0'] -> _openmp_mutex[version='>=4.5']\n",
            "libffi==3.3=he6710b0_2 -> libgcc-ng[version='>=7.3.0'] -> _openmp_mutex[version='>=4.5']\n",
            "pycosat==0.6.3=py37h27cfd23_0 -> libgcc-ng[version='>=7.3.0'] -> _openmp_mutex[version='>=4.5']\n",
            "\n",
            "Package libgfortran5 conflicts for:\n",
            "numpy -> blas=[build=openblas] -> libgfortran5[version='>=10.3.0|>=10.4.0']\n",
            "blas -> libgfortran-ng -> libgfortran5==12.1.0=hdcd56e2_16\n",
            "blas-devel -> openblas=0.3.21 -> libgfortran5[version='>=10.4.0']\n",
            "openblas -> libgfortran-ng -> libgfortran5==12.1.0=hdcd56e2_16\n",
            "assimulo -> libgfortran5[version='>=9.4.0']\n",
            "libopenblas -> libgfortran-ng -> libgfortran5==12.1.0=hdcd56e2_16\n",
            "libopenblas -> libgfortran5[version='>=10.3.0|>=10.4.0']\n",
            "libgfortran5\n",
            "assimulo -> libgfortran-ng -> libgfortran5==12.1.0=hdcd56e2_16\n",
            "pyfmi -> assimulo[version='>=3.0'] -> libgfortran5[version='>=9.4.0']\n",
            "scipy -> libgfortran-ng -> libgfortran5==12.1.0=hdcd56e2_16\n",
            "libblas -> libopenblas[version='>=0.3.21,<0.3.22.0a0'] -> libgfortran5[version='>=10.3.0|>=10.4.0']\n",
            "blas -> libgfortran5[version='>=10.4.0']\n",
            "libgfortran-ng -> libgfortran5==12.1.0=hdcd56e2_16\n",
            "scipy -> libgfortran5[version='>=9.4.0']\n",
            "openblas -> libgfortran5[version='>=10.4.0']\n",
            "numpy-base -> blas=[build=openblas] -> libgfortran5[version='>=10.3.0|>=10.4.0']\n",
            "\n",
            "Package urllib3 conflicts for:\n",
            "urllib3==1.26.8=pyhd3eb1b0_0\n",
            "requests==2.27.1=pyhd3eb1b0_0 -> urllib3[version='>=1.21.1,<1.27']\n",
            "conda==4.12.0=py37h06a4308_0 -> requests[version='>=2.18.4,<3'] -> urllib3[version='>=1.21.1,<1.27']\n",
            "\n",
            "Package sundials conflicts for:\n",
            "assimulo -> sundials[version='>=5.8.0,<5.9.0a0']\n",
            "pyfmi -> assimulo[version='>=3.0'] -> sundials[version='>=5.8.0,<5.9.0a0']\n",
            "sundials\n",
            "\n",
            "Package suitesparse conflicts for:\n",
            "sundials -> suitesparse[version='>=5.10.1,<6.0a0']\n",
            "assimulo -> sundials[version='>=5.8.0,<5.9.0a0'] -> suitesparse[version='>=5.10.1,<6.0a0']\n",
            "suitesparse\n",
            "\n",
            "Package tk conflicts for:\n",
            "numpy-base -> python[version='>=3.7,<3.8.0a0'] -> tk[version='>=8.6.11,<8.7.0a0']\n",
            "numpy -> python[version='>=3.7,<3.8.0a0'] -> tk[version='>=8.6.11,<8.7.0a0']\n",
            "conda-package-handling==1.8.1=py37h7f8727e_0 -> python[version='>=3.7,<3.8.0a0'] -> tk[version='>=8.6.11,<8.7.0a0']\n",
            "certifi==2021.10.8=py37h06a4308_2 -> python[version='>=3.7,<3.8.0a0'] -> tk[version='>=8.6.11,<8.7.0a0']\n",
            "setuptools==61.2.0=py37h06a4308_0 -> python[version='>=3.7,<3.8.0a0'] -> tk[version='>=8.6.11,<8.7.0a0']\n",
            "lxml -> python[version='>=3.7,<3.8.0a0'] -> tk[version='>=8.6.11,<8.7.0a0']\n",
            "python_abi -> python=3.7 -> tk[version='>=8.6.11,<8.7.0a0']\n",
            "cffi==1.15.0=py37hd667e15_1 -> python[version='>=3.7,<3.8.0a0'] -> tk[version='>=8.6.11,<8.7.0a0']\n",
            "pip==21.2.2=py37h06a4308_0 -> python[version='>=3.7,<3.8.0a0'] -> tk[version='>=8.6.11,<8.7.0a0']\n",
            "ruamel_yaml==0.15.100=py37h27cfd23_0 -> python[version='>=3.7,<3.8.0a0'] -> tk[version='>=8.6.11,<8.7.0a0']\n",
            "cytoolz -> python[version='>=3.7,<3.8.0a0'] -> tk[version='>=8.6.11,<8.7.0a0']\n",
            "six==1.16.0=pyhd3eb1b0_1 -> python -> tk[version='>=8.6.11,<8.7.0a0']\n",
            "assimulo -> python[version='>=3.7,<3.8.0a0'] -> tk[version='>=8.6.11,<8.7.0a0']\n",
            "charset-normalizer==2.0.4=pyhd3eb1b0_0 -> python[version='>=3.5'] -> tk[version='>=8.6.11,<8.7.0a0']\n",
            "scipy -> python[version='>=3.7,<3.8.0a0'] -> tk[version='>=8.6.11,<8.7.0a0']\n",
            "pyopenssl==22.0.0=pyhd3eb1b0_0 -> python[version='>=3.6'] -> tk[version='>=8.6.11,<8.7.0a0']\n",
            "python==3.7.13=h12debd9_0 -> tk[version='>=8.6.11,<8.7.0a0']\n",
            "conda-content-trust==0.1.1=pyhd3eb1b0_0 -> python -> tk[version='>=8.6.11,<8.7.0a0']\n",
            "pycparser==2.21=pyhd3eb1b0_0 -> python[version='>=3.6'] -> tk[version='>=8.6.11,<8.7.0a0']\n",
            "pysocks==1.7.1=py37_1 -> python[version='>=3.7,<3.8.0a0'] -> tk[version='>=8.6.11,<8.7.0a0']\n",
            "colorama==0.4.4=pyhd3eb1b0_0 -> python -> tk[version='>=8.6.11,<8.7.0a0']\n",
            "requests==2.27.1=pyhd3eb1b0_0 -> python[version='>=3.6'] -> tk[version='>=8.6.11,<8.7.0a0']\n",
            "conda==4.12.0=py37h06a4308_0 -> python[version='>=3.7,<3.8.0a0'] -> tk[version='>=8.6.11,<8.7.0a0']\n",
            "wheel==0.37.1=pyhd3eb1b0_0 -> python -> tk[version='>=8.6.11,<8.7.0a0']\n",
            "brotlipy==0.7.0=py37h27cfd23_1003 -> python[version='>=3.7,<3.8.0a0'] -> tk[version='>=8.6.11,<8.7.0a0']\n",
            "pyfmi -> python[version='>=3.7,<3.8.0a0'] -> tk[version='>=8.6.11,<8.7.0a0']\n",
            "tk==8.6.11=h1ccaba5_0\n",
            "pycosat==0.6.3=py37h27cfd23_0 -> python[version='>=3.7,<3.8.0a0'] -> tk[version='>=8.6.11,<8.7.0a0']\n",
            "tqdm==4.63.0=pyhd3eb1b0_0 -> python[version='>=2.7'] -> tk[version='>=8.6.11,<8.7.0a0']\n",
            "cryptography==36.0.0=py37h9ce1e76_0 -> python[version='>=3.7,<3.8.0a0'] -> tk[version='>=8.6.11,<8.7.0a0']\n",
            "urllib3==1.26.8=pyhd3eb1b0_0 -> python[version='<4.0'] -> tk[version='>=8.6.11,<8.7.0a0']\n",
            "idna==3.3=pyhd3eb1b0_0 -> python[version='>=3.5'] -> tk[version='>=8.6.11,<8.7.0a0']\n",
            "toolz -> python[version='>=3.5'] -> tk[version='>=8.6.11,<8.7.0a0']\n",
            "\n",
            "Package ld_impl_linux-64 conflicts for:\n",
            "certifi==2021.10.8=py37h06a4308_2 -> python[version='>=3.7,<3.8.0a0'] -> ld_impl_linux-64\n",
            "tqdm==4.63.0=pyhd3eb1b0_0 -> python[version='>=2.7'] -> ld_impl_linux-64\n",
            "setuptools==61.2.0=py37h06a4308_0 -> python[version='>=3.7,<3.8.0a0'] -> ld_impl_linux-64\n",
            "idna==3.3=pyhd3eb1b0_0 -> python[version='>=3.5'] -> ld_impl_linux-64\n",
            "pycosat==0.6.3=py37h27cfd23_0 -> python[version='>=3.7,<3.8.0a0'] -> ld_impl_linux-64\n",
            "cryptography==36.0.0=py37h9ce1e76_0 -> python[version='>=3.7,<3.8.0a0'] -> ld_impl_linux-64\n",
            "lxml -> python[version='>=3.7,<3.8.0a0'] -> ld_impl_linux-64\n",
            "urllib3==1.26.8=pyhd3eb1b0_0 -> python[version='<4.0'] -> ld_impl_linux-64\n",
            "ruamel_yaml==0.15.100=py37h27cfd23_0 -> python[version='>=3.7,<3.8.0a0'] -> ld_impl_linux-64\n",
            "pip==21.2.2=py37h06a4308_0 -> python[version='>=3.7,<3.8.0a0'] -> ld_impl_linux-64\n",
            "numpy-base -> python[version='>=3.7,<3.8.0a0'] -> ld_impl_linux-64\n",
            "numpy -> python[version='>=3.7,<3.8.0a0'] -> ld_impl_linux-64\n",
            "conda-package-handling==1.8.1=py37h7f8727e_0 -> python[version='>=3.7,<3.8.0a0'] -> ld_impl_linux-64\n",
            "pyopenssl==22.0.0=pyhd3eb1b0_0 -> python[version='>=3.6'] -> ld_impl_linux-64\n",
            "python==3.7.13=h12debd9_0 -> ld_impl_linux-64\n",
            "conda-content-trust==0.1.1=pyhd3eb1b0_0 -> python -> ld_impl_linux-64\n",
            "python_abi -> python=3.7 -> ld_impl_linux-64\n",
            "pycparser==2.21=pyhd3eb1b0_0 -> python[version='>=3.6'] -> ld_impl_linux-64\n",
            "ld_impl_linux-64==2.35.1=h7274673_9\n",
            "six==1.16.0=pyhd3eb1b0_1 -> python -> ld_impl_linux-64\n",
            "assimulo -> python[version='>=3.7,<3.8.0a0'] -> ld_impl_linux-64\n",
            "conda==4.12.0=py37h06a4308_0 -> python[version='>=3.7,<3.8.0a0'] -> ld_impl_linux-64\n",
            "cffi==1.15.0=py37hd667e15_1 -> python[version='>=3.7,<3.8.0a0'] -> ld_impl_linux-64\n",
            "wheel==0.37.1=pyhd3eb1b0_0 -> python -> ld_impl_linux-64\n",
            "cytoolz -> python[version='>=3.7,<3.8.0a0'] -> ld_impl_linux-64\n",
            "charset-normalizer==2.0.4=pyhd3eb1b0_0 -> python[version='>=3.5'] -> ld_impl_linux-64\n",
            "pyfmi -> python[version='>=3.7,<3.8.0a0'] -> ld_impl_linux-64\n",
            "colorama==0.4.4=pyhd3eb1b0_0 -> python -> ld_impl_linux-64\n",
            "requests==2.27.1=pyhd3eb1b0_0 -> python[version='>=3.6'] -> ld_impl_linux-64\n",
            "scipy -> python[version='>=3.7,<3.8.0a0'] -> ld_impl_linux-64\n",
            "toolz -> python[version='>=3.5'] -> ld_impl_linux-64\n",
            "pysocks==1.7.1=py37_1 -> python[version='>=3.7,<3.8.0a0'] -> ld_impl_linux-64\n",
            "brotlipy==0.7.0=py37h27cfd23_1003 -> python[version='>=3.7,<3.8.0a0'] -> ld_impl_linux-64\n",
            "\n",
            "Package setuptools conflicts for:\n",
            "pip==21.2.2=py37h06a4308_0 -> setuptools\n",
            "setuptools==61.2.0=py37h06a4308_0\n",
            "conda==4.12.0=py37h06a4308_0 -> setuptools[version='>=31.0.1']\n",
            "\n",
            "Package scipy conflicts for:\n",
            "pyfmi -> scipy\n",
            "assimulo -> scipy\n",
            "scipy\n",
            "\n",
            "Package numpy conflicts for:\n",
            "assimulo -> numpy[version='>=1.18.5,<2.0a0']\n",
            "pyfmi -> assimulo[version='>=3.0'] -> numpy[version='>=1.18.5,<2.0a0']\n",
            "numpy\n",
            "scipy -> numpy[version='>=1.18.5,<2.0a0']\n",
            "pyfmi -> numpy[version='>=1.16.5,<2.0a0']\n",
            "\n",
            "Package wheel conflicts for:\n",
            "pip==21.2.2=py37h06a4308_0 -> wheel\n",
            "wheel==0.37.1=pyhd3eb1b0_0\n",
            "\n",
            "Package blas-devel conflicts for:\n",
            "numpy-base -> blas=[build=openblas] -> blas-devel==3.9.0=16_linux64_openblas\n",
            "numpy -> blas=[build=openblas] -> blas-devel==3.9.0=16_linux64_openblas\n",
            "blas -> blas-devel==3.9.0=16_linux64_openblas\n",
            "blas-devel\n",
            "\n",
            "Package openssl conflicts for:\n",
            "numpy -> python[version='>=3.7,<3.8.0a0'] -> openssl[version='>=1.1.1n,<1.1.2a']\n",
            "pyopenssl==22.0.0=pyhd3eb1b0_0 -> cryptography[version='>=35.0'] -> openssl[version='>=1.1.1n,<1.1.2a']\n",
            "python==3.7.13=h12debd9_0 -> openssl[version='>=1.1.1n,<1.1.2a']\n",
            "python_abi -> python=3.7 -> openssl[version='>=1.1.1n,<1.1.2a']\n",
            "colorama==0.4.4=pyhd3eb1b0_0 -> python -> openssl[version='>=1.1.1n,<1.1.2a']\n",
            "pycparser==2.21=pyhd3eb1b0_0 -> python[version='>=3.6'] -> openssl[version='>=1.1.1n,<1.1.2a']\n",
            "requests==2.27.1=pyhd3eb1b0_0 -> python[version='>=3.6'] -> openssl[version='>=1.1.1n,<1.1.2a']\n",
            "assimulo -> python[version='>=3.7,<3.8.0a0'] -> openssl[version='>=1.1.1n,<1.1.2a']\n",
            "conda-content-trust==0.1.1=pyhd3eb1b0_0 -> cryptography -> openssl[version='>=1.1.1n,<1.1.2a']\n",
            "six==1.16.0=pyhd3eb1b0_1 -> python -> openssl[version='>=1.1.1n,<1.1.2a']\n",
            "wheel==0.37.1=pyhd3eb1b0_0 -> python -> openssl[version='>=1.1.1n,<1.1.2a']\n",
            "cffi==1.15.0=py37hd667e15_1 -> python[version='>=3.7,<3.8.0a0'] -> openssl[version='>=1.1.1n,<1.1.2a']\n",
            "cytoolz -> python[version='>=3.7,<3.8.0a0'] -> openssl[version='>=1.1.1n,<1.1.2a']\n",
            "pyfmi -> python[version='>=3.7,<3.8.0a0'] -> openssl[version='>=1.1.1n,<1.1.2a']\n",
            "charset-normalizer==2.0.4=pyhd3eb1b0_0 -> python[version='>=3.5'] -> openssl[version='>=1.1.1n,<1.1.2a']\n",
            "cryptography==36.0.0=py37h9ce1e76_0 -> python[version='>=3.7,<3.8.0a0'] -> openssl[version='>=1.1.1n,<1.1.2a']\n",
            "tqdm==4.63.0=pyhd3eb1b0_0 -> python[version='>=2.7'] -> openssl[version='>=1.1.1n,<1.1.2a']\n",
            "scipy -> python[version='>=3.7,<3.8.0a0'] -> openssl[version='>=1.1.1n,<1.1.2a']\n",
            "urllib3==1.26.8=pyhd3eb1b0_0 -> cryptography[version='>=1.3.4'] -> openssl[version='>=1.1.1n,<1.1.2a']\n",
            "toolz -> python[version='>=3.5'] -> openssl[version='>=1.1.1n,<1.1.2a']\n",
            "pysocks==1.7.1=py37_1 -> python[version='>=3.7,<3.8.0a0'] -> openssl[version='>=1.1.1n,<1.1.2a']\n",
            "numpy-base -> python[version='>=3.7,<3.8.0a0'] -> openssl[version='>=1.1.1n,<1.1.2a']\n",
            "brotlipy==0.7.0=py37h27cfd23_1003 -> python[version='>=3.7,<3.8.0a0'] -> openssl[version='>=1.1.1n,<1.1.2a']\n",
            "conda-package-handling==1.8.1=py37h7f8727e_0 -> python[version='>=3.7,<3.8.0a0'] -> openssl[version='>=1.1.1n,<1.1.2a']\n",
            "openssl==1.1.1n=h7f8727e_0\n",
            "certifi==2021.10.8=py37h06a4308_2 -> python[version='>=3.7,<3.8.0a0'] -> openssl[version='>=1.1.1n,<1.1.2a']\n",
            "conda==4.12.0=py37h06a4308_0 -> python[version='>=3.7,<3.8.0a0'] -> openssl[version='>=1.1.1n,<1.1.2a']\n",
            "setuptools==61.2.0=py37h06a4308_0 -> python[version='>=3.7,<3.8.0a0'] -> openssl[version='>=1.1.1n,<1.1.2a']\n",
            "idna==3.3=pyhd3eb1b0_0 -> python[version='>=3.5'] -> openssl[version='>=1.1.1n,<1.1.2a']\n",
            "pycosat==0.6.3=py37h27cfd23_0 -> python[version='>=3.7,<3.8.0a0'] -> openssl[version='>=1.1.1n,<1.1.2a']\n",
            "lxml -> python[version='>=3.7,<3.8.0a0'] -> openssl[version='>=1.1.1n,<1.1.2a']\n",
            "pip==21.2.2=py37h06a4308_0 -> python[version='>=3.7,<3.8.0a0'] -> openssl[version='>=1.1.1n,<1.1.2a']\n",
            "ruamel_yaml==0.15.100=py37h27cfd23_0 -> python[version='>=3.7,<3.8.0a0'] -> openssl[version='>=1.1.1n,<1.1.2a']\n",
            "cryptography==36.0.0=py37h9ce1e76_0 -> openssl\n",
            "\n",
            "Package icu conflicts for:\n",
            "icu\n",
            "libxslt -> icu[version='>=68.1,<69.0a0']\n",
            "lxml -> libxml2[version='>=2.9.10,<2.10.0a0'] -> icu[version='>=68.1,<69.0a0']\n",
            "libxml2 -> icu[version='>=68.1,<69.0a0']\n",
            "\n",
            "Package tqdm conflicts for:\n",
            "tqdm==4.63.0=pyhd3eb1b0_0\n",
            "conda-package-handling==1.8.1=py37h7f8727e_0 -> tqdm\n",
            "conda==4.12.0=py37h06a4308_0 -> conda-package-handling[version='>=1.3.0'] -> tqdm\n",
            "\n",
            "Package libgomp conflicts for:\n",
            "libgomp==9.3.0=h5101ec6_17\n",
            "blas -> _openmp_mutex[version='>=4.5'] -> libgomp[version='>=7.5.0']\n",
            "libgcc-ng==9.3.0=h5101ec6_17 -> _openmp_mutex[version='>=4.5'] -> libgomp[version='>=7.5.0']\n",
            "_openmp_mutex==4.5=1_gnu -> libgomp[version='>=7.5.0']\n",
            "\n",
            "Package mpfr conflicts for:\n",
            "suitesparse -> mpfr[version='>=4.1.0,<5.0a0']\n",
            "mpfr\n",
            "sundials -> suitesparse[version='>=5.10.1,<6.0a0'] -> mpfr[version='>=4.1.0,<5.0a0']\n",
            "\n",
            "Package toolz conflicts for:\n",
            "toolz\n",
            "cytoolz -> toolz[version='>=0.10.0']\n",
            "\n",
            "Package yaml conflicts for:\n",
            "ruamel_yaml==0.15.100=py37h27cfd23_0 -> yaml[version='>=0.2.5,<0.3.0a0']\n",
            "conda==4.12.0=py37h06a4308_0 -> ruamel_yaml[version='>=0.11.14,<0.17'] -> yaml[version='>=0.2.5,<0.3.0a0']\n",
            "yaml==0.2.5=h7b6447c_0\n",
            "\n",
            "Package liblapacke conflicts for:\n",
            "numpy-base -> blas=[build=openblas] -> liblapacke==3.9.0=16_linux64_openblas\n",
            "blas -> liblapacke==3.9.0=16_linux64_openblas\n",
            "blas-devel -> liblapacke==3.9.0=16_linux64_openblas\n",
            "numpy -> blas=[build=openblas] -> liblapacke==3.9.0=16_linux64_openblas\n",
            "liblapacke\n",
            "\n",
            "Package idna conflicts for:\n",
            "urllib3==1.26.8=pyhd3eb1b0_0 -> idna[version='>=2.0.0']\n",
            "idna==3.3=pyhd3eb1b0_0\n",
            "conda==4.12.0=py37h06a4308_0 -> requests[version='>=2.18.4,<3'] -> idna[version='>=2.5,<4']\n",
            "requests==2.27.1=pyhd3eb1b0_0 -> idna[version='>=2.5,<4']\n",
            "requests==2.27.1=pyhd3eb1b0_0 -> urllib3[version='>=1.21.1,<1.27'] -> idna[version='>=2.0.0']\n",
            "\n",
            "Package blas conflicts for:\n",
            "pyfmi -> numpy[version='>=1.16.5,<2.0a0'] -> blas=[build=openblas]\n",
            "scipy -> numpy[version='>=1.18.5,<2.0a0'] -> blas=[build=openblas]\n",
            "numpy -> blas=[build=openblas]\n",
            "numpy-base -> blas=[build=openblas]\n",
            "assimulo -> numpy[version='>=1.18.5,<2.0a0'] -> blas=[build=openblas]\n",
            "blas\n",
            "\n",
            "Package pycparser conflicts for:\n",
            "cffi==1.15.0=py37hd667e15_1 -> pycparser\n",
            "brotlipy==0.7.0=py37h27cfd23_1003 -> cffi[version='>=1.0.0'] -> pycparser\n",
            "cryptography==36.0.0=py37h9ce1e76_0 -> cffi[version='>=1.12'] -> pycparser\n",
            "pycparser==2.21=pyhd3eb1b0_0\n",
            "\n",
            "Package libiconv conflicts for:\n",
            "libiconv\n",
            "libxslt -> libxml2[version='>=2.9.10,<2.10.0a0'] -> libiconv[version='>=1.16,<1.17.0a0']\n",
            "libxml2 -> libiconv[version='>=1.16,<1.17.0a0']\n",
            "lxml -> libxml2[version='>=2.9.10,<2.10.0a0'] -> libiconv[version='>=1.16,<1.17.0a0']\n",
            "\n",
            "Package pysocks conflicts for:\n",
            "urllib3==1.26.8=pyhd3eb1b0_0 -> pysocks[version='>=1.5.6,<2.0,!=1.5.7']\n",
            "requests==2.27.1=pyhd3eb1b0_0 -> urllib3[version='>=1.21.1,<1.27'] -> pysocks[version='>=1.5.6,<2.0,!=1.5.7']\n",
            "pysocks==1.7.1=py37_1\n",
            "\n",
            "Package openblas conflicts for:\n",
            "blas-devel -> openblas=0.3.21\n",
            "openblas\n",
            "blas -> blas-devel==3.9.0=16_linux64_openblas -> openblas=0.3.21\n",
            "\n",
            "Package tbb conflicts for:\n",
            "tbb\n",
            "suitesparse -> tbb[version='>=2021.3.0']\n",
            "sundials -> suitesparse[version='>=5.10.1,<6.0a0'] -> tbb[version='>=2021.3.0']\n",
            "\n",
            "Package ca-certificates conflicts for:\n",
            "ca-certificates==2022.3.29=h06a4308_1\n",
            "cryptography==36.0.0=py37h9ce1e76_0 -> openssl -> ca-certificates\n",
            "openssl==1.1.1n=h7f8727e_0 -> ca-certificates\n",
            "python==3.7.13=h12debd9_0 -> openssl[version='>=1.1.1n,<1.1.2a'] -> ca-certificates\n",
            "\n",
            "Package libzlib conflicts for:\n",
            "libzlib\n",
            "llvm-openmp -> libzlib[version='>=1.2.11,<1.3.0a0']\n",
            "blas -> llvm-openmp[version='>=14.0.4'] -> libzlib[version='>=1.2.11,<1.3.0a0']\n",
            "\n",
            "Package metis conflicts for:\n",
            "sundials -> suitesparse[version='>=5.10.1,<6.0a0'] -> metis[version='>=5.1.0,<5.2.0a0']\n",
            "suitesparse -> metis[version='>=5.1.0,<5.2.0a0']\n",
            "metis\n",
            "\n",
            "Package libxml2 conflicts for:\n",
            "pyfmi -> lxml -> libxml2[version='>=2.9.10,<2.10.0a0']\n",
            "libxml2\n",
            "lxml -> libxml2[version='>=2.9.10,<2.10.0a0']\n",
            "libxslt -> libxml2[version='>=2.9.10,<2.10.0a0']\n",
            "\n",
            "Package pycosat conflicts for:\n",
            "pycosat==0.6.3=py37h27cfd23_0\n",
            "conda==4.12.0=py37h06a4308_0 -> pycosat[version='>=0.6.3']\n",
            "\n",
            "Package pyopenssl conflicts for:\n",
            "conda==4.12.0=py37h06a4308_0 -> pyopenssl[version='>=16.2.0']\n",
            "urllib3==1.26.8=pyhd3eb1b0_0 -> pyopenssl[version='>=0.14']\n",
            "pyopenssl==22.0.0=pyhd3eb1b0_0\n",
            "requests==2.27.1=pyhd3eb1b0_0 -> urllib3[version='>=1.21.1,<1.27'] -> pyopenssl[version='>=0.14']\n",
            "\n",
            "Package requests conflicts for:\n",
            "conda==4.12.0=py37h06a4308_0 -> requests[version='>=2.18.4,<3']\n",
            "requests==2.27.1=pyhd3eb1b0_0\n",
            "\n",
            "Package fmilib conflicts for:\n",
            "fmilib\n",
            "pyfmi -> fmilib[version='>=2.2,<2.3.0a0']\n",
            "\n",
            "Package colorama conflicts for:\n",
            "conda-package-handling==1.8.1=py37h7f8727e_0 -> tqdm -> colorama\n",
            "tqdm==4.63.0=pyhd3eb1b0_0 -> colorama\n",
            "colorama==0.4.4=pyhd3eb1b0_0\n",
            "\n",
            "Package numpy-base conflicts for:\n",
            "scipy -> numpy[version='>=1.18.5,<2.0a0'] -> numpy-base==1.19.1=py37h75fe3a5_0\n",
            "pyfmi -> numpy[version='>=1.16.5,<2.0a0'] -> numpy-base==1.19.1=py37h75fe3a5_0\n",
            "numpy-base\n",
            "numpy -> numpy-base==1.19.1=py37h75fe3a5_0\n",
            "assimulo -> numpy[version='>=1.18.5,<2.0a0'] -> numpy-base==1.19.1=py37h75fe3a5_0\n",
            "\n",
            "Package conda-package-handling conflicts for:\n",
            "conda-package-handling==1.8.1=py37h7f8727e_0\n",
            "conda==4.12.0=py37h06a4308_0 -> conda-package-handling[version='>=1.3.0']\n",
            "\n",
            "Package assimulo conflicts for:\n",
            "pyfmi -> assimulo[version='>=3.0']\n",
            "assimulo\n",
            "\n",
            "Package six conflicts for:\n",
            "six==1.16.0=pyhd3eb1b0_1\n",
            "conda-content-trust==0.1.1=pyhd3eb1b0_0 -> six\n",
            "\n",
            "Package ruamel_yaml conflicts for:\n",
            "ruamel_yaml==0.15.100=py37h27cfd23_0\n",
            "conda==4.12.0=py37h06a4308_0 -> ruamel_yaml[version='>=0.11.14,<0.17']\n",
            "\n",
            "Package lxml conflicts for:\n",
            "pyfmi -> lxml\n",
            "lxmlThe following specifications were found to be incompatible with your system:\n",
            "\n",
            "  - feature:/linux-64::__glibc==2.27=0\n",
            "  - feature:|@/linux-64::__glibc==2.27=0\n",
            "  - brotlipy==0.7.0=py37h27cfd23_1003 -> libgcc-ng[version='>=7.3.0'] -> __glibc[version='>=2.17']\n",
            "  - cffi==1.15.0=py37hd667e15_1 -> libgcc-ng[version='>=7.5.0'] -> __glibc[version='>=2.17']\n",
            "  - conda-package-handling==1.8.1=py37h7f8727e_0 -> libgcc-ng[version='>=7.5.0'] -> __glibc[version='>=2.17']\n",
            "  - cryptography==36.0.0=py37h9ce1e76_0 -> libgcc-ng -> __glibc[version='>=2.17']\n",
            "  - cytoolz -> libgcc-ng[version='>=7.3.0'] -> __glibc[version='>=2.17']\n",
            "  - fmilib -> libgcc-ng[version='>=7.5.0'] -> __glibc[version='>=2.17']\n",
            "  - gmp -> libgcc-ng[version='>=7.5.0'] -> __glibc[version='>=2.17']\n",
            "  - libffi==3.3=he6710b0_2 -> libgcc-ng[version='>=7.3.0'] -> __glibc[version='>=2.17']\n",
            "  - libgcc-ng==9.3.0=h5101ec6_17 -> __glibc[version='>=2.17']\n",
            "  - libiconv -> libgcc-ng[version='>=7.5.0'] -> __glibc[version='>=2.17']\n",
            "  - libstdcxx-ng==9.3.0=hd4cf53a_17 -> __glibc[version='>=2.17']\n",
            "  - libxml2 -> libgcc-ng[version='>=9.3.0'] -> __glibc[version='>=2.17']\n",
            "  - libxslt -> libgcc-ng[version='>=9.3.0'] -> __glibc[version='>=2.17']\n",
            "  - metis -> libgcc-ng[version='>=7.5.0'] -> __glibc[version='>=2.17']\n",
            "  - mpfr -> libgcc-ng[version='>=7.5.0'] -> __glibc[version='>=2.17']\n",
            "  - ncurses==6.3=h7f8727e_2 -> libgcc-ng[version='>=7.5.0'] -> __glibc[version='>=2.17']\n",
            "  - numpy -> libgcc-ng[version='>=7.3.0'] -> __glibc[version='>=2.17']\n",
            "  - numpy-base -> libgcc-ng[version='>=7.3.0'] -> __glibc[version='>=2.17']\n",
            "  - openssl==1.1.1n=h7f8727e_0 -> libgcc-ng[version='>=7.5.0'] -> __glibc[version='>=2.17']\n",
            "  - pycosat==0.6.3=py37h27cfd23_0 -> libgcc-ng[version='>=7.3.0'] -> __glibc[version='>=2.17']\n",
            "  - pyfmi -> libgcc-ng[version='>=7.5.0'] -> __glibc[version='>=2.17']\n",
            "  - python==3.7.13=h12debd9_0 -> libgcc-ng[version='>=7.5.0'] -> __glibc[version='>=2.17']\n",
            "  - ruamel_yaml==0.15.100=py37h27cfd23_0 -> libgcc-ng[version='>=7.3.0'] -> __glibc[version='>=2.17']\n",
            "  - sqlite==3.38.2=hc218d9a_0 -> libgcc-ng[version='>=7.5.0'] -> __glibc[version='>=2.17']\n",
            "  - tk==8.6.11=h1ccaba5_0 -> libgcc-ng[version='>=7.5.0'] -> __glibc[version='>=2.17']\n",
            "  - xz==5.2.5=h7b6447c_0 -> libgcc-ng[version='>=7.3.0'] -> __glibc[version='>=2.17']\n",
            "  - yaml==0.2.5=h7b6447c_0 -> libgcc-ng[version='>=7.3.0'] -> __glibc[version='>=2.17']\n",
            "  - zlib==1.2.12=h7f8727e_1 -> libgcc-ng[version='>=7.5.0'] -> __glibc[version='>=2.17']\n",
            "\n",
            "Your installed version is: 2.27\n",
            "\n",
            "\n"
          ]
        }
      ]
    },
    {
      "cell_type": "code",
      "source": [
        "!conda update -n base -c defaults conda --yes"
      ],
      "metadata": {
        "colab": {
          "base_uri": "https://localhost:8080/"
        },
        "id": "5iuP4_vl3WFA",
        "outputId": "c6bb1317-ceb7-4e77-f093-1f9642363b17"
      },
      "execution_count": 4,
      "outputs": [
        {
          "output_type": "stream",
          "name": "stdout",
          "text": [
            "Collecting package metadata (current_repodata.json): - \b\b\\ \b\b| \b\b/ \b\b- \b\b\\ \b\b| \b\b/ \b\bdone\n",
            "Solving environment: \\ \b\b| \b\b/ \b\b- \b\b\\ \b\b| \b\b/ \b\b- \b\b\\ \b\b| \b\b/ \b\b- \b\b\\ \b\b| \b\b/ \b\b- \b\bdone\n",
            "\n",
            "# All requested packages already installed.\n",
            "\n",
            "Retrieving notices: ...working... done\n"
          ]
        }
      ]
    },
    {
      "cell_type": "code",
      "source": [
        "!conda --version\n",
        "!python --version"
      ],
      "metadata": {
        "colab": {
          "base_uri": "https://localhost:8080/"
        },
        "id": "uoBMBSS63Z58",
        "outputId": "b59d583b-6b8a-40c7-dd02-d542a9b80e6e"
      },
      "execution_count": 5,
      "outputs": [
        {
          "output_type": "stream",
          "name": "stdout",
          "text": [
            "conda 4.14.0\n",
            "Python 3.7.13\n"
          ]
        }
      ]
    },
    {
      "cell_type": "code",
      "source": [
        "!conda install -c conda-forge pyfmi==2.7.4 --yes # Install the key package"
      ],
      "metadata": {
        "colab": {
          "base_uri": "https://localhost:8080/"
        },
        "id": "RMuJRdfH3dDq",
        "outputId": "39db9ac6-73ab-40d5-fc21-8f8147fea74d"
      },
      "execution_count": 6,
      "outputs": [
        {
          "output_type": "stream",
          "name": "stdout",
          "text": [
            "Collecting package metadata (current_repodata.json): - \b\b\\ \b\b| \b\b/ \b\b- \b\b\\ \b\b| \b\b/ \b\b- \b\b\\ \b\b| \b\b/ \b\b- \b\b\\ \b\b| \b\b/ \b\b- \b\b\\ \b\b| \b\b/ \b\b- \b\b\\ \b\b| \b\b/ \b\b- \b\b\\ \b\bdone\n",
            "Solving environment: / \b\b- \b\b\\ \b\b| \b\b/ \b\b- \b\b\\ \b\b| \b\b/ \b\b- \b\b\\ \b\b| \b\b/ \b\b- \b\b\\ \b\b| \b\b/ \b\b- \b\b\\ \b\b| \b\b/ \b\b- \b\b\\ \b\b| \b\b/ \b\b- \b\b\\ \b\b| \b\b/ \b\b- \b\b\\ \b\b| \b\b/ \b\b- \b\b\\ \b\b| \b\b/ \b\b- \b\b\\ \b\b| \b\b/ \b\b- \b\b\\ \b\b| \b\b/ \b\b- \b\b\\ \b\b| \b\b/ \b\b- \b\b\\ \b\bdone\n",
            "\n",
            "## Package Plan ##\n",
            "\n",
            "  environment location: /usr/local\n",
            "\n",
            "  added / updated specs:\n",
            "    - pyfmi==2.7.4\n",
            "\n",
            "\n",
            "The following packages will be UPDATED:\n",
            "\n",
            "  certifi            pkgs/main/linux-64::certifi-2022.6.15~ --> conda-forge/noarch::certifi-2022.6.15-pyhd8ed1ab_1\n",
            "\n",
            "The following packages will be SUPERSEDED by a higher-priority channel:\n",
            "\n",
            "  ca-certificates    pkgs/main::ca-certificates-2022.07.19~ --> conda-forge::ca-certificates-2022.6.15-ha878542_0\n",
            "  conda              pkgs/main::conda-4.14.0-py37h06a4308_0 --> conda-forge::conda-4.14.0-py37h89c1867_0\n",
            "  openssl              pkgs/main::openssl-1.1.1q-h7f8727e_0 --> conda-forge::openssl-1.1.1q-h166bdaf_0\n",
            "\n",
            "\n",
            "Preparing transaction: / \b\bdone\n",
            "Verifying transaction: \\ \b\bdone\n",
            "Executing transaction: / \b\b- \b\b\\ \b\b| \b\b/ \b\b- \b\b\\ \b\b| \b\b/ \b\b- \b\b\\ \b\b| \b\b/ \b\b- \b\b\\ \b\bdone\n",
            "Retrieving notices: ...working... done\n"
          ]
        }
      ]
    },
    {
      "cell_type": "code",
      "source": [
        "!conda install numpy=1.19.1 --yes # Need to downgrade numpy"
      ],
      "metadata": {
        "colab": {
          "base_uri": "https://localhost:8080/"
        },
        "id": "I2MfWWF53fu5",
        "outputId": "fc79aaf7-bb19-4884-f94c-c500c5fd58b1"
      },
      "execution_count": 7,
      "outputs": [
        {
          "output_type": "stream",
          "name": "stdout",
          "text": [
            "Collecting package metadata (current_repodata.json): - \b\b\\ \b\b| \b\b/ \b\b- \b\b\\ \b\b| \b\bdone\n",
            "Solving environment: - \b\b\\ \b\b| \b\b/ \b\b- \b\b\\ \b\b| \b\b/ \b\b- \b\b\\ \b\b| \b\bdone\n",
            "\n",
            "## Package Plan ##\n",
            "\n",
            "  environment location: /usr/local\n",
            "\n",
            "  added / updated specs:\n",
            "    - numpy=1.19.1\n",
            "\n",
            "\n",
            "The following packages will be UPDATED:\n",
            "\n",
            "  ca-certificates    conda-forge::ca-certificates-2022.6.1~ --> pkgs/main::ca-certificates-2022.07.19-h06a4308_0\n",
            "\n",
            "The following packages will be SUPERSEDED by a higher-priority channel:\n",
            "\n",
            "  certifi            conda-forge/noarch::certifi-2022.6.15~ --> pkgs/main/linux-64::certifi-2022.6.15-py37h06a4308_0\n",
            "  conda              conda-forge::conda-4.14.0-py37h89c186~ --> pkgs/main::conda-4.14.0-py37h06a4308_0\n",
            "  openssl            conda-forge::openssl-1.1.1q-h166bdaf_0 --> pkgs/main::openssl-1.1.1q-h7f8727e_0\n",
            "\n",
            "\n",
            "Preparing transaction: - \b\bdone\n",
            "Verifying transaction: | \b\b/ \b\b- \b\bdone\n",
            "Executing transaction: | \b\b/ \b\bdone\n",
            "Retrieving notices: ...working... done\n"
          ]
        }
      ]
    },
    {
      "cell_type": "markdown",
      "source": [
        "# Notes of BPL_YEAST_AIR_Fedbatch\n",
        "This notebook demonstrate yeast fedbatch cultivation. We look at impact of changes in the glucose feeding. We also take a look at tuning of the DO-control system. Both liquid- and gasphase are included in the model. \n",
        "\n",
        "Interaction with the compiled model as FMU is mainly through the simplified commands: par(), init(), newplot(), simu() etc. The last simulation is always available in the workspace and called 'sim_res'. The command describe() brings mainly up description infomration from the actual Modelica code from the FMU but is complemented with information given in the dedicated Python setup-file.\n",
        "\n",
        "The idea is to demonstrate how simulations and varyiing conditions can provide some process insight that can support the experimetnal work. I hope that at the end of this session you are ready to formulate your own questions you want to address with simulations - and you can just go on in this notebook! Just press the field \"+Code\" in the upper left part of notebook interface and you get a new \"cell\" where you write your own code. You can copy and paste from cells above using ctrol-c and ctrl-p as usual and edit the cell. When your are ready to execute the cell just press the \"play button\" to the left in the cell or press shift-enter as in \"ordinary\" Jupyter notebooks.\n",
        "\n",
        "After a session you may want to save your own notebook. That you can do on your Google Drive account and I refer to Colab instructions for how to do this. It is easy. \n",
        "\n",
        "Enjoy!"
      ],
      "metadata": {
        "id": "UTETJm3l6heL"
      }
    },
    {
      "cell_type": "markdown",
      "source": [
        "Now specific installation and the run simulations. Start with connecting to Github. Then upload the two files:\n",
        "\n",
        "* FMU - BPL_YEAST_AIR_Fedbatch_linux_jm_cs.fmu\n",
        "* Setup-file - BPL_YEAST_AIR_Fedbatch_explore"
      ],
      "metadata": {
        "id": "mxILgQ103nZ6"
      }
    },
    {
      "cell_type": "code",
      "source": [
        "# Filter out DepracationWarnings for 'np.float as alias' is needed - wish I could make filter more narrow \n",
        "import warnings\n",
        "warnings.filterwarnings(\"ignore\")"
      ],
      "metadata": {
        "id": "RrYshFe13jmO"
      },
      "execution_count": 8,
      "outputs": []
    },
    {
      "cell_type": "code",
      "source": [
        "%%bash \n",
        "git clone https://github.com/janpeter19/BPL_YEAST_AIR_Fedbatch"
      ],
      "metadata": {
        "colab": {
          "base_uri": "https://localhost:8080/",
          "height": 381
        },
        "id": "RfWPh1B63yBF",
        "outputId": "b532c9ee-bc23-45fc-ba16-bf45ea99a26c"
      },
      "execution_count": 9,
      "outputs": [
        {
          "output_type": "stream",
          "name": "stderr",
          "text": [
            "fatal: destination path 'BPL_YEAST_AIR_Fedbatch' already exists and is not an empty directory.\n"
          ]
        },
        {
          "output_type": "error",
          "ename": "CalledProcessError",
          "evalue": "ignored",
          "traceback": [
            "\u001b[0;31m---------------------------------------------------------------------------\u001b[0m",
            "\u001b[0;31mCalledProcessError\u001b[0m                        Traceback (most recent call last)",
            "\u001b[0;32m<ipython-input-9-832d25ab0eb0>\u001b[0m in \u001b[0;36m<module>\u001b[0;34m\u001b[0m\n\u001b[0;32m----> 1\u001b[0;31m \u001b[0mget_ipython\u001b[0m\u001b[0;34m(\u001b[0m\u001b[0;34m)\u001b[0m\u001b[0;34m.\u001b[0m\u001b[0mrun_cell_magic\u001b[0m\u001b[0;34m(\u001b[0m\u001b[0;34m'bash'\u001b[0m\u001b[0;34m,\u001b[0m \u001b[0;34m''\u001b[0m\u001b[0;34m,\u001b[0m \u001b[0;34m'git clone https://github.com/janpeter19/BPL_YEAST_AIR_Fedbatch\\n'\u001b[0m\u001b[0;34m)\u001b[0m\u001b[0;34m\u001b[0m\u001b[0;34m\u001b[0m\u001b[0m\n\u001b[0m",
            "\u001b[0;32m/usr/local/lib/python3.7/dist-packages/IPython/core/interactiveshell.py\u001b[0m in \u001b[0;36mrun_cell_magic\u001b[0;34m(self, magic_name, line, cell)\u001b[0m\n\u001b[1;32m   2357\u001b[0m             \u001b[0;32mwith\u001b[0m \u001b[0mself\u001b[0m\u001b[0;34m.\u001b[0m\u001b[0mbuiltin_trap\u001b[0m\u001b[0;34m:\u001b[0m\u001b[0;34m\u001b[0m\u001b[0;34m\u001b[0m\u001b[0m\n\u001b[1;32m   2358\u001b[0m                 \u001b[0margs\u001b[0m \u001b[0;34m=\u001b[0m \u001b[0;34m(\u001b[0m\u001b[0mmagic_arg_s\u001b[0m\u001b[0;34m,\u001b[0m \u001b[0mcell\u001b[0m\u001b[0;34m)\u001b[0m\u001b[0;34m\u001b[0m\u001b[0;34m\u001b[0m\u001b[0m\n\u001b[0;32m-> 2359\u001b[0;31m                 \u001b[0mresult\u001b[0m \u001b[0;34m=\u001b[0m \u001b[0mfn\u001b[0m\u001b[0;34m(\u001b[0m\u001b[0;34m*\u001b[0m\u001b[0margs\u001b[0m\u001b[0;34m,\u001b[0m \u001b[0;34m**\u001b[0m\u001b[0mkwargs\u001b[0m\u001b[0;34m)\u001b[0m\u001b[0;34m\u001b[0m\u001b[0;34m\u001b[0m\u001b[0m\n\u001b[0m\u001b[1;32m   2360\u001b[0m             \u001b[0;32mreturn\u001b[0m \u001b[0mresult\u001b[0m\u001b[0;34m\u001b[0m\u001b[0;34m\u001b[0m\u001b[0m\n\u001b[1;32m   2361\u001b[0m \u001b[0;34m\u001b[0m\u001b[0m\n",
            "\u001b[0;32m/usr/local/lib/python3.7/dist-packages/IPython/core/magics/script.py\u001b[0m in \u001b[0;36mnamed_script_magic\u001b[0;34m(line, cell)\u001b[0m\n\u001b[1;32m    140\u001b[0m             \u001b[0;32melse\u001b[0m\u001b[0;34m:\u001b[0m\u001b[0;34m\u001b[0m\u001b[0;34m\u001b[0m\u001b[0m\n\u001b[1;32m    141\u001b[0m                 \u001b[0mline\u001b[0m \u001b[0;34m=\u001b[0m \u001b[0mscript\u001b[0m\u001b[0;34m\u001b[0m\u001b[0;34m\u001b[0m\u001b[0m\n\u001b[0;32m--> 142\u001b[0;31m             \u001b[0;32mreturn\u001b[0m \u001b[0mself\u001b[0m\u001b[0;34m.\u001b[0m\u001b[0mshebang\u001b[0m\u001b[0;34m(\u001b[0m\u001b[0mline\u001b[0m\u001b[0;34m,\u001b[0m \u001b[0mcell\u001b[0m\u001b[0;34m)\u001b[0m\u001b[0;34m\u001b[0m\u001b[0;34m\u001b[0m\u001b[0m\n\u001b[0m\u001b[1;32m    143\u001b[0m \u001b[0;34m\u001b[0m\u001b[0m\n\u001b[1;32m    144\u001b[0m         \u001b[0;31m# write a basic docstring:\u001b[0m\u001b[0;34m\u001b[0m\u001b[0;34m\u001b[0m\u001b[0;34m\u001b[0m\u001b[0m\n",
            "\u001b[0;32m<decorator-gen-103>\u001b[0m in \u001b[0;36mshebang\u001b[0;34m(self, line, cell)\u001b[0m\n",
            "\u001b[0;32m/usr/local/lib/python3.7/dist-packages/IPython/core/magic.py\u001b[0m in \u001b[0;36m<lambda>\u001b[0;34m(f, *a, **k)\u001b[0m\n\u001b[1;32m    185\u001b[0m     \u001b[0;31m# but it's overkill for just that one bit of state.\u001b[0m\u001b[0;34m\u001b[0m\u001b[0;34m\u001b[0m\u001b[0;34m\u001b[0m\u001b[0m\n\u001b[1;32m    186\u001b[0m     \u001b[0;32mdef\u001b[0m \u001b[0mmagic_deco\u001b[0m\u001b[0;34m(\u001b[0m\u001b[0marg\u001b[0m\u001b[0;34m)\u001b[0m\u001b[0;34m:\u001b[0m\u001b[0;34m\u001b[0m\u001b[0;34m\u001b[0m\u001b[0m\n\u001b[0;32m--> 187\u001b[0;31m         \u001b[0mcall\u001b[0m \u001b[0;34m=\u001b[0m \u001b[0;32mlambda\u001b[0m \u001b[0mf\u001b[0m\u001b[0;34m,\u001b[0m \u001b[0;34m*\u001b[0m\u001b[0ma\u001b[0m\u001b[0;34m,\u001b[0m \u001b[0;34m**\u001b[0m\u001b[0mk\u001b[0m\u001b[0;34m:\u001b[0m \u001b[0mf\u001b[0m\u001b[0;34m(\u001b[0m\u001b[0;34m*\u001b[0m\u001b[0ma\u001b[0m\u001b[0;34m,\u001b[0m \u001b[0;34m**\u001b[0m\u001b[0mk\u001b[0m\u001b[0;34m)\u001b[0m\u001b[0;34m\u001b[0m\u001b[0;34m\u001b[0m\u001b[0m\n\u001b[0m\u001b[1;32m    188\u001b[0m \u001b[0;34m\u001b[0m\u001b[0m\n\u001b[1;32m    189\u001b[0m         \u001b[0;32mif\u001b[0m \u001b[0mcallable\u001b[0m\u001b[0;34m(\u001b[0m\u001b[0marg\u001b[0m\u001b[0;34m)\u001b[0m\u001b[0;34m:\u001b[0m\u001b[0;34m\u001b[0m\u001b[0;34m\u001b[0m\u001b[0m\n",
            "\u001b[0;32m/usr/local/lib/python3.7/dist-packages/IPython/core/magics/script.py\u001b[0m in \u001b[0;36mshebang\u001b[0;34m(self, line, cell)\u001b[0m\n\u001b[1;32m    243\u001b[0m             \u001b[0msys\u001b[0m\u001b[0;34m.\u001b[0m\u001b[0mstderr\u001b[0m\u001b[0;34m.\u001b[0m\u001b[0mflush\u001b[0m\u001b[0;34m(\u001b[0m\u001b[0;34m)\u001b[0m\u001b[0;34m\u001b[0m\u001b[0;34m\u001b[0m\u001b[0m\n\u001b[1;32m    244\u001b[0m         \u001b[0;32mif\u001b[0m \u001b[0margs\u001b[0m\u001b[0;34m.\u001b[0m\u001b[0mraise_error\u001b[0m \u001b[0;32mand\u001b[0m \u001b[0mp\u001b[0m\u001b[0;34m.\u001b[0m\u001b[0mreturncode\u001b[0m\u001b[0;34m!=\u001b[0m\u001b[0;36m0\u001b[0m\u001b[0;34m:\u001b[0m\u001b[0;34m\u001b[0m\u001b[0;34m\u001b[0m\u001b[0m\n\u001b[0;32m--> 245\u001b[0;31m             \u001b[0;32mraise\u001b[0m \u001b[0mCalledProcessError\u001b[0m\u001b[0;34m(\u001b[0m\u001b[0mp\u001b[0m\u001b[0;34m.\u001b[0m\u001b[0mreturncode\u001b[0m\u001b[0;34m,\u001b[0m \u001b[0mcell\u001b[0m\u001b[0;34m,\u001b[0m \u001b[0moutput\u001b[0m\u001b[0;34m=\u001b[0m\u001b[0mout\u001b[0m\u001b[0;34m,\u001b[0m \u001b[0mstderr\u001b[0m\u001b[0;34m=\u001b[0m\u001b[0merr\u001b[0m\u001b[0;34m)\u001b[0m\u001b[0;34m\u001b[0m\u001b[0;34m\u001b[0m\u001b[0m\n\u001b[0m\u001b[1;32m    246\u001b[0m \u001b[0;34m\u001b[0m\u001b[0m\n\u001b[1;32m    247\u001b[0m     \u001b[0;32mdef\u001b[0m \u001b[0m_run_script\u001b[0m\u001b[0;34m(\u001b[0m\u001b[0mself\u001b[0m\u001b[0;34m,\u001b[0m \u001b[0mp\u001b[0m\u001b[0;34m,\u001b[0m \u001b[0mcell\u001b[0m\u001b[0;34m,\u001b[0m \u001b[0mto_close\u001b[0m\u001b[0;34m)\u001b[0m\u001b[0;34m:\u001b[0m\u001b[0;34m\u001b[0m\u001b[0;34m\u001b[0m\u001b[0m\n",
            "\u001b[0;31mCalledProcessError\u001b[0m: Command 'b'git clone https://github.com/janpeter19/BPL_YEAST_AIR_Fedbatch\\n'' returned non-zero exit status 128."
          ]
        }
      ]
    },
    {
      "cell_type": "code",
      "source": [
        "%cd BPL_YEAST_AIR_Fedbatch"
      ],
      "metadata": {
        "id": "i6uOVB44300a"
      },
      "execution_count": null,
      "outputs": []
    },
    {
      "cell_type": "markdown",
      "source": [
        "# BPL_YEAST_AIR_Fedbatch - demo\n",
        "\n",
        "This notebook demonstrate yeast fedbatch cultivation. We look at impact of changes in the glucose feeding. We also take a look at tuning of the DO-control system. Both liquid- and gasphase are included in the model. The culture growth and metabolism are formulated in relation to to the respiratory capacity [1] and the model is exapanded to describe also the gas phase as well as  the culture heat production. \n",
        "\n",
        "Interaction with the compiled model as FMU is mainly through the simplified commands: par(), init(), newplot(), simu() etc. The last simulation is always available in the workspace and called 'sim_res'. The command describe() brings mainly up description infomration from the actual Modelica code from the FMU but is complemented with information given in the dedicated Python setup-file.\n",
        "\n",
        "The idea is to demonstrate how simulations and varyiing conditions can provide some process insight that can support the experimetnal work. I hope that at the end of this session you are ready to formulate your own questions you want to address with simulations - and you can just go on in this notebook! Just press the field \"+Code\" in the upper left part of notebook interface and you get a new \"cell\" where you write your own code. You can copy and paste from cells above using ctrol-c and ctrl-p as usual and edit the cell. When your are ready to execute the cell just press the \"play button\" to the left in the cell or press shift-enter as in \"ordinary\" Jupyter notebooks.\n",
        "\n",
        "After a session you may want to save your own notebook. That you can do on your Google Drive account and I refer to Colab instructions for how to do this. It is easy. \n",
        "\n",
        "Enjoy!"
      ],
      "metadata": {
        "id": "ui9OGhbKTgnC"
      }
    },
    {
      "cell_type": "code",
      "source": [
        "run -i BPL_YEAST_AIR_Fedbatch_DOcontrol_explore.py"
      ],
      "metadata": {
        "id": "b-y82jZY33cO"
      },
      "execution_count": null,
      "outputs": []
    },
    {
      "cell_type": "code",
      "source": [
        "%matplotlib inline\n",
        "plt.rcParams['figure.figsize'] = [36/2.54, 30/2.54]"
      ],
      "metadata": {
        "id": "HUFhuE-H4RCw"
      },
      "execution_count": null,
      "outputs": []
    },
    {
      "cell_type": "markdown",
      "source": [
        "## About the process model\n",
        "\n",
        "We can get information about the process, liquid- and gas-phase by the command describe(). This command can also be used to bring up information about a specific variable or parameter. However, you should use describe() after a simulation to get the valued used during the simulation."
      ],
      "metadata": {
        "id": "DVeYFkxSTvk1"
      }
    },
    {
      "cell_type": "code",
      "source": [
        "describe('culture'); print(); describe('liquidphase'); print(); describe('gasphase')                                     # Pump schedule parameter \n"
      ],
      "metadata": {
        "id": "-Y3NHWIj4TZ6"
      },
      "execution_count": null,
      "outputs": []
    },
    {
      "cell_type": "markdown",
      "source": [
        "The model of the process has parameters both for culture, gas_liquid_transfer, as well as feeding procedure. The paramters that are available for changes you find by the command disp() and you get a long list and you change by them by command par(). The model has even more parameters in the background but not made available for interaction. "
      ],
      "metadata": {
        "id": "_h15qSsST2Pv"
      }
    },
    {
      "cell_type": "markdown",
      "source": [
        "## First simulations - adjusting start of substrate feeding"
      ],
      "metadata": {
        "id": "jTK3qj-zT7RR"
      }
    },
    {
      "cell_type": "code",
      "source": [
        "# Culture parameters and others at default values\n",
        "par(qO2lim=0.0069) \n",
        "\n",
        "# Process initial conditions\n",
        "init(V_0=4.5, VG_0=4.5*30, VX_0=4.5*2, VE_0=4.5*0) \n",
        "\n",
        "# Feed profile\n",
        "par(t_start=9, F_start=0.044, mu_feed=0.20, F_max=0.18)  \n",
        "\n",
        "# DO-control parameters\n",
        "par(samplePeriod=1/60, K=10, Ti=0.5, I_0=500)   \n",
        "\n",
        "# Simulate and plot\n",
        "newplot(title='Yeast fedbatch cultivation', plotType='Overview')\n",
        "simu(20)"
      ],
      "metadata": {
        "id": "3BkbO1cprB44"
      },
      "execution_count": null,
      "outputs": []
    },
    {
      "cell_type": "markdown",
      "source": [
        "Now we can get value of broth volume as well as the headspace and values are the last ones in the simulation"
      ],
      "metadata": {
        "id": "CUidWilMUGMG"
      }
    },
    {
      "cell_type": "code",
      "source": [
        "describe('bioreactor.V')"
      ],
      "metadata": {
        "id": "CLFOfnj3UK3T"
      },
      "execution_count": null,
      "outputs": []
    },
    {
      "cell_type": "code",
      "source": [
        "describe('bioreactor.V_gasphase')"
      ],
      "metadata": {
        "id": "GJaFdgYLUReU"
      },
      "execution_count": null,
      "outputs": []
    },
    {
      "cell_type": "code",
      "source": [
        "# Take a look at the parameters available to adjust the dosage scheme\n",
        "disp('dosage', decimals=4)"
      ],
      "metadata": {
        "id": "Pr1jXNzSrJdZ"
      },
      "execution_count": null,
      "outputs": []
    },
    {
      "cell_type": "code",
      "source": [
        "# Let us start the feeding just after the batch phase has ended and keep other parameters the same\n",
        "par(t_start=8.1)\n",
        "\n",
        "# Simulate and plot\n",
        "newplot(title='Yeast fedbatch cultivation', plotType='Overview')\n",
        "simu(20)"
      ],
      "metadata": {
        "id": "l4iaw0cDrL5f"
      },
      "execution_count": null,
      "outputs": []
    },
    {
      "cell_type": "markdown",
      "source": [
        "The increase of DO to about 50 % at end of batch phase should be possible to detect easily. This simulation is more realistic and we use these settings from now on."
      ],
      "metadata": {
        "id": "q_DRiO7hrVpb"
      }
    },
    {
      "cell_type": "markdown",
      "source": [
        "## DO-control  - tuning of PI-regulator parameters\n",
        "\n",
        "Let us focus on the DO-control system and choose a more limited plotType. We study the impact of PI control parameters and see if we can decrease the control error without looing stability."
      ],
      "metadata": {
        "id": "tsbQ0dSGUiUx"
      }
    },
    {
      "cell_type": "code",
      "source": [
        "# Let us take a closer look at the DO-control system and try to make control error smaller by increaseing K\n",
        "newplot(title='Yeast fedbatch cultivation - DO-control - increase K', plotType='Focus DO-control')\n",
        "for value in [10, 20, 40]: par(K=value); simu(20)\n",
        "\n",
        "# Reset K to the original value\n",
        "par(K=10)"
      ],
      "metadata": {
        "id": "vQVM55WirXxN"
      },
      "execution_count": null,
      "outputs": []
    },
    {
      "cell_type": "markdown",
      "source": [
        "We see that by a higher control gain K the DO-control error get smaller and the stability of the control system is maintained."
      ],
      "metadata": {
        "id": "L_7RkwpbrvaK"
      }
    },
    {
      "cell_type": "markdown",
      "source": [
        "**Exercise** I leave for you to study the impact variation of the Ti-parameter. Just make a new cell below. Then copy and paste the cell above and change parameter to Ti."
      ],
      "metadata": {
        "id": "1XSG-6NCUzYR"
      }
    },
    {
      "cell_type": "markdown",
      "source": [
        "## Sensitivity to changes in feed-profile\n",
        "\n",
        "Now, let us focus on investigating impact of changes in the feed-profile. The goal is to increase the produced cell mass without accumulation of by-product ethanol. Simulation can bring some insight into how behaviour of the differen variables change when by-product is formed. This insight can help to interpret experimental results."
      ],
      "metadata": {
        "id": "p_m7YOxiU5QG"
      }
    },
    {
      "cell_type": "code",
      "source": [
        "# Let us check the sensitivity to changes in the feed profile design\n",
        "newplot(title='Yeast fedbatch cultivation', plotType='Overview')\n",
        "for value in [0.044, 0.038, 0.050]: par(F_start=value); simu(20)"
      ],
      "metadata": {
        "id": "rDztpngaryKm"
      },
      "execution_count": null,
      "outputs": []
    },
    {
      "cell_type": "markdown",
      "source": [
        "The variation in F_start has an impact and we see that the actual growth rate during fedbatch phase do converge to the set growth rate of the feed, but i takes more than 5 hours."
      ],
      "metadata": {
        "id": "ky0CelGor7pE"
      }
    },
    {
      "cell_type": "code",
      "source": [
        "# Let us investigate a feedprofile that is closer to the maximal capacity\n",
        "newplot(title='Yeast fedbatch cultivation', plotType='Overview')\n",
        "par(F_start=0.044, mu_feed=0.20); simu(20)\n",
        "par(F_start=0.050, mu_feed=0.22); simu(20)\n",
        "par(F_start=0.057, mu_feed=0.26); simu(20)"
      ],
      "metadata": {
        "id": "EmXoRcXNsAJV"
      },
      "execution_count": null,
      "outputs": []
    },
    {
      "cell_type": "code",
      "source": [
        "# And let us see what happens if the feedprofile exceed the culture capacity\n",
        "newplot(title='Yeast fedbatch cultivation', plotType='Overview')\n",
        "par(F_start=0.057, mu_feed=0.26); simu(20)\n",
        "par(F_start=0.063, mu_feed=0.28); simu(20)\n",
        "par(F_start=0.044, mu_feed=0.20)"
      ],
      "metadata": {
        "id": "RchMl7-qsIDe"
      },
      "execution_count": null,
      "outputs": []
    },
    {
      "cell_type": "markdown",
      "source": [
        "Note that with the feedprofile that exceed culture respiratory capacity, ethanol is accumulated during time 8-12.5 hours. When the feedprofile then is constant from time 12.5 hours and on, then the accumulated ethanol is consumed over about an hour. This leads to a higher oxygen demand and heat production during this time. The specific cell growth rate is also slightly higher during this period."
      ],
      "metadata": {
        "id": "sd61TcBtsQEr"
      }
    },
    {
      "cell_type": "markdown",
      "source": [
        "**Exercise** You can investiate the impact of changing the maximal feedrate F_max. Make sure that the DO level do not get too low."
      ],
      "metadata": {
        "id": "k9nLGA4xVC_y"
      }
    },
    {
      "cell_type": "markdown",
      "source": [
        "## Make your own diagrams \n",
        "\n",
        "There are a couple of pre-defined plotType for the application that you make by the command newplot(). The command result in a list \"diagrams\" that desccrige the commands that make the plot when you call simu() or you just want to look at the last simulation again with a changed plotType using show().\n",
        "\n",
        "You can also in Jupyter notebook directly define the list \"diagrams\" and then that will be used for subsequent calls of simu() or show(). When you have made a diagram that you want to reuse many times you can bring it into the python-setup file and edit the newplot() commmand and add a new plotType. \n",
        "\n",
        "Below a few simple examples that show how to do a diagram directly i the notebook"
      ],
      "metadata": {
        "id": "iIHC4llbVIzL"
      }
    },
    {
      "cell_type": "code",
      "source": [
        "# First decrease the diagram size\n",
        "plt.rcParams['figure.figsize'] = [24/2.54, 20/2.54]"
      ],
      "metadata": {
        "id": "na2ITT5KVNxe"
      },
      "execution_count": null,
      "outputs": []
    },
    {
      "cell_type": "code",
      "source": [
        "# Improvise and make your own diagram - cell concentration in a logaritmic plot\n",
        "plt.figure()\n",
        "ax1 = plt.subplot(1,1,1)\n",
        "ax1.set_ylabel('X [g/L]')\n",
        "ax1.set_xlabel('Time [h]')\n",
        "ax1.grid()\n",
        "\n",
        "setLines()\n",
        "diagrams.clear()\n",
        "diagrams.append(\"ax1.semilogy(sim_res['time'], sim_res['bioreactor.c[1]'], color='b', linestyle=linetype)\")\n",
        "show()"
      ],
      "metadata": {
        "id": "KHXixPMmVYKA"
      },
      "execution_count": null,
      "outputs": []
    },
    {
      "cell_type": "code",
      "source": [
        "# - study the variation of Kla together with DO and N during cultivation\n",
        "plt.figure()\n",
        "ax1 = plt.subplot(3,1,1); ax2 = plt.subplot(3,1,2); ax3 = plt.subplot(3,1,3)\n",
        "ax1.set_ylabel('DO [%]'); ax1.grid()\n",
        "ax2.set_ylabel('Kla [1/h]'); ax2.grid()\n",
        "ax3.set_ylabel('N [rpm]'); ax3.grid()\n",
        "ax3.set_xlabel('Time [h]')\n",
        "\n",
        "setLines()\n",
        "diagrams.clear()\n",
        "diagrams.append(\"ax1.plot(sim_res['time'], sim_res['DOsensor.out'], color='b', linestyle=linetype)\")\n",
        "diagrams.append(\"ax2.plot(sim_res['time'], sim_res['bioreactor.gas_liquid_transfer.Kla_O2'], color='b', linestyle=linetype)\")\n",
        "diagrams.append(\"ax3.plot(sim_res['time'], sim_res['bioreactor.N'], color='c', linestyle=linetype)\")\n",
        "show()"
      ],
      "metadata": {
        "id": "tvyiLlSDVilv"
      },
      "execution_count": null,
      "outputs": []
    },
    {
      "cell_type": "markdown",
      "source": [
        "The relation is Kla = alpha_O2*N and we see the value of the parameter should be around 1.0, and we check below"
      ],
      "metadata": {
        "id": "6FjZz4OhVojT"
      }
    },
    {
      "cell_type": "code",
      "source": [
        "disp('bioreactor.gas_liquid_transfer.alpha_O2')"
      ],
      "metadata": {
        "id": "EA17rOwLVxB6"
      },
      "execution_count": null,
      "outputs": []
    },
    {
      "cell_type": "code",
      "source": [
        "# - study the relation qO2 vs qG(G) \n",
        "plt.figure()\n",
        "ax1 = plt.subplot(1,1,1)\n",
        "ax1.set_ylabel('qO2 []')\n",
        "ax1.set_xlabel('qG []')\n",
        "ax1.grid()\n",
        "\n",
        "setLines()\n",
        "diagrams.clear()\n",
        "diagrams.append(\"ax1.plot(sim_res['bioreactor.culture.qGm'], sim_res['bioreactor.culture.qO2'], 'b*')\")\n",
        "par(F_start=0.057, mu_feed=0.26)\n",
        "simu(20)"
      ],
      "metadata": {
        "id": "KNKltRjPV2ep"
      },
      "execution_count": null,
      "outputs": []
    },
    {
      "cell_type": "markdown",
      "source": [
        "During the cultivation we have a number of data points for qG and qO2 at the same time, during different conditions. What we see in the diagram is that qO2 increase with qG until qG reach a level of just above 0.0025 and then qO2 saturats for highter qG. This what expect to see.\n",
        "\n",
        "We also see that for lower qG we have also qO2 values at saturation level. This points correspond to a situation where ethanol is consumed with the remaining respiratory capacity. Glucose is consumed by priority."
      ],
      "metadata": {
        "id": "ihEX8uz4WAAQ"
      }
    },
    {
      "cell_type": "markdown",
      "source": [
        "## Summary\n",
        "* We have first seen an overview diagram of a typical yeast fedbatch cultivation where the feed started about an hour after the batch phase was finished. A new simulation was made where the feed started directly after detection of lack of substrate.\n",
        "* We also took a look at the DO-control system and saw that we could decrease the control error by increasing the PI-controller gain. Stability of the control system remained.\n",
        "* Then we tested variations in the feed dosage scheme and investigated the possibilities to increae the production.\n",
        "* We also saw what happens if the feed dosage exceed the culture respiratory capacity and what to look for during the experimental work.\n",
        "* Finally we saw some examples of how to improvise new diagrams."
      ],
      "metadata": {
        "id": "H9EH8AJzsqeE"
      }
    },
    {
      "cell_type": "markdown",
      "source": [
        "## References\n",
        "\n",
        "[1] Sonnleitner, B and O. Käppeli \"Growth of *Sacharomyces cerevisiae* is controlled by its limited respiratory capacity: formulationa and verification of a hypothesis\", Biotech. Bioeng., 1986."
      ],
      "metadata": {
        "id": "G3WXq7LYWOoa"
      }
    },
    {
      "cell_type": "markdown",
      "source": [
        "## Appendix"
      ],
      "metadata": {
        "id": "e0-nZNhzWVk0"
      }
    },
    {
      "cell_type": "code",
      "source": [
        "# List of components in the process setup and also a couple of other things like liquidphase and gasphase etc\n",
        "describe('parts')"
      ],
      "metadata": {
        "id": "RzuTVpRhsj0c"
      },
      "execution_count": null,
      "outputs": []
    },
    {
      "cell_type": "code",
      "source": [
        "system_info()"
      ],
      "metadata": {
        "id": "fr8YZScu7nNy"
      },
      "execution_count": null,
      "outputs": []
    },
    {
      "cell_type": "code",
      "source": [],
      "metadata": {
        "id": "FHx0NsS47ppj"
      },
      "execution_count": null,
      "outputs": []
    }
  ]
}