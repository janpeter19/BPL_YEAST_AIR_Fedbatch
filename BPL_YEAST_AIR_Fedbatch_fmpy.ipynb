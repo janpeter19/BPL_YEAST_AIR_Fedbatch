{
 "cells": [
  {
   "cell_type": "markdown",
   "id": "e8f3a528",
   "metadata": {},
   "source": [
    "# BPL_YEAST_AIR_Fedbatch - demo"
   ]
  },
  {
   "cell_type": "markdown",
   "id": "064cbebb",
   "metadata": {},
   "source": [
    "Author: Jan Peter Axelsson\n",
    "\n",
    "This notebook demonstrate yeast fedbatch cultivation. We look at impact of changes in the glucose feeding. We also take a look at tuning of the DO-control system. Both liquid- and gasphase are included in the model. The culture growth and metabolism are formulated in relation to to the respiratory capacity [1] and the model is exapanded to describe also the gas phase as well as  the culture heat production [2]. The model was derived mainly from continuous culture data but proved to capture dynamic aspects well of ethanol production and consumption [3]. \n",
    "\n",
    "Interaction with the compiled model as FMU is mainly through the simplified commands: par(), init(), newplot(), simu() etc. The last simulation is always available in the workspace and called 'sim_res'. The command describe() brings mainly up description infomration from the actual Modelica code from the FMU but is complemented with information given in the dedicated Python setup-file.\n",
    "\n",
    "The idea is to demonstrate how simulations and varyiing conditions can provide some process insight that can support the experimetnal work. I hope that at the end of this session you are ready to formulate your own questions you want to address with simulations - and you can just go on in this notebook! Just press the field \"+Code\" in the upper left part of notebook interface and you get a new \"cell\" where you write your own code. You can copy and paste from cells above using ctrol-c and ctrl-p as usual and edit the cell. When your are ready to execute the cell just press the \"play button\" to the left in the cell or press shift-enter as in \"ordinary\" Jupyter notebooks.\n",
    "\n",
    "After a session you may want to save your own notebook. That you can do on your Google Drive account and I refer to Colab instructions for how to do this. It is easy. \n",
    "\n",
    "Enjoy!"
   ]
  },
  {
   "cell_type": "code",
   "execution_count": 1,
   "id": "4ffa658d",
   "metadata": {},
   "outputs": [
    {
     "name": "stdout",
     "output_type": "stream",
     "text": [
      "Windows - run FMU pre-compiled JModelica 2.14\n",
      "\n",
      "Model for bioreactor has been setup. Key commands:\n",
      " - par()       - change of parameters and initial values\n",
      " - init()      - change initial values only\n",
      " - simu()      - simulate and plot\n",
      " - newplot()   - make a new plot\n",
      " - show()      - show plot from previous simulation\n",
      " - disp()      - display parameters and initial values from the last simulation\n",
      " - describe()  - describe culture, broth, parameters, variables with values/units\n",
      "\n",
      "Note that both disp() and describe() takes values from the last simulation\n",
      "and the command process_diagram() brings up the main configuration\n",
      "\n",
      "Brief information about a command by help(), eg help(simu)\n",
      "Key system information is listed with the command system_info()\n"
     ]
    }
   ],
   "source": [
    "run -i BPL_YEAST_AIR_Fedbatch_DOcontrol_fmpy_explore.py"
   ]
  },
  {
   "cell_type": "code",
   "execution_count": 2,
   "id": "2ac8d42a",
   "metadata": {},
   "outputs": [],
   "source": [
    "plt.rcParams['figure.figsize'] = [36/2.54, 30/2.54]"
   ]
  },
  {
   "cell_type": "markdown",
   "id": "732039de",
   "metadata": {},
   "source": [
    "## About the process model\n",
    "\n",
    "We can get information about the process, liquid- and gas-phase by the command describe(). This command can also be used to bring up information about a specific variable or parameter. However, you should use describe() after a simulation to get the valued used during the simulation."
   ]
  },
  {
   "cell_type": "code",
   "execution_count": 3,
   "id": "acc0d5bb",
   "metadata": {},
   "outputs": [
    {
     "name": "stdout",
     "output_type": "stream",
     "text": [
      "Saccharomyces cerevisae - default parameters for strain H1022\n",
      "\n"
     ]
    }
   ],
   "source": [
    "describe('culture'); print(); #describe('liquidphase'); print(); describe('gasphase')"
   ]
  },
  {
   "cell_type": "markdown",
   "id": "e0e3f1dc",
   "metadata": {},
   "source": [
    "The model of the process has parameters both for culture, gas_liquid_transfer, as well as feeding procedure. The paramters that are available for changes you find by the command disp() and you get a long list and you change by them by command par(). The model has even more parameters in the background but not made available for interaction. "
   ]
  },
  {
   "cell_type": "code",
   "execution_count": 4,
   "id": "1e9d1d86-1e3a-4d3a-b50c-0179844ffb5a",
   "metadata": {},
   "outputs": [
    {
     "ename": "NameError",
     "evalue": "name 'process_model' is not defined",
     "output_type": "error",
     "traceback": [
      "\u001b[1;31m---------------------------------------------------------------------------\u001b[0m",
      "\u001b[1;31mNameError\u001b[0m                                 Traceback (most recent call last)",
      "Cell \u001b[1;32mIn [4], line 1\u001b[0m\n\u001b[1;32m----> 1\u001b[0m \u001b[43mprocess_model\u001b[49m()\n",
      "\u001b[1;31mNameError\u001b[0m: name 'process_model' is not defined"
     ]
    }
   ],
   "source": [
    "process_model()"
   ]
  },
  {
   "cell_type": "markdown",
   "id": "256337ca",
   "metadata": {},
   "source": [
    "## First simulations - adjusting start of substrate feeding"
   ]
  },
  {
   "cell_type": "code",
   "execution_count": null,
   "id": "b42c69e1",
   "metadata": {},
   "outputs": [],
   "source": [
    "# Culture parameters and others at default values\n",
    "par(qO2lim=0.0069) \n",
    "\n",
    "# Process initial conditions\n",
    "init(V_start=4.5, VG_start=4.5*30, VX_start=4.5*2, VE_start=4.5*0) \n",
    "\n",
    "# Feed profile\n",
    "par(t_startExp=9, F_startExp=0.044, mu_feed=0.20, F_max=0.18)  \n",
    "\n",
    "# DO-control parameters\n",
    "#par(samplePeriod=1/60, K=10, Ti=0.5, I_0=500)   \n",
    "par(K=10, Ti=0.5, I_0=0)   \n",
    "\n",
    "# Simulate and plot\n",
    "newplot(title='Yeast fedbatch cultivation', plotType='Overview')\n",
    "simu(20)"
   ]
  },
  {
   "cell_type": "markdown",
   "id": "5d99c20b",
   "metadata": {},
   "source": [
    "Now we can get value of broth volume as well as the headspace and values are the last ones in the simulation"
   ]
  },
  {
   "cell_type": "code",
   "execution_count": null,
   "id": "8b803ffe",
   "metadata": {},
   "outputs": [],
   "source": [
    "describe('bioreactor.V')"
   ]
  },
  {
   "cell_type": "code",
   "execution_count": null,
   "id": "42db6343",
   "metadata": {},
   "outputs": [],
   "source": [
    "describe('bioreactor.V_gasphase')"
   ]
  },
  {
   "cell_type": "code",
   "execution_count": null,
   "id": "f40e0912",
   "metadata": {},
   "outputs": [],
   "source": [
    "# Take a look at the parameters available to adjust the dosage scheme\n",
    "disp('dosage', decimals=4)"
   ]
  },
  {
   "cell_type": "code",
   "execution_count": null,
   "id": "b9312bd4",
   "metadata": {},
   "outputs": [],
   "source": [
    "# Let us start the feeding just after the batch phase has ended and keep other parameters the same\n",
    "par(t_startExp=8.1)\n",
    "\n",
    "# Simulate and plot\n",
    "newplot(title='Yeast fedbatch cultivation', plotType='Overview')\n",
    "simu(20)"
   ]
  },
  {
   "cell_type": "markdown",
   "id": "a7daaaa8",
   "metadata": {},
   "source": [
    "The increase of DO to about 50 % at end of batch phase should be possible to detect easily. This simulation is more realistic and we use these settings from now on."
   ]
  },
  {
   "cell_type": "markdown",
   "id": "569beaed",
   "metadata": {},
   "source": [
    "## DO-control  - tuning of PI-regulator parameters\n",
    "\n",
    "Let us focus on the DO-control system and choose a more limited plotType. We study the impact of PI control parameters and see if we can decrease the control error without looing stability."
   ]
  },
  {
   "cell_type": "code",
   "execution_count": null,
   "id": "73040758",
   "metadata": {},
   "outputs": [],
   "source": [
    "# Let us take a closer look at the DO-control system and try to make control error smaller by increaseing K\n",
    "newplot(title='Yeast fedbatch cultivation - DO-control - increase K', plotType='Focus DO-control')\n",
    "for value in [10, 20, 40]: par(K=value); simu(20)\n",
    "\n",
    "# Reset K to the original value\n",
    "par(K=10)"
   ]
  },
  {
   "cell_type": "markdown",
   "id": "ca51b365",
   "metadata": {},
   "source": [
    "We see that by a higher control gain K the DO-control error get smaller and the stability of the control system is maintained."
   ]
  },
  {
   "cell_type": "code",
   "execution_count": null,
   "id": "c3849917-ac6a-4507-9ff7-2fe156e592d0",
   "metadata": {},
   "outputs": [],
   "source": [
    "diagrams"
   ]
  },
  {
   "cell_type": "markdown",
   "id": "399c1aa1",
   "metadata": {},
   "source": [
    "**Exercise** I leave for you to study the impact variation of the Ti-parameter. Just make a new cell below. Then copy and paste the cell above and change parameter to Ti."
   ]
  },
  {
   "cell_type": "markdown",
   "id": "d883a64b",
   "metadata": {},
   "source": [
    "## Sensitivity to changes in feed-profile\n",
    "\n",
    "Now, let us focus on investigating impact of changes in the feed-profile. The goal is to increase the produced cell mass without accumulation of by-product ethanol. Simulation can bring some insight into how behaviour of the differen variables change when by-product is formed. This insight can help to interpret experimental results."
   ]
  },
  {
   "cell_type": "code",
   "execution_count": null,
   "id": "d46509ca",
   "metadata": {},
   "outputs": [],
   "source": [
    "# Let us check the sensitivity to changes in the feed profile design\n",
    "newplot(title='Yeast fedbatch cultivation', plotType='Overview')\n",
    "for value in [0.044, 0.038, 0.050]: par(F_startExp=value); simu(20)"
   ]
  },
  {
   "cell_type": "markdown",
   "id": "3cbba88f",
   "metadata": {},
   "source": [
    "The variation in F_start has an impact and we see that the actual growth rate during fedbatch phase do converge to the set growth rate of the feed, but i takes more than 5 hours."
   ]
  },
  {
   "cell_type": "code",
   "execution_count": null,
   "id": "45ed9d80",
   "metadata": {},
   "outputs": [],
   "source": [
    "# Let us investigate a feedprofile that is closer to the maximal capacity\n",
    "newplot(title='Yeast fedbatch cultivation', plotType='Overview')\n",
    "par(F_startExp=0.044, mu_feed=0.20); simu(20)\n",
    "par(F_startExp=0.050, mu_feed=0.22); simu(20)\n",
    "par(F_startExp=0.057, mu_feed=0.26); simu(20)"
   ]
  },
  {
   "cell_type": "code",
   "execution_count": null,
   "id": "38d879b6",
   "metadata": {},
   "outputs": [],
   "source": [
    "# And let us see what happens if the feedprofile exceed the culture capacity\n",
    "newplot(title='Yeast fedbatch cultivation', plotType='Overview')\n",
    "par(F_startExp=0.057, mu_feed=0.26); simu(20)\n",
    "par(F_startExp=0.063, mu_feed=0.28); simu(20)\n",
    "par(F_startExp=0.044, mu_feed=0.20)"
   ]
  },
  {
   "cell_type": "markdown",
   "id": "1af6e527",
   "metadata": {},
   "source": [
    "Note that with the feedprofile that exceed culture respiratory capacity, ethanol is accumulated during time 8-12.5 hours. When the feedprofile then is constant from time 12.5 hours and on, then the accumulated ethanol is consumed over about an hour. This leads to a higher oxygen demand and heat production during this time. The specific cell growth rate is also slightly higher during this period."
   ]
  },
  {
   "cell_type": "markdown",
   "id": "d1a0c114",
   "metadata": {},
   "source": [
    "**Exercise** You can investiate the impact of changing the maximal feedrate F_max. Make sure that the DO level do not get too low."
   ]
  },
  {
   "cell_type": "code",
   "execution_count": null,
   "id": "000b8482-4ebb-4bf7-84d2-02c77133765d",
   "metadata": {},
   "outputs": [],
   "source": [
    "# Check of simu('cont')\n",
    "newplot(title='Yeast fedbatch cultivation', plotType='Overview')\n",
    "par(F_startExp=0.057, mu_feed=0.26); simu(10)\n",
    "simu(10,'cont')"
   ]
  },
  {
   "cell_type": "markdown",
   "id": "b49884b9",
   "metadata": {},
   "source": [
    "## Make your own diagrams \n",
    "\n",
    "There are a couple of pre-defined plotType for the application that you make by the command newplot(). The command result in a list \"diagrams\" that desccrige the commands that make the plot when you call simu() or you just want to look at the last simulation again with a changed plotType using show().\n",
    "\n",
    "You can also in Jupyter notebook directly define the list \"diagrams\" and then that will be used for subsequent calls of simu() or show(). When you have made a diagram that you want to reuse many times you can bring it into the python-setup file and edit the newplot() commmand and add a new plotType. \n",
    "\n",
    "Below a few simple examples that show how to do a diagram directly i the notebook"
   ]
  },
  {
   "cell_type": "code",
   "execution_count": null,
   "id": "64cd505d",
   "metadata": {},
   "outputs": [],
   "source": [
    "# First decrease the diagram size\n",
    "plt.rcParams['figure.figsize'] = [24/2.54, 20/2.54]"
   ]
  },
  {
   "cell_type": "code",
   "execution_count": null,
   "id": "d8636504",
   "metadata": {},
   "outputs": [],
   "source": [
    "# Improvise and make your own diagram - cell concentration in a logaritmic plot\n",
    "plt.figure()\n",
    "ax1 = plt.subplot(1,1,1)\n",
    "ax1.set_ylabel('X [g/L]')\n",
    "ax1.set_xlabel('Time [h]')\n",
    "ax1.grid()\n",
    "\n",
    "setLines()\n",
    "diagrams.clear()\n",
    "diagrams.append(\"ax1.semilogy(sim_res['time'], sim_res['bioreactor.c[1]'], color='b', linestyle=linetype)\")\n",
    "show()"
   ]
  },
  {
   "cell_type": "code",
   "execution_count": null,
   "id": "23435a27",
   "metadata": {},
   "outputs": [],
   "source": [
    "# - study the variation of Kla together with DO and N during cultivation\n",
    "plt.figure()\n",
    "ax1 = plt.subplot(3,1,1); ax2 = plt.subplot(3,1,2); ax3 = plt.subplot(3,1,3)\n",
    "ax1.set_ylabel('DO [%]'); ax1.grid()\n",
    "ax2.set_ylabel('Kla [1/h]'); ax2.grid()\n",
    "ax3.set_ylabel('N [rpm]'); ax3.grid()\n",
    "ax3.set_xlabel('Time [h]')\n",
    "\n",
    "setLines()\n",
    "diagrams.clear()\n",
    "diagrams.append(\"ax1.plot(sim_res['time'], sim_res['DOsensor.out'], color='b', linestyle=linetype)\")\n",
    "diagrams.append(\"ax2.plot(sim_res['time'], sim_res['bioreactor.gas_liquid_transfer.Kla_O2'], color='b', linestyle=linetype)\")\n",
    "diagrams.append(\"ax3.plot(sim_res['time'], sim_res['bioreactor.N'], color='c', linestyle=linetype)\")\n",
    "show()"
   ]
  },
  {
   "cell_type": "markdown",
   "id": "3c25f58e",
   "metadata": {},
   "source": [
    "The relation is Kla = alpha_O2*N and we see the value of the parameter should be around 1.0, and we check below"
   ]
  },
  {
   "cell_type": "code",
   "execution_count": null,
   "id": "30509a24",
   "metadata": {},
   "outputs": [],
   "source": [
    "disp('bioreactor.gas_liquid_transfer.alpha_O2')"
   ]
  },
  {
   "cell_type": "code",
   "execution_count": null,
   "id": "f477faa8",
   "metadata": {},
   "outputs": [],
   "source": [
    "# - study the relation qO2 vs qG(G) \n",
    "plt.figure()\n",
    "ax1 = plt.subplot(1,1,1)\n",
    "ax1.set_ylabel('qO2 []')\n",
    "ax1.set_xlabel('qG []')\n",
    "ax1.grid()\n",
    "\n",
    "setLines()\n",
    "diagrams.clear()\n",
    "diagrams.append(\"ax1.plot(sim_res['bioreactor.culture.qGm'], sim_res['bioreactor.culture.qO2'], 'b*')\")\n",
    "par(F_start=0.057, mu_feed=0.26)\n",
    "simu(20)"
   ]
  },
  {
   "cell_type": "markdown",
   "id": "e3245b4e",
   "metadata": {},
   "source": [
    "During the cultivation we have a number of data points for qG and qO2 at the same time, during different conditions. What we see in the diagram is that qO2 increase with qG until qG reach a level of just above 0.0025 and then qO2 saturats for highter qG. This what expect to see.\n",
    "\n",
    "We also see that for lower qG we have also qO2 values at saturation level. This points correspond to a situation where ethanol is consumed with the remaining respiratory capacity. Glucose is consumed by priority."
   ]
  },
  {
   "cell_type": "markdown",
   "id": "89bd94e2",
   "metadata": {},
   "source": [
    "## Summary\n",
    "* We have first seen an overview diagram of a typical yeast fedbatch cultivation where the feed started about an hour after the batch phase was finished. A new simulation was made where the feed started directly after detection of lack of substrate.\n",
    "* We also took a look at the DO-control system and saw that we could decrease the control error by increasing the PI-controller gain. Stability of the control system remained.\n",
    "* Then we tested variations in the feed dosage scheme and investigated the possibilities to increae the production.\n",
    "* We also saw what happens if the feed dosage exceed the culture respiratory capacity and what to look for during the experimental work.\n",
    "* Finally we saw some examples of how to improvise new diagrams."
   ]
  },
  {
   "cell_type": "markdown",
   "id": "8193cd9f",
   "metadata": {},
   "source": [
    "## References\n",
    "\n",
    "[1] Sonnleitner, B. and O. Käppeli \"Growth of *Sacharomyces cerevisiae* is controlled by its limited respiratory capacity: formulationa and verification of a hypothesis\", Biotech. Bioeng., 1986.\n",
    "\n",
    "[2] von Stockar, U., Gustafsson, L., Larsson, C., Marison, I., Tissot, P. and Gnaiger E. \"Thermodynamic considerations in constructing energy balances for cellular growth\", Biochimica et Biophysics Acta, vol 1183, p 221-240, 1993. \n",
    "\n",
    "[3] Axelsson, J. P. \"Experimental techniques and data analysis to dtermine baker's yeast ethanol dynamics\", Anal. Chim. Acta, vol 213, p 151-163, 1988."
   ]
  },
  {
   "cell_type": "markdown",
   "id": "e15285fd",
   "metadata": {},
   "source": [
    "## Appendix"
   ]
  },
  {
   "cell_type": "code",
   "execution_count": null,
   "id": "ab9585d9",
   "metadata": {},
   "outputs": [],
   "source": [
    "disp('culture')"
   ]
  },
  {
   "cell_type": "code",
   "execution_count": null,
   "id": "c2437659",
   "metadata": {},
   "outputs": [],
   "source": [
    "describe('mu')"
   ]
  },
  {
   "cell_type": "code",
   "execution_count": null,
   "id": "3bb43695",
   "metadata": {},
   "outputs": [],
   "source": [
    "# List of components in the process setup and also a couple of other things like liquidphase and gasphase etc\n",
    "describe('parts')"
   ]
  },
  {
   "cell_type": "code",
   "execution_count": null,
   "id": "97440bea",
   "metadata": {},
   "outputs": [],
   "source": [
    "describe('MSL')"
   ]
  },
  {
   "cell_type": "code",
   "execution_count": null,
   "id": "59822bcc",
   "metadata": {},
   "outputs": [],
   "source": [
    "system_info()"
   ]
  },
  {
   "cell_type": "code",
   "execution_count": null,
   "id": "a5722b92-ee69-4991-be1b-424c8626207c",
   "metadata": {},
   "outputs": [],
   "source": []
  }
 ],
 "metadata": {
  "kernelspec": {
   "display_name": "Python 3 (ipykernel)",
   "language": "python",
   "name": "python3"
  },
  "language_info": {
   "codemirror_mode": {
    "name": "ipython",
    "version": 3
   },
   "file_extension": ".py",
   "mimetype": "text/x-python",
   "name": "python",
   "nbconvert_exporter": "python",
   "pygments_lexer": "ipython3",
   "version": "3.9.16"
  }
 },
 "nbformat": 4,
 "nbformat_minor": 5
}
